{
 "cells": [
  {
   "cell_type": "markdown",
   "metadata": {},
   "source": [
    "## California Housing Price\n",
    "- predict median price per district\n",
    "- model: regression/labeled supervised learning\n",
    "- dataset: https://github.com/ageron/handson-ml2/tree/master/datasets/housing"
   ]
  },
  {
   "cell_type": "markdown",
   "metadata": {},
   "source": [
    "### 1. Read Data"
   ]
  },
  {
   "cell_type": "code",
   "execution_count": 27,
   "metadata": {},
   "outputs": [],
   "source": [
    "import numpy as np\n",
    "import pandas as pd\n",
    "import seaborn as sns\n",
    "import matplotlib.pyplot as plt\n",
    "%matplotlib inline\n",
    "import warnings\n",
    "warnings.filterwarnings('ignore')\n",
    "\n",
    "import tensorflow as tf\n",
    "from tensorflow import feature_column\n",
    "from tensorflow.keras import layers"
   ]
  },
  {
   "cell_type": "code",
   "execution_count": 61,
   "metadata": {},
   "outputs": [
    {
     "data": {
      "text/html": [
       "<div>\n",
       "<style scoped>\n",
       "    .dataframe tbody tr th:only-of-type {\n",
       "        vertical-align: middle;\n",
       "    }\n",
       "\n",
       "    .dataframe tbody tr th {\n",
       "        vertical-align: top;\n",
       "    }\n",
       "\n",
       "    .dataframe thead th {\n",
       "        text-align: right;\n",
       "    }\n",
       "</style>\n",
       "<table border=\"1\" class=\"dataframe\">\n",
       "  <thead>\n",
       "    <tr style=\"text-align: right;\">\n",
       "      <th></th>\n",
       "      <th>longitude</th>\n",
       "      <th>latitude</th>\n",
       "      <th>housing_median_age</th>\n",
       "      <th>total_rooms</th>\n",
       "      <th>total_bedrooms</th>\n",
       "      <th>population</th>\n",
       "      <th>households</th>\n",
       "      <th>median_income</th>\n",
       "      <th>median_house_value</th>\n",
       "      <th>ocean_proximity</th>\n",
       "    </tr>\n",
       "  </thead>\n",
       "  <tbody>\n",
       "    <tr>\n",
       "      <th>0</th>\n",
       "      <td>-122.23</td>\n",
       "      <td>37.88</td>\n",
       "      <td>41.0</td>\n",
       "      <td>880.0</td>\n",
       "      <td>129.0</td>\n",
       "      <td>322.0</td>\n",
       "      <td>126.0</td>\n",
       "      <td>8.3252</td>\n",
       "      <td>452.6</td>\n",
       "      <td>NEAR BAY</td>\n",
       "    </tr>\n",
       "    <tr>\n",
       "      <th>1</th>\n",
       "      <td>-122.22</td>\n",
       "      <td>37.86</td>\n",
       "      <td>21.0</td>\n",
       "      <td>7099.0</td>\n",
       "      <td>1106.0</td>\n",
       "      <td>2401.0</td>\n",
       "      <td>1138.0</td>\n",
       "      <td>8.3014</td>\n",
       "      <td>358.5</td>\n",
       "      <td>NEAR BAY</td>\n",
       "    </tr>\n",
       "    <tr>\n",
       "      <th>2</th>\n",
       "      <td>-122.24</td>\n",
       "      <td>37.85</td>\n",
       "      <td>52.0</td>\n",
       "      <td>1467.0</td>\n",
       "      <td>190.0</td>\n",
       "      <td>496.0</td>\n",
       "      <td>177.0</td>\n",
       "      <td>7.2574</td>\n",
       "      <td>352.1</td>\n",
       "      <td>NEAR BAY</td>\n",
       "    </tr>\n",
       "    <tr>\n",
       "      <th>3</th>\n",
       "      <td>-122.25</td>\n",
       "      <td>37.85</td>\n",
       "      <td>52.0</td>\n",
       "      <td>1274.0</td>\n",
       "      <td>235.0</td>\n",
       "      <td>558.0</td>\n",
       "      <td>219.0</td>\n",
       "      <td>5.6431</td>\n",
       "      <td>341.3</td>\n",
       "      <td>NEAR BAY</td>\n",
       "    </tr>\n",
       "    <tr>\n",
       "      <th>4</th>\n",
       "      <td>-122.25</td>\n",
       "      <td>37.85</td>\n",
       "      <td>52.0</td>\n",
       "      <td>1627.0</td>\n",
       "      <td>280.0</td>\n",
       "      <td>565.0</td>\n",
       "      <td>259.0</td>\n",
       "      <td>3.8462</td>\n",
       "      <td>342.2</td>\n",
       "      <td>NEAR BAY</td>\n",
       "    </tr>\n",
       "  </tbody>\n",
       "</table>\n",
       "</div>"
      ],
      "text/plain": [
       "   longitude  latitude  housing_median_age  total_rooms  total_bedrooms  \\\n",
       "0    -122.23     37.88                41.0        880.0           129.0   \n",
       "1    -122.22     37.86                21.0       7099.0          1106.0   \n",
       "2    -122.24     37.85                52.0       1467.0           190.0   \n",
       "3    -122.25     37.85                52.0       1274.0           235.0   \n",
       "4    -122.25     37.85                52.0       1627.0           280.0   \n",
       "\n",
       "   population  households  median_income  median_house_value ocean_proximity  \n",
       "0       322.0       126.0         8.3252               452.6        NEAR BAY  \n",
       "1      2401.0      1138.0         8.3014               358.5        NEAR BAY  \n",
       "2       496.0       177.0         7.2574               352.1        NEAR BAY  \n",
       "3       558.0       219.0         5.6431               341.3        NEAR BAY  \n",
       "4       565.0       259.0         3.8462               342.2        NEAR BAY  "
      ]
     },
     "execution_count": 61,
     "metadata": {},
     "output_type": "execute_result"
    }
   ],
   "source": [
    "df=pd.read_csv(\"california_housing.csv\")\n",
    "df['median_house_value']/=1000\n",
    "df.head()"
   ]
  },
  {
   "cell_type": "code",
   "execution_count": 62,
   "metadata": {},
   "outputs": [
    {
     "data": {
      "text/plain": [
       "(20640, 10)"
      ]
     },
     "execution_count": 62,
     "metadata": {},
     "output_type": "execute_result"
    }
   ],
   "source": [
    "df.shape"
   ]
  },
  {
   "cell_type": "code",
   "execution_count": 63,
   "metadata": {},
   "outputs": [
    {
     "data": {
      "text/plain": [
       "longitude               0\n",
       "latitude                0\n",
       "housing_median_age      0\n",
       "total_rooms             0\n",
       "total_bedrooms        207\n",
       "population              0\n",
       "households              0\n",
       "median_income           0\n",
       "median_house_value      0\n",
       "ocean_proximity         0\n",
       "dtype: int64"
      ]
     },
     "execution_count": 63,
     "metadata": {},
     "output_type": "execute_result"
    }
   ],
   "source": [
    "df.isna().sum()\n",
    "#total_badrooms 207/20640 is missing"
   ]
  },
  {
   "cell_type": "code",
   "execution_count": 64,
   "metadata": {},
   "outputs": [
    {
     "data": {
      "text/plain": [
       "longitude             0\n",
       "latitude              0\n",
       "housing_median_age    0\n",
       "total_rooms           0\n",
       "total_bedrooms        0\n",
       "population            0\n",
       "households            0\n",
       "median_income         0\n",
       "median_house_value    0\n",
       "ocean_proximity       0\n",
       "dtype: int64"
      ]
     },
     "execution_count": 64,
     "metadata": {},
     "output_type": "execute_result"
    }
   ],
   "source": [
    "df=df.dropna()\n",
    "df.isna().sum()"
   ]
  },
  {
   "cell_type": "markdown",
   "metadata": {},
   "source": [
    "### 2. Data Exploration"
   ]
  },
  {
   "cell_type": "code",
   "execution_count": 65,
   "metadata": {},
   "outputs": [
    {
     "data": {
      "text/html": [
       "<div>\n",
       "<style scoped>\n",
       "    .dataframe tbody tr th:only-of-type {\n",
       "        vertical-align: middle;\n",
       "    }\n",
       "\n",
       "    .dataframe tbody tr th {\n",
       "        vertical-align: top;\n",
       "    }\n",
       "\n",
       "    .dataframe thead th {\n",
       "        text-align: right;\n",
       "    }\n",
       "</style>\n",
       "<table border=\"1\" class=\"dataframe\">\n",
       "  <thead>\n",
       "    <tr style=\"text-align: right;\">\n",
       "      <th></th>\n",
       "      <th>longitude</th>\n",
       "      <th>latitude</th>\n",
       "      <th>housing_median_age</th>\n",
       "      <th>total_rooms</th>\n",
       "      <th>total_bedrooms</th>\n",
       "      <th>population</th>\n",
       "      <th>households</th>\n",
       "      <th>median_income</th>\n",
       "      <th>median_house_value</th>\n",
       "    </tr>\n",
       "  </thead>\n",
       "  <tbody>\n",
       "    <tr>\n",
       "      <th>count</th>\n",
       "      <td>20433.000000</td>\n",
       "      <td>20433.000000</td>\n",
       "      <td>20433.000000</td>\n",
       "      <td>20433.000000</td>\n",
       "      <td>20433.000000</td>\n",
       "      <td>20433.000000</td>\n",
       "      <td>20433.000000</td>\n",
       "      <td>20433.000000</td>\n",
       "      <td>20433.000000</td>\n",
       "    </tr>\n",
       "    <tr>\n",
       "      <th>mean</th>\n",
       "      <td>-119.570689</td>\n",
       "      <td>35.633221</td>\n",
       "      <td>28.633094</td>\n",
       "      <td>2636.504233</td>\n",
       "      <td>537.870553</td>\n",
       "      <td>1424.946949</td>\n",
       "      <td>499.433465</td>\n",
       "      <td>3.871162</td>\n",
       "      <td>206.864413</td>\n",
       "    </tr>\n",
       "    <tr>\n",
       "      <th>std</th>\n",
       "      <td>2.003578</td>\n",
       "      <td>2.136348</td>\n",
       "      <td>12.591805</td>\n",
       "      <td>2185.269567</td>\n",
       "      <td>421.385070</td>\n",
       "      <td>1133.208490</td>\n",
       "      <td>382.299226</td>\n",
       "      <td>1.899291</td>\n",
       "      <td>115.435667</td>\n",
       "    </tr>\n",
       "    <tr>\n",
       "      <th>min</th>\n",
       "      <td>-124.350000</td>\n",
       "      <td>32.540000</td>\n",
       "      <td>1.000000</td>\n",
       "      <td>2.000000</td>\n",
       "      <td>1.000000</td>\n",
       "      <td>3.000000</td>\n",
       "      <td>1.000000</td>\n",
       "      <td>0.499900</td>\n",
       "      <td>14.999000</td>\n",
       "    </tr>\n",
       "    <tr>\n",
       "      <th>25%</th>\n",
       "      <td>-121.800000</td>\n",
       "      <td>33.930000</td>\n",
       "      <td>18.000000</td>\n",
       "      <td>1450.000000</td>\n",
       "      <td>296.000000</td>\n",
       "      <td>787.000000</td>\n",
       "      <td>280.000000</td>\n",
       "      <td>2.563700</td>\n",
       "      <td>119.500000</td>\n",
       "    </tr>\n",
       "    <tr>\n",
       "      <th>50%</th>\n",
       "      <td>-118.490000</td>\n",
       "      <td>34.260000</td>\n",
       "      <td>29.000000</td>\n",
       "      <td>2127.000000</td>\n",
       "      <td>435.000000</td>\n",
       "      <td>1166.000000</td>\n",
       "      <td>409.000000</td>\n",
       "      <td>3.536500</td>\n",
       "      <td>179.700000</td>\n",
       "    </tr>\n",
       "    <tr>\n",
       "      <th>75%</th>\n",
       "      <td>-118.010000</td>\n",
       "      <td>37.720000</td>\n",
       "      <td>37.000000</td>\n",
       "      <td>3143.000000</td>\n",
       "      <td>647.000000</td>\n",
       "      <td>1722.000000</td>\n",
       "      <td>604.000000</td>\n",
       "      <td>4.744000</td>\n",
       "      <td>264.700000</td>\n",
       "    </tr>\n",
       "    <tr>\n",
       "      <th>max</th>\n",
       "      <td>-114.310000</td>\n",
       "      <td>41.950000</td>\n",
       "      <td>52.000000</td>\n",
       "      <td>39320.000000</td>\n",
       "      <td>6445.000000</td>\n",
       "      <td>35682.000000</td>\n",
       "      <td>6082.000000</td>\n",
       "      <td>15.000100</td>\n",
       "      <td>500.001000</td>\n",
       "    </tr>\n",
       "  </tbody>\n",
       "</table>\n",
       "</div>"
      ],
      "text/plain": [
       "          longitude      latitude  housing_median_age   total_rooms  \\\n",
       "count  20433.000000  20433.000000        20433.000000  20433.000000   \n",
       "mean    -119.570689     35.633221           28.633094   2636.504233   \n",
       "std        2.003578      2.136348           12.591805   2185.269567   \n",
       "min     -124.350000     32.540000            1.000000      2.000000   \n",
       "25%     -121.800000     33.930000           18.000000   1450.000000   \n",
       "50%     -118.490000     34.260000           29.000000   2127.000000   \n",
       "75%     -118.010000     37.720000           37.000000   3143.000000   \n",
       "max     -114.310000     41.950000           52.000000  39320.000000   \n",
       "\n",
       "       total_bedrooms    population    households  median_income  \\\n",
       "count    20433.000000  20433.000000  20433.000000   20433.000000   \n",
       "mean       537.870553   1424.946949    499.433465       3.871162   \n",
       "std        421.385070   1133.208490    382.299226       1.899291   \n",
       "min          1.000000      3.000000      1.000000       0.499900   \n",
       "25%        296.000000    787.000000    280.000000       2.563700   \n",
       "50%        435.000000   1166.000000    409.000000       3.536500   \n",
       "75%        647.000000   1722.000000    604.000000       4.744000   \n",
       "max       6445.000000  35682.000000   6082.000000      15.000100   \n",
       "\n",
       "       median_house_value  \n",
       "count        20433.000000  \n",
       "mean           206.864413  \n",
       "std            115.435667  \n",
       "min             14.999000  \n",
       "25%            119.500000  \n",
       "50%            179.700000  \n",
       "75%            264.700000  \n",
       "max            500.001000  "
      ]
     },
     "execution_count": 65,
     "metadata": {},
     "output_type": "execute_result"
    }
   ],
   "source": [
    "df.describe()"
   ]
  },
  {
   "cell_type": "markdown",
   "metadata": {},
   "source": [
    "#### Take away:\n",
    "- comparing to 75%, max for `total_rooms`, `population`, `households` need a further check.\n",
    "- abnormal data for target col `median_house_value`."
   ]
  },
  {
   "cell_type": "code",
   "execution_count": 66,
   "metadata": {},
   "outputs": [],
   "source": [
    "df=df[(df.total_rooms<=5000)&(df.total_bedrooms<=1000)&(df.population<=2500)&(df.households<=1000)&\n",
    "      (df.median_income<=8)&(df.median_house_value<500)]\n",
    "\n",
    "#df.median_house_value.hist(bins=100)\n",
    "#df.total_bedrooms.hist(bins=100)\n",
    "#df.median_income.hist(bins=100)\n",
    "#df.total_rooms.hist(bins=100)\n",
    "#df.population.hist(bins=100)\n",
    "#df.households.hist(bins=100)"
   ]
  },
  {
   "cell_type": "code",
   "execution_count": 67,
   "metadata": {},
   "outputs": [
    {
     "data": {
      "text/html": [
       "<div>\n",
       "<style scoped>\n",
       "    .dataframe tbody tr th:only-of-type {\n",
       "        vertical-align: middle;\n",
       "    }\n",
       "\n",
       "    .dataframe tbody tr th {\n",
       "        vertical-align: top;\n",
       "    }\n",
       "\n",
       "    .dataframe thead th {\n",
       "        text-align: right;\n",
       "    }\n",
       "</style>\n",
       "<table border=\"1\" class=\"dataframe\">\n",
       "  <thead>\n",
       "    <tr style=\"text-align: right;\">\n",
       "      <th></th>\n",
       "      <th>longitude</th>\n",
       "      <th>latitude</th>\n",
       "      <th>housing_median_age</th>\n",
       "      <th>total_rooms</th>\n",
       "      <th>total_bedrooms</th>\n",
       "      <th>population</th>\n",
       "      <th>households</th>\n",
       "      <th>median_income</th>\n",
       "      <th>median_house_value</th>\n",
       "    </tr>\n",
       "  </thead>\n",
       "  <tbody>\n",
       "    <tr>\n",
       "      <th>0</th>\n",
       "      <td>-1.304883</td>\n",
       "      <td>0.979618</td>\n",
       "      <td>1.812895</td>\n",
       "      <td>-0.581462</td>\n",
       "      <td>-1.176249</td>\n",
       "      <td>-1.202281</td>\n",
       "      <td>-1.189649</td>\n",
       "      <td>2.533741</td>\n",
       "      <td>1.723464</td>\n",
       "    </tr>\n",
       "    <tr>\n",
       "      <th>1</th>\n",
       "      <td>-1.309868</td>\n",
       "      <td>0.979618</td>\n",
       "      <td>1.812895</td>\n",
       "      <td>-0.778082</td>\n",
       "      <td>-0.946837</td>\n",
       "      <td>-1.083693</td>\n",
       "      <td>-0.959439</td>\n",
       "      <td>1.420463</td>\n",
       "      <td>1.610331</td>\n",
       "    </tr>\n",
       "    <tr>\n",
       "      <th>2</th>\n",
       "      <td>-1.309868</td>\n",
       "      <td>0.979618</td>\n",
       "      <td>1.812895</td>\n",
       "      <td>-0.418462</td>\n",
       "      <td>-0.717426</td>\n",
       "      <td>-1.070304</td>\n",
       "      <td>-0.740191</td>\n",
       "      <td>0.181256</td>\n",
       "      <td>1.619758</td>\n",
       "    </tr>\n",
       "    <tr>\n",
       "      <th>3</th>\n",
       "      <td>-1.309868</td>\n",
       "      <td>0.979618</td>\n",
       "      <td>1.812895</td>\n",
       "      <td>-1.139739</td>\n",
       "      <td>-1.058994</td>\n",
       "      <td>-1.361037</td>\n",
       "      <td>-1.101950</td>\n",
       "      <td>0.312701</td>\n",
       "      <td>0.860301</td>\n",
       "    </tr>\n",
       "    <tr>\n",
       "      <th>4</th>\n",
       "      <td>-1.309868</td>\n",
       "      <td>0.975021</td>\n",
       "      <td>1.812895</td>\n",
       "      <td>0.506566</td>\n",
       "      <td>0.348063</td>\n",
       "      <td>-0.058477</td>\n",
       "      <td>0.657516</td>\n",
       "      <td>0.052225</td>\n",
       "      <td>1.169321</td>\n",
       "    </tr>\n",
       "  </tbody>\n",
       "</table>\n",
       "</div>"
      ],
      "text/plain": [
       "   longitude  latitude  housing_median_age  total_rooms  total_bedrooms  \\\n",
       "0  -1.304883  0.979618            1.812895    -0.581462       -1.176249   \n",
       "1  -1.309868  0.979618            1.812895    -0.778082       -0.946837   \n",
       "2  -1.309868  0.979618            1.812895    -0.418462       -0.717426   \n",
       "3  -1.309868  0.979618            1.812895    -1.139739       -1.058994   \n",
       "4  -1.309868  0.975021            1.812895     0.506566        0.348063   \n",
       "\n",
       "   population  households  median_income  median_house_value  \n",
       "0   -1.202281   -1.189649       2.533741            1.723464  \n",
       "1   -1.083693   -0.959439       1.420463            1.610331  \n",
       "2   -1.070304   -0.740191       0.181256            1.619758  \n",
       "3   -1.361037   -1.101950       0.312701            0.860301  \n",
       "4   -0.058477    0.657516       0.052225            1.169321  "
      ]
     },
     "execution_count": 67,
     "metadata": {},
     "output_type": "execute_result"
    }
   ],
   "source": [
    "from sklearn.preprocessing import StandardScaler\n",
    "\n",
    "scaler=StandardScaler()\n",
    "scaled_df=scaler.fit_transform(df.loc[:,df.columns!='ocean_proximity']) \n",
    "scaled_df=pd.DataFrame(scaled_df,columns=df.columns.values[0:-1])\n",
    "scaled_df.head()"
   ]
  },
  {
   "cell_type": "code",
   "execution_count": 68,
   "metadata": {},
   "outputs": [
    {
     "data": {
      "image/png": "[encoded data removed]",
      "text/plain": [
       "<Figure size 1080x720 with 9 Axes>"
      ]
     },
     "metadata": {
      "needs_background": "light"
     },
     "output_type": "display_data"
    }
   ],
   "source": [
    "scaled_df.hist(bins=100,figsize=(15,10))\n",
    "plt.show()"
   ]
  },
  {
   "cell_type": "markdown",
   "metadata": {},
   "source": [
    "### 3. Feature Engineering"
   ]
  },
  {
   "cell_type": "code",
   "execution_count": 69,
   "metadata": {},
   "outputs": [],
   "source": [
    "feature_columns = []"
   ]
  },
  {
   "cell_type": "code",
   "execution_count": 70,
   "metadata": {},
   "outputs": [],
   "source": [
    "#location\n",
    "resolution_in_degrees = 0.4 \n",
    "\n",
    "latitude_num = tf.feature_column.numeric_column(\"latitude\")\n",
    "latitude_bins = list(np.arange(int(min(scaled_df['latitude'])), int(max(scaled_df['latitude'])), resolution_in_degrees))\n",
    "latitude = tf.feature_column.bucketized_column(latitude_num, latitude_bins)\n",
    "\n",
    "longitude_num = tf.feature_column.numeric_column(\"longitude\")\n",
    "longitude_bins = list(np.arange(int(min(scaled_df['longitude'])), int(max(scaled_df['longitude'])), resolution_in_degrees))\n",
    "longitude = tf.feature_column.bucketized_column(longitude_num, longitude_bins)\n",
    "\n",
    "lat_x_lon = tf.feature_column.crossed_column([latitude, longitude], hash_bucket_size=100)\n",
    "crossed_feature = tf.feature_column.indicator_column(lat_x_lon)\n",
    "feature_columns.append(crossed_feature)"
   ]
  },
  {
   "cell_type": "code",
   "execution_count": 71,
   "metadata": {},
   "outputs": [],
   "source": [
    "#demographic\n",
    "med_income = tf.feature_column.numeric_column(\"median_income\")\n",
    "feature_columns.append(med_income)\n",
    "\n",
    "population = tf.feature_column.numeric_column(\"population\")\n",
    "feature_columns.append(population)\n",
    "\n",
    "households = tf.feature_column.numeric_column(\"households\")\n",
    "feature_columns.append(households)"
   ]
  },
  {
   "cell_type": "code",
   "execution_count": 72,
   "metadata": {},
   "outputs": [],
   "source": [
    "#house\n",
    "house_age=tf.feature_column.numeric_column(\"housing_median_age\")\n",
    "feature_columns.append(house_age)\n",
    "\n",
    "ttl_room=tf.feature_column.numeric_column(\"total_rooms\")\n",
    "feature_columns.append(ttl_room)\n",
    "\n",
    "ttl_bedroom=tf.feature_column.numeric_column(\"total_bedrooms\")\n",
    "feature_columns.append(ttl_bedroom)"
   ]
  },
  {
   "cell_type": "code",
   "execution_count": 73,
   "metadata": {},
   "outputs": [],
   "source": [
    "feature_layer = layers.DenseFeatures(feature_columns)"
   ]
  },
  {
   "cell_type": "markdown",
   "metadata": {},
   "source": [
    "### Train/Test Split"
   ]
  },
  {
   "cell_type": "code",
   "execution_count": 74,
   "metadata": {},
   "outputs": [
    {
     "name": "stdout",
     "output_type": "stream",
     "text": [
      "Total df size: 16573\n",
      " train_df size: 12926 \n",
      " test_df size: 3647\n"
     ]
    }
   ],
   "source": [
    "from sklearn.model_selection import train_test_split\n",
    "train_df, test_df= train_test_split(scaled_df,test_size=0.22, random_state=123)\n",
    "print(\"Total df size: %i\\n train_df size: %i \\n test_df size: %i\"\\\n",
    "%(df.shape[0],train_df.shape[0],test_df.shape[0]))"
   ]
  },
  {
   "cell_type": "markdown",
   "metadata": {},
   "source": [
    "### 4. Modeling"
   ]
  },
  {
   "cell_type": "markdown",
   "metadata": {},
   "source": [
    "### 4.1 Define a baseline linear regression model\n",
    "- build_model(learning_rate), which builds a randomly-initialized model.\n",
    "- train_model(model, feature, label, epochs), which trains the model from the examples (feature and label) you pass."
   ]
  },
  {
   "cell_type": "code",
   "execution_count": 104,
   "metadata": {},
   "outputs": [],
   "source": [
    "#Define the functions that build and train a model\n",
    "def build_model(my_learning_rate, feature_layer):\n",
    "  # Create and compile a simple linear regression model.\n",
    "  model = tf.keras.models.Sequential() # Most simple tf.keras models are sequential.\n",
    "\n",
    "  # Describe the topography of the model.\n",
    "  model.add(feature_layer)\n",
    "  model.add(tf.keras.layers.Dense(units=1, input_shape=(1,))) #a single node in a single layer.\n",
    "\n",
    "  # Compile into TensorFlow. \n",
    "  model.compile(optimizer=tf.keras.optimizers.RMSprop(lr=my_learning_rate),\n",
    "                loss=\"mean_squared_error\",\n",
    "                metrics=[tf.keras.metrics.MeanSquaredError()])\n",
    "\n",
    "  return model        \n",
    "\n",
    "#Train the model by feeding feature and label.\n",
    "def train_model(model, df, epochs, batch_size, label_name):\n",
    "    \n",
    "  features = {name:np.array(value) for name, value in df.items()}\n",
    "  label = np.array(features.pop(label_name))\n",
    "    \n",
    "  history = model.fit(x=features,y=label,\n",
    "                      batch_size=batch_size,epochs=epochs,\n",
    "                      shuffle=True) # specified number of epochs. \n",
    "\n",
    "  epochs = history.epoch # The list of epochs is stored separately from the rest of history.\n",
    "  hist = pd.DataFrame(history.history) # Isolate the error for each epoch.\n",
    "  mse = hist[\"mean_squared_error\"] # Take a snapshot of the model's root mean squared error at each epoch. \n",
    "\n",
    "  return epochs, mse"
   ]
  },
  {
   "cell_type": "code",
   "execution_count": 105,
   "metadata": {},
   "outputs": [],
   "source": [
    "#Plot a curve of loss vs. epoch.\n",
    "def plot_the_loss_curve(epochs, rmse):\n",
    "  plt.figure()\n",
    "  plt.xlabel(\"Epoch\")\n",
    "  plt.ylabel(\"Mean Squared Error\")\n",
    "\n",
    "  plt.plot(epochs, mse, label=\"Loss\")\n",
    "  plt.legend()\n",
    "  plt.ylim([mse.min()*0.94, mse.max()* 1.05])\n",
    "  plt.show()  "
   ]
  },
  {
   "cell_type": "code",
   "execution_count": 106,
   "metadata": {},
   "outputs": [
    {
     "name": "stdout",
     "output_type": "stream",
     "text": [
      "Epoch 1/15\n",
      "WARNING:tensorflow:Layers in a Sequential model should only have a single input tensor, but we receive a <class 'dict'> input: {'longitude': <tf.Tensor 'ExpandDims_3:0' shape=(None, 1) dtype=float32>, 'latitude': <tf.Tensor 'ExpandDims_2:0' shape=(None, 1) dtype=float32>, 'housing_median_age': <tf.Tensor 'ExpandDims_1:0' shape=(None, 1) dtype=float32>, 'total_rooms': <tf.Tensor 'ExpandDims_7:0' shape=(None, 1) dtype=float32>, 'total_bedrooms': <tf.Tensor 'ExpandDims_6:0' shape=(None, 1) dtype=float32>, 'population': <tf.Tensor 'ExpandDims_5:0' shape=(None, 1) dtype=float32>, 'households': <tf.Tensor 'ExpandDims:0' shape=(None, 1) dtype=float32>, 'median_income': <tf.Tensor 'ExpandDims_4:0' shape=(None, 1) dtype=float32>}\n",
      "Consider rewriting this model with the Functional API.\n",
      "WARNING:tensorflow:Layers in a Sequential model should only have a single input tensor, but we receive a <class 'dict'> input: {'longitude': <tf.Tensor 'ExpandDims_3:0' shape=(None, 1) dtype=float32>, 'latitude': <tf.Tensor 'ExpandDims_2:0' shape=(None, 1) dtype=float32>, 'housing_median_age': <tf.Tensor 'ExpandDims_1:0' shape=(None, 1) dtype=float32>, 'total_rooms': <tf.Tensor 'ExpandDims_7:0' shape=(None, 1) dtype=float32>, 'total_bedrooms': <tf.Tensor 'ExpandDims_6:0' shape=(None, 1) dtype=float32>, 'population': <tf.Tensor 'ExpandDims_5:0' shape=(None, 1) dtype=float32>, 'households': <tf.Tensor 'ExpandDims:0' shape=(None, 1) dtype=float32>, 'median_income': <tf.Tensor 'ExpandDims_4:0' shape=(None, 1) dtype=float32>}\n",
      "Consider rewriting this model with the Functional API.\n",
      "13/13 [==============================] - 1s 3ms/step - loss: 0.7439 - mean_squared_error: 0.7439\n",
      "Epoch 2/15\n",
      "13/13 [==============================] - 0s 7ms/step - loss: 0.3849 - mean_squared_error: 0.3849\n",
      "Epoch 3/15\n",
      "13/13 [==============================] - 0s 5ms/step - loss: 0.3607 - mean_squared_error: 0.3607\n",
      "Epoch 4/15\n",
      "13/13 [==============================] - 0s 5ms/step - loss: 0.3606 - mean_squared_error: 0.3606\n",
      "Epoch 5/15\n",
      "13/13 [==============================] - 0s 4ms/step - loss: 0.3573 - mean_squared_error: 0.3573\n",
      "Epoch 6/15\n",
      "13/13 [==============================] - 0s 6ms/step - loss: 0.3679 - mean_squared_error: 0.3679\n",
      "Epoch 7/15\n",
      "13/13 [==============================] - 0s 3ms/step - loss: 0.3557 - mean_squared_error: 0.3557\n",
      "Epoch 8/15\n",
      "13/13 [==============================] - 0s 9ms/step - loss: 0.3559 - mean_squared_error: 0.3559\n",
      "Epoch 9/15\n",
      "13/13 [==============================] - 0s 5ms/step - loss: 0.3664 - mean_squared_error: 0.3664\n",
      "Epoch 10/15\n",
      "13/13 [==============================] - 0s 4ms/step - loss: 0.3680 - mean_squared_error: 0.3680\n",
      "Epoch 11/15\n",
      "13/13 [==============================] - ETA: 0s - loss: 0.3524 - mean_squared_error: 0.35 - 0s 5ms/step - loss: 0.3532 - mean_squared_error: 0.3532\n",
      "Epoch 12/15\n",
      "13/13 [==============================] - 0s 4ms/step - loss: 0.3671 - mean_squared_error: 0.3671\n",
      "Epoch 13/15\n",
      "13/13 [==============================] - 0s 4ms/step - loss: 0.3709 - mean_squared_error: 0.3709\n",
      "Epoch 14/15\n",
      "13/13 [==============================] - 0s 8ms/step - loss: 0.3710 - mean_squared_error: 0.3710\n",
      "Epoch 15/15\n",
      "13/13 [==============================] - 0s 5ms/step - loss: 0.3773 - mean_squared_error: 0.3773\n"
     ]
    },
    {
     "data": {
      "image/png": "[encoded data removed]",
      "text/plain": [
       "<Figure size 432x288 with 1 Axes>"
      ]
     },
     "metadata": {
      "needs_background": "light"
     },
     "output_type": "display_data"
    }
   ],
   "source": [
    "# Hyperparameters:\n",
    "learning_rate = 0.05\n",
    "epochs = 15\n",
    "batch_size = 1000\n",
    "\n",
    "label_name=\"median_house_value\" \n",
    "\n",
    "# Invoke the functions.\n",
    "my_model = build_model(learning_rate,feature_layer)\n",
    "epochs, mse = train_model(my_model, train_df, \n",
    "                           epochs, batch_size, label_name)\n",
    "\n",
    "plot_the_loss_curve(epochs, mse)"
   ]
  },
  {
   "cell_type": "code",
   "execution_count": 107,
   "metadata": {},
   "outputs": [
    {
     "name": "stdout",
     "output_type": "stream",
     "text": [
      "\n",
      ": Evaluate the new model on the test set:\n",
      "WARNING:tensorflow:Layers in a Sequential model should only have a single input tensor, but we receive a <class 'dict'> input: {'longitude': <tf.Tensor 'ExpandDims_3:0' shape=(None, 1) dtype=float32>, 'latitude': <tf.Tensor 'ExpandDims_2:0' shape=(None, 1) dtype=float32>, 'housing_median_age': <tf.Tensor 'ExpandDims_1:0' shape=(None, 1) dtype=float32>, 'total_rooms': <tf.Tensor 'ExpandDims_7:0' shape=(None, 1) dtype=float32>, 'total_bedrooms': <tf.Tensor 'ExpandDims_6:0' shape=(None, 1) dtype=float32>, 'population': <tf.Tensor 'ExpandDims_5:0' shape=(None, 1) dtype=float32>, 'households': <tf.Tensor 'ExpandDims:0' shape=(None, 1) dtype=float32>, 'median_income': <tf.Tensor 'ExpandDims_4:0' shape=(None, 1) dtype=float32>}\n",
      "Consider rewriting this model with the Functional API.\n",
      "4/4 [==============================] - 0s 5ms/step - loss: 0.3528 - mean_squared_error: 0.3528\n"
     ]
    },
    {
     "data": {
      "text/plain": [
       "[0.35282444953918457, 0.35282444953918457]"
      ]
     },
     "execution_count": 107,
     "metadata": {},
     "output_type": "execute_result"
    }
   ],
   "source": [
    "print(\"\\n: Evaluate the new model on the test set:\")\n",
    "test_features = {name:np.array(value) for name, value in test_df.items()}\n",
    "test_label = np.array(test_features.pop(label_name))\n",
    "my_model.evaluate(x=test_features, y=test_label, batch_size=batch_size)\n",
    "#mse: 0.3531"
   ]
  },
  {
   "cell_type": "markdown",
   "metadata": {},
   "source": [
    "### 4.2 Define a deep neural net model"
   ]
  },
  {
   "cell_type": "code",
   "execution_count": 121,
   "metadata": {},
   "outputs": [],
   "source": [
    "def create_model(my_learning_rate, my_feature_layer):\n",
    "  model = tf.keras.models.Sequential()\n",
    "\n",
    "  model.add(my_feature_layer)\n",
    "\n",
    "  # Define the first hidden layer with 20 nodes.   \n",
    "  model.add(tf.keras.layers.Dense(units=20, \n",
    "                                  activation='relu', \n",
    "                                  #kernel_regularizer=tf.keras.regularizers.l1(0.04),\n",
    "                                  name='Hidden1'))\n",
    "  \n",
    "  # Define the second hidden layer with 12 nodes. \n",
    "  model.add(tf.keras.layers.Dense(units=12, \n",
    "                                  activation='relu', \n",
    "                                  #kernel_regularizer=tf.keras.regularizers.l1(0.04),#L1 regularization\n",
    "                                  name='Hidden2'))\n",
    "  \n",
    "  # Define the output layer.\n",
    "  model.add(tf.keras.layers.Dense(units=1, name='Output'))                              \n",
    "  \n",
    "  model.compile(optimizer=tf.keras.optimizers.Adam(lr=my_learning_rate),\n",
    "                loss=\"mean_squared_error\",\n",
    "                metrics=[tf.keras.metrics.MeanSquaredError()])\n",
    "\n",
    "  return model\n",
    "\n",
    "def train_model(model, dataset, epochs, label_name,\n",
    "                batch_size=None):\n",
    "\n",
    "  features = {name:np.array(value) for name, value in dataset.items()}\n",
    "  label = np.array(features.pop(label_name))\n",
    "  history = model.fit(x=features, y=label, batch_size=batch_size,\n",
    "                      epochs=epochs, shuffle=True) \n",
    "\n",
    "  epochs = history.epoch\n",
    "  hist = pd.DataFrame(history.history)\n",
    "  mse = hist[\"mean_squared_error\"]\n",
    "\n",
    "  return epochs, mse"
   ]
  },
  {
   "cell_type": "code",
   "execution_count": 122,
   "metadata": {},
   "outputs": [
    {
     "name": "stdout",
     "output_type": "stream",
     "text": [
      "Epoch 1/20\n",
      "WARNING:tensorflow:Layers in a Sequential model should only have a single input tensor, but we receive a <class 'dict'> input: {'longitude': <tf.Tensor 'ExpandDims_3:0' shape=(None, 1) dtype=float32>, 'latitude': <tf.Tensor 'ExpandDims_2:0' shape=(None, 1) dtype=float32>, 'housing_median_age': <tf.Tensor 'ExpandDims_1:0' shape=(None, 1) dtype=float32>, 'total_rooms': <tf.Tensor 'ExpandDims_7:0' shape=(None, 1) dtype=float32>, 'total_bedrooms': <tf.Tensor 'ExpandDims_6:0' shape=(None, 1) dtype=float32>, 'population': <tf.Tensor 'ExpandDims_5:0' shape=(None, 1) dtype=float32>, 'households': <tf.Tensor 'ExpandDims:0' shape=(None, 1) dtype=float32>, 'median_income': <tf.Tensor 'ExpandDims_4:0' shape=(None, 1) dtype=float32>}\n",
      "Consider rewriting this model with the Functional API.\n",
      "WARNING:tensorflow:Layers in a Sequential model should only have a single input tensor, but we receive a <class 'dict'> input: {'longitude': <tf.Tensor 'ExpandDims_3:0' shape=(None, 1) dtype=float32>, 'latitude': <tf.Tensor 'ExpandDims_2:0' shape=(None, 1) dtype=float32>, 'housing_median_age': <tf.Tensor 'ExpandDims_1:0' shape=(None, 1) dtype=float32>, 'total_rooms': <tf.Tensor 'ExpandDims_7:0' shape=(None, 1) dtype=float32>, 'total_bedrooms': <tf.Tensor 'ExpandDims_6:0' shape=(None, 1) dtype=float32>, 'population': <tf.Tensor 'ExpandDims_5:0' shape=(None, 1) dtype=float32>, 'households': <tf.Tensor 'ExpandDims:0' shape=(None, 1) dtype=float32>, 'median_income': <tf.Tensor 'ExpandDims_4:0' shape=(None, 1) dtype=float32>}\n",
      "Consider rewriting this model with the Functional API.\n",
      "13/13 [==============================] - 1s 3ms/step - loss: 0.8744 - mean_squared_error: 0.8744\n",
      "Epoch 2/20\n",
      "13/13 [==============================] - 0s 5ms/step - loss: 0.4384 - mean_squared_error: 0.4384\n",
      "Epoch 3/20\n",
      "13/13 [==============================] - 0s 7ms/step - loss: 0.3435 - mean_squared_error: 0.3435\n",
      "Epoch 4/20\n",
      "13/13 [==============================] - 0s 4ms/step - loss: 0.3047 - mean_squared_error: 0.3047\n",
      "Epoch 5/20\n",
      "13/13 [==============================] - 0s 3ms/step - loss: 0.3085 - mean_squared_error: 0.3085\n",
      "Epoch 6/20\n",
      "13/13 [==============================] - 0s 4ms/step - loss: 0.2987 - mean_squared_error: 0.2987\n",
      "Epoch 7/20\n",
      "13/13 [==============================] - 0s 5ms/step - loss: 0.2950 - mean_squared_error: 0.2950\n",
      "Epoch 8/20\n",
      "13/13 [==============================] - 0s 5ms/step - loss: 0.2838 - mean_squared_error: 0.2838\n",
      "Epoch 9/20\n",
      "13/13 [==============================] - 0s 5ms/step - loss: 0.2885 - mean_squared_error: 0.2885\n",
      "Epoch 10/20\n",
      "13/13 [==============================] - 0s 4ms/step - loss: 0.2791 - mean_squared_error: 0.2791\n",
      "Epoch 11/20\n",
      "13/13 [==============================] - 0s 4ms/step - loss: 0.2881 - mean_squared_error: 0.2881\n",
      "Epoch 12/20\n",
      "13/13 [==============================] - 0s 5ms/step - loss: 0.2768 - mean_squared_error: 0.2768\n",
      "Epoch 13/20\n",
      "13/13 [==============================] - 0s 4ms/step - loss: 0.2831 - mean_squared_error: 0.2831\n",
      "Epoch 14/20\n",
      "13/13 [==============================] - 0s 5ms/step - loss: 0.2701 - mean_squared_error: 0.2701\n",
      "Epoch 15/20\n",
      "13/13 [==============================] - 0s 4ms/step - loss: 0.2831 - mean_squared_error: 0.2831\n",
      "Epoch 16/20\n",
      "13/13 [==============================] - 0s 5ms/step - loss: 0.2820 - mean_squared_error: 0.2820\n",
      "Epoch 17/20\n",
      "13/13 [==============================] - 0s 6ms/step - loss: 0.2736 - mean_squared_error: 0.2736\n",
      "Epoch 18/20\n",
      "13/13 [==============================] - 0s 6ms/step - loss: 0.2773 - mean_squared_error: 0.2773\n",
      "Epoch 19/20\n",
      "13/13 [==============================] - 0s 5ms/step - loss: 0.2726 - mean_squared_error: 0.2726\n",
      "Epoch 20/20\n",
      "13/13 [==============================] - 0s 4ms/step - loss: 0.2751 - mean_squared_error: 0.2751\n"
     ]
    },
    {
     "data": {
      "image/png": "[encoded data removed]",
      "text/plain": [
       "<Figure size 432x288 with 1 Axes>"
      ]
     },
     "metadata": {
      "needs_background": "light"
     },
     "output_type": "display_data"
    }
   ],
   "source": [
    "learning_rate = 0.01\n",
    "epochs = 20\n",
    "batch_size = 1000\n",
    "\n",
    "label_name = \"median_house_value\"\n",
    "\n",
    "my_model = create_model(learning_rate, feature_layer)\n",
    "\n",
    "epochs, mse = train_model(my_model, train_df, epochs, label_name, batch_size)\n",
    "plot_the_loss_curve(epochs, mse)"
   ]
  },
  {
   "cell_type": "code",
   "execution_count": 123,
   "metadata": {},
   "outputs": [
    {
     "name": "stdout",
     "output_type": "stream",
     "text": [
      "\n",
      " Evaluate the new model against the test set:\n",
      "WARNING:tensorflow:Layers in a Sequential model should only have a single input tensor, but we receive a <class 'dict'> input: {'longitude': <tf.Tensor 'ExpandDims_3:0' shape=(None, 1) dtype=float32>, 'latitude': <tf.Tensor 'ExpandDims_2:0' shape=(None, 1) dtype=float32>, 'housing_median_age': <tf.Tensor 'ExpandDims_1:0' shape=(None, 1) dtype=float32>, 'total_rooms': <tf.Tensor 'ExpandDims_7:0' shape=(None, 1) dtype=float32>, 'total_bedrooms': <tf.Tensor 'ExpandDims_6:0' shape=(None, 1) dtype=float32>, 'population': <tf.Tensor 'ExpandDims_5:0' shape=(None, 1) dtype=float32>, 'households': <tf.Tensor 'ExpandDims:0' shape=(None, 1) dtype=float32>, 'median_income': <tf.Tensor 'ExpandDims_4:0' shape=(None, 1) dtype=float32>}\n",
      "Consider rewriting this model with the Functional API.\n",
      "4/4 [==============================] - 0s 3ms/step - loss: 0.2779 - mean_squared_error: 0.2779\n"
     ]
    },
    {
     "data": {
      "text/plain": [
       "[0.27785196900367737, 0.27785196900367737]"
      ]
     },
     "execution_count": 123,
     "metadata": {},
     "output_type": "execute_result"
    }
   ],
   "source": [
    "#test the model on the test set.\n",
    "test_features = {name:np.array(value) for name, value in test_df.items()}\n",
    "test_label = np.array(test_features.pop(label_name)) # isolate the label\n",
    "print(\"\\n Evaluate the new model against the test set:\")\n",
    "my_model.evaluate(x = test_features, y = test_label, batch_size=batch_size)\n",
    "#mse: 0.2767."
   ]
  },
  {
   "cell_type": "code",
   "execution_count": null,
   "metadata": {},
   "outputs": [],
   "source": []
  },
  {
   "cell_type": "code",
   "execution_count": null,
   "metadata": {},
   "outputs": [],
   "source": []
  }
 ],
 "metadata": {
  "kernelspec": {
   "display_name": "Python 3",
   "language": "python",
   "name": "python3"
  },
  "language_info": {
   "codemirror_mode": {
    "name": "ipython",
    "version": 3
   },
   "file_extension": ".py",
   "mimetype": "text/x-python",
   "name": "python",
   "nbconvert_exporter": "python",
   "pygments_lexer": "ipython3",
   "version": "3.8.3"
  }
 },
 "nbformat": 4,
 "nbformat_minor": 4
}
