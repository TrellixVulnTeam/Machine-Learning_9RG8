{
 "cells": [
  {
   "cell_type": "markdown",
   "metadata": {},
   "source": [
    "## California Housing Price\n",
    "- predict median price per district\n",
    "- model: regression/labeled supervised learning\n",
    "- dataset: https://github.com/ageron/handson-ml2/tree/master/datasets/housing"
   ]
  },
  {
   "cell_type": "markdown",
   "metadata": {},
   "source": [
    "### 1. Read Data"
   ]
  },
  {
   "cell_type": "code",
   "execution_count": 114,
   "metadata": {},
   "outputs": [],
   "source": [
    "import numpy as np\n",
    "import pandas as pd\n",
    "import seaborn as sns\n",
    "import matplotlib.pyplot as plt\n",
    "%matplotlib inline\n",
    "import warnings\n",
    "warnings.filterwarnings('ignore')\n",
    "\n",
    "import tensorflow as tf"
   ]
  },
  {
   "cell_type": "code",
   "execution_count": 115,
   "metadata": {},
   "outputs": [
    {
     "data": {
      "text/html": [
       "<div>\n",
       "<style scoped>\n",
       "    .dataframe tbody tr th:only-of-type {\n",
       "        vertical-align: middle;\n",
       "    }\n",
       "\n",
       "    .dataframe tbody tr th {\n",
       "        vertical-align: top;\n",
       "    }\n",
       "\n",
       "    .dataframe thead th {\n",
       "        text-align: right;\n",
       "    }\n",
       "</style>\n",
       "<table border=\"1\" class=\"dataframe\">\n",
       "  <thead>\n",
       "    <tr style=\"text-align: right;\">\n",
       "      <th></th>\n",
       "      <th>longitude</th>\n",
       "      <th>latitude</th>\n",
       "      <th>housing_median_age</th>\n",
       "      <th>total_rooms</th>\n",
       "      <th>total_bedrooms</th>\n",
       "      <th>population</th>\n",
       "      <th>households</th>\n",
       "      <th>median_income</th>\n",
       "      <th>median_house_value</th>\n",
       "      <th>ocean_proximity</th>\n",
       "    </tr>\n",
       "  </thead>\n",
       "  <tbody>\n",
       "    <tr>\n",
       "      <th>0</th>\n",
       "      <td>-122.23</td>\n",
       "      <td>37.88</td>\n",
       "      <td>41.0</td>\n",
       "      <td>880.0</td>\n",
       "      <td>129.0</td>\n",
       "      <td>322.0</td>\n",
       "      <td>126.0</td>\n",
       "      <td>8.3252</td>\n",
       "      <td>452.6</td>\n",
       "      <td>NEAR BAY</td>\n",
       "    </tr>\n",
       "    <tr>\n",
       "      <th>1</th>\n",
       "      <td>-122.22</td>\n",
       "      <td>37.86</td>\n",
       "      <td>21.0</td>\n",
       "      <td>7099.0</td>\n",
       "      <td>1106.0</td>\n",
       "      <td>2401.0</td>\n",
       "      <td>1138.0</td>\n",
       "      <td>8.3014</td>\n",
       "      <td>358.5</td>\n",
       "      <td>NEAR BAY</td>\n",
       "    </tr>\n",
       "    <tr>\n",
       "      <th>2</th>\n",
       "      <td>-122.24</td>\n",
       "      <td>37.85</td>\n",
       "      <td>52.0</td>\n",
       "      <td>1467.0</td>\n",
       "      <td>190.0</td>\n",
       "      <td>496.0</td>\n",
       "      <td>177.0</td>\n",
       "      <td>7.2574</td>\n",
       "      <td>352.1</td>\n",
       "      <td>NEAR BAY</td>\n",
       "    </tr>\n",
       "    <tr>\n",
       "      <th>3</th>\n",
       "      <td>-122.25</td>\n",
       "      <td>37.85</td>\n",
       "      <td>52.0</td>\n",
       "      <td>1274.0</td>\n",
       "      <td>235.0</td>\n",
       "      <td>558.0</td>\n",
       "      <td>219.0</td>\n",
       "      <td>5.6431</td>\n",
       "      <td>341.3</td>\n",
       "      <td>NEAR BAY</td>\n",
       "    </tr>\n",
       "    <tr>\n",
       "      <th>4</th>\n",
       "      <td>-122.25</td>\n",
       "      <td>37.85</td>\n",
       "      <td>52.0</td>\n",
       "      <td>1627.0</td>\n",
       "      <td>280.0</td>\n",
       "      <td>565.0</td>\n",
       "      <td>259.0</td>\n",
       "      <td>3.8462</td>\n",
       "      <td>342.2</td>\n",
       "      <td>NEAR BAY</td>\n",
       "    </tr>\n",
       "  </tbody>\n",
       "</table>\n",
       "</div>"
      ],
      "text/plain": [
       "   longitude  latitude  housing_median_age  total_rooms  total_bedrooms  \\\n",
       "0    -122.23     37.88                41.0        880.0           129.0   \n",
       "1    -122.22     37.86                21.0       7099.0          1106.0   \n",
       "2    -122.24     37.85                52.0       1467.0           190.0   \n",
       "3    -122.25     37.85                52.0       1274.0           235.0   \n",
       "4    -122.25     37.85                52.0       1627.0           280.0   \n",
       "\n",
       "   population  households  median_income  median_house_value ocean_proximity  \n",
       "0       322.0       126.0         8.3252               452.6        NEAR BAY  \n",
       "1      2401.0      1138.0         8.3014               358.5        NEAR BAY  \n",
       "2       496.0       177.0         7.2574               352.1        NEAR BAY  \n",
       "3       558.0       219.0         5.6431               341.3        NEAR BAY  \n",
       "4       565.0       259.0         3.8462               342.2        NEAR BAY  "
      ]
     },
     "execution_count": 115,
     "metadata": {},
     "output_type": "execute_result"
    }
   ],
   "source": [
    "df=pd.read_csv(\"california_housing.csv\")\n",
    "df[\"median_house_value\"]/= 1000 #scaling\n",
    "df.head()"
   ]
  },
  {
   "cell_type": "code",
   "execution_count": 116,
   "metadata": {},
   "outputs": [
    {
     "data": {
      "text/plain": [
       "(20640, 10)"
      ]
     },
     "execution_count": 116,
     "metadata": {},
     "output_type": "execute_result"
    }
   ],
   "source": [
    "df.shape"
   ]
  },
  {
   "cell_type": "code",
   "execution_count": 117,
   "metadata": {},
   "outputs": [
    {
     "data": {
      "text/plain": [
       "longitude               0\n",
       "latitude                0\n",
       "housing_median_age      0\n",
       "total_rooms             0\n",
       "total_bedrooms        207\n",
       "population              0\n",
       "households              0\n",
       "median_income           0\n",
       "median_house_value      0\n",
       "ocean_proximity         0\n",
       "dtype: int64"
      ]
     },
     "execution_count": 117,
     "metadata": {},
     "output_type": "execute_result"
    }
   ],
   "source": [
    "df.isna().sum()\n",
    "#total_badrooms 207/20640 is missing"
   ]
  },
  {
   "cell_type": "code",
   "execution_count": 118,
   "metadata": {},
   "outputs": [],
   "source": [
    "df=df.dropna()"
   ]
  },
  {
   "cell_type": "markdown",
   "metadata": {},
   "source": [
    "### 2. Data Exploration"
   ]
  },
  {
   "cell_type": "code",
   "execution_count": 119,
   "metadata": {},
   "outputs": [
    {
     "data": {
      "text/html": [
       "<div>\n",
       "<style scoped>\n",
       "    .dataframe tbody tr th:only-of-type {\n",
       "        vertical-align: middle;\n",
       "    }\n",
       "\n",
       "    .dataframe tbody tr th {\n",
       "        vertical-align: top;\n",
       "    }\n",
       "\n",
       "    .dataframe thead th {\n",
       "        text-align: right;\n",
       "    }\n",
       "</style>\n",
       "<table border=\"1\" class=\"dataframe\">\n",
       "  <thead>\n",
       "    <tr style=\"text-align: right;\">\n",
       "      <th></th>\n",
       "      <th>longitude</th>\n",
       "      <th>latitude</th>\n",
       "      <th>housing_median_age</th>\n",
       "      <th>total_rooms</th>\n",
       "      <th>total_bedrooms</th>\n",
       "      <th>population</th>\n",
       "      <th>households</th>\n",
       "      <th>median_income</th>\n",
       "      <th>median_house_value</th>\n",
       "    </tr>\n",
       "  </thead>\n",
       "  <tbody>\n",
       "    <tr>\n",
       "      <th>count</th>\n",
       "      <td>20433.000000</td>\n",
       "      <td>20433.000000</td>\n",
       "      <td>20433.000000</td>\n",
       "      <td>20433.000000</td>\n",
       "      <td>20433.000000</td>\n",
       "      <td>20433.000000</td>\n",
       "      <td>20433.000000</td>\n",
       "      <td>20433.000000</td>\n",
       "      <td>20433.000000</td>\n",
       "    </tr>\n",
       "    <tr>\n",
       "      <th>mean</th>\n",
       "      <td>-119.570689</td>\n",
       "      <td>35.633221</td>\n",
       "      <td>28.633094</td>\n",
       "      <td>2636.504233</td>\n",
       "      <td>537.870553</td>\n",
       "      <td>1424.946949</td>\n",
       "      <td>499.433465</td>\n",
       "      <td>3.871162</td>\n",
       "      <td>206.864413</td>\n",
       "    </tr>\n",
       "    <tr>\n",
       "      <th>std</th>\n",
       "      <td>2.003578</td>\n",
       "      <td>2.136348</td>\n",
       "      <td>12.591805</td>\n",
       "      <td>2185.269567</td>\n",
       "      <td>421.385070</td>\n",
       "      <td>1133.208490</td>\n",
       "      <td>382.299226</td>\n",
       "      <td>1.899291</td>\n",
       "      <td>115.435667</td>\n",
       "    </tr>\n",
       "    <tr>\n",
       "      <th>min</th>\n",
       "      <td>-124.350000</td>\n",
       "      <td>32.540000</td>\n",
       "      <td>1.000000</td>\n",
       "      <td>2.000000</td>\n",
       "      <td>1.000000</td>\n",
       "      <td>3.000000</td>\n",
       "      <td>1.000000</td>\n",
       "      <td>0.499900</td>\n",
       "      <td>14.999000</td>\n",
       "    </tr>\n",
       "    <tr>\n",
       "      <th>25%</th>\n",
       "      <td>-121.800000</td>\n",
       "      <td>33.930000</td>\n",
       "      <td>18.000000</td>\n",
       "      <td>1450.000000</td>\n",
       "      <td>296.000000</td>\n",
       "      <td>787.000000</td>\n",
       "      <td>280.000000</td>\n",
       "      <td>2.563700</td>\n",
       "      <td>119.500000</td>\n",
       "    </tr>\n",
       "    <tr>\n",
       "      <th>50%</th>\n",
       "      <td>-118.490000</td>\n",
       "      <td>34.260000</td>\n",
       "      <td>29.000000</td>\n",
       "      <td>2127.000000</td>\n",
       "      <td>435.000000</td>\n",
       "      <td>1166.000000</td>\n",
       "      <td>409.000000</td>\n",
       "      <td>3.536500</td>\n",
       "      <td>179.700000</td>\n",
       "    </tr>\n",
       "    <tr>\n",
       "      <th>75%</th>\n",
       "      <td>-118.010000</td>\n",
       "      <td>37.720000</td>\n",
       "      <td>37.000000</td>\n",
       "      <td>3143.000000</td>\n",
       "      <td>647.000000</td>\n",
       "      <td>1722.000000</td>\n",
       "      <td>604.000000</td>\n",
       "      <td>4.744000</td>\n",
       "      <td>264.700000</td>\n",
       "    </tr>\n",
       "    <tr>\n",
       "      <th>max</th>\n",
       "      <td>-114.310000</td>\n",
       "      <td>41.950000</td>\n",
       "      <td>52.000000</td>\n",
       "      <td>39320.000000</td>\n",
       "      <td>6445.000000</td>\n",
       "      <td>35682.000000</td>\n",
       "      <td>6082.000000</td>\n",
       "      <td>15.000100</td>\n",
       "      <td>500.001000</td>\n",
       "    </tr>\n",
       "  </tbody>\n",
       "</table>\n",
       "</div>"
      ],
      "text/plain": [
       "          longitude      latitude  housing_median_age   total_rooms  \\\n",
       "count  20433.000000  20433.000000        20433.000000  20433.000000   \n",
       "mean    -119.570689     35.633221           28.633094   2636.504233   \n",
       "std        2.003578      2.136348           12.591805   2185.269567   \n",
       "min     -124.350000     32.540000            1.000000      2.000000   \n",
       "25%     -121.800000     33.930000           18.000000   1450.000000   \n",
       "50%     -118.490000     34.260000           29.000000   2127.000000   \n",
       "75%     -118.010000     37.720000           37.000000   3143.000000   \n",
       "max     -114.310000     41.950000           52.000000  39320.000000   \n",
       "\n",
       "       total_bedrooms    population    households  median_income  \\\n",
       "count    20433.000000  20433.000000  20433.000000   20433.000000   \n",
       "mean       537.870553   1424.946949    499.433465       3.871162   \n",
       "std        421.385070   1133.208490    382.299226       1.899291   \n",
       "min          1.000000      3.000000      1.000000       0.499900   \n",
       "25%        296.000000    787.000000    280.000000       2.563700   \n",
       "50%        435.000000   1166.000000    409.000000       3.536500   \n",
       "75%        647.000000   1722.000000    604.000000       4.744000   \n",
       "max       6445.000000  35682.000000   6082.000000      15.000100   \n",
       "\n",
       "       median_house_value  \n",
       "count        20433.000000  \n",
       "mean           206.864413  \n",
       "std            115.435667  \n",
       "min             14.999000  \n",
       "25%            119.500000  \n",
       "50%            179.700000  \n",
       "75%            264.700000  \n",
       "max            500.001000  "
      ]
     },
     "execution_count": 119,
     "metadata": {},
     "output_type": "execute_result"
    }
   ],
   "source": [
    "df.describe()"
   ]
  },
  {
   "cell_type": "markdown",
   "metadata": {},
   "source": [
    "#### Take away:\n",
    "- comparing to 75%, max for `total_rooms`, `population`, `households` need a further check.\n",
    "- abnormal data for target col `median_house_value`."
   ]
  },
  {
   "cell_type": "code",
   "execution_count": 120,
   "metadata": {},
   "outputs": [
    {
     "data": {
      "text/plain": [
       "<matplotlib.axes._subplots.AxesSubplot at 0x7fd7ba728eb0>"
      ]
     },
     "execution_count": 120,
     "metadata": {},
     "output_type": "execute_result"
    },
    {
     "data": {
      "image/png": "[encoded data removed]",
      "text/plain": [
       "<Figure size 432x288 with 1 Axes>"
      ]
     },
     "metadata": {
      "needs_background": "light"
     },
     "output_type": "display_data"
    }
   ],
   "source": [
    "df.median_house_value.hist(bins=100)\n",
    "#abnormal data here, outlier"
   ]
  },
  {
   "cell_type": "code",
   "execution_count": 121,
   "metadata": {},
   "outputs": [
    {
     "data": {
      "text/plain": [
       "<matplotlib.axes._subplots.AxesSubplot at 0x7fd7bcedf5e0>"
      ]
     },
     "execution_count": 121,
     "metadata": {},
     "output_type": "execute_result"
    },
    {
     "data": {
      "image/png": "[encoded data removed]",
      "text/plain": [
       "<Figure size 432x288 with 1 Axes>"
      ]
     },
     "metadata": {
      "needs_background": "light"
     },
     "output_type": "display_data"
    }
   ],
   "source": [
    "df.households.hist(bins=100)"
   ]
  },
  {
   "cell_type": "code",
   "execution_count": 122,
   "metadata": {},
   "outputs": [
    {
     "data": {
      "image/png": "[encoded data removed]",
      "text/plain": [
       "<Figure size 432x288 with 9 Axes>"
      ]
     },
     "metadata": {
      "needs_background": "light"
     },
     "output_type": "display_data"
    }
   ],
   "source": [
    "df=df[(df.total_rooms<=5000)&(df.total_bedrooms<=1000)&(df.population<=2500)&(df.households<=1000)&\n",
    "      (df.median_income<=8)&(df.median_house_value<500)]\n",
    "\n",
    "#df.median_house_value.hist(bins=100)\n",
    "#df.total_bedrooms.hist(bins=100)\n",
    "#df.median_income.hist(bins=100)\n",
    "#df.total_rooms.hist(bins=100)\n",
    "#df.population.hist(bins=100)\n",
    "#df.households.hist(bins=100)\n",
    "df.hist(bins=100)\n",
    "plt.show()"
   ]
  },
  {
   "cell_type": "code",
   "execution_count": 123,
   "metadata": {},
   "outputs": [
    {
     "data": {
      "text/plain": [
       "(16573, 10)"
      ]
     },
     "execution_count": 123,
     "metadata": {},
     "output_type": "execute_result"
    }
   ],
   "source": [
    "df.shape"
   ]
  },
  {
   "cell_type": "markdown",
   "metadata": {},
   "source": [
    "### 4. Modeling"
   ]
  },
  {
   "cell_type": "markdown",
   "metadata": {},
   "source": [
    "### 4.0 Train/Test Split"
   ]
  },
  {
   "cell_type": "code",
   "execution_count": 124,
   "metadata": {},
   "outputs": [
    {
     "data": {
      "text/plain": [
       "<matplotlib.axes._subplots.AxesSubplot at 0x7fd7bd1bf550>"
      ]
     },
     "execution_count": 124,
     "metadata": {},
     "output_type": "execute_result"
    },
    {
     "data": {
      "image/png": "[encoded data removed]",
      "text/plain": [
       "<Figure size 432x288 with 1 Axes>"
      ]
     },
     "metadata": {
      "needs_background": "light"
     },
     "output_type": "display_data"
    }
   ],
   "source": [
    "df.median_income.hist(bins=100)"
   ]
  },
  {
   "cell_type": "code",
   "execution_count": 125,
   "metadata": {},
   "outputs": [
    {
     "data": {
      "text/plain": [
       "<matplotlib.axes._subplots.AxesSubplot at 0x7fd7bc8489d0>"
      ]
     },
     "execution_count": 125,
     "metadata": {},
     "output_type": "execute_result"
    },
    {
     "data": {
      "image/png": "[encoded data removed]",
      "text/plain": [
       "<Figure size 432x288 with 1 Axes>"
      ]
     },
     "metadata": {
      "needs_background": "light"
     },
     "output_type": "display_data"
    }
   ],
   "source": [
    "# create categorical income\n",
    "df['income_bins']=pd.cut(df.median_income,\n",
    "                         bins=[0,1.5,3,4.5,6,7.5,np.inf],\n",
    "                         labels=[1,2,3,4,5,6])\n",
    "df.income_bins.hist(bins=20)"
   ]
  },
  {
   "cell_type": "code",
   "execution_count": 128,
   "metadata": {},
   "outputs": [
    {
     "ename": "KeyError",
     "evalue": "'Passing list-likes to .loc or [] with any missing labels is no longer supported, see https://pandas.pydata.org/pandas-docs/stable/user_guide/indexing.html#deprecate-loc-reindex-listlike'",
     "output_type": "error",
     "traceback": [
      "\u001b[0;31m---------------------------------------------------------------------------\u001b[0m",
      "\u001b[0;31mKeyError\u001b[0m                                  Traceback (most recent call last)",
      "\u001b[0;32m<ipython-input-128-0de240a16fbf>\u001b[0m in \u001b[0;36m<module>\u001b[0;34m\u001b[0m\n\u001b[1;32m      2\u001b[0m \u001b[0msplit\u001b[0m\u001b[0;34m=\u001b[0m\u001b[0mStratifiedShuffleSplit\u001b[0m\u001b[0;34m(\u001b[0m\u001b[0mn_splits\u001b[0m\u001b[0;34m=\u001b[0m\u001b[0;36m1\u001b[0m\u001b[0;34m,\u001b[0m\u001b[0mtest_size\u001b[0m\u001b[0;34m=\u001b[0m\u001b[0;36m0.2\u001b[0m\u001b[0;34m,\u001b[0m\u001b[0mrandom_state\u001b[0m\u001b[0;34m=\u001b[0m\u001b[0;36m123\u001b[0m\u001b[0;34m)\u001b[0m\u001b[0;34m\u001b[0m\u001b[0;34m\u001b[0m\u001b[0m\n\u001b[1;32m      3\u001b[0m \u001b[0;32mfor\u001b[0m \u001b[0mtrain_index\u001b[0m\u001b[0;34m,\u001b[0m\u001b[0mtest_index\u001b[0m \u001b[0;32min\u001b[0m \u001b[0msplit\u001b[0m\u001b[0;34m.\u001b[0m\u001b[0msplit\u001b[0m\u001b[0;34m(\u001b[0m\u001b[0mdf\u001b[0m\u001b[0;34m,\u001b[0m\u001b[0mdf\u001b[0m\u001b[0;34m.\u001b[0m\u001b[0mincome_bins\u001b[0m\u001b[0;34m)\u001b[0m\u001b[0;34m:\u001b[0m\u001b[0;34m\u001b[0m\u001b[0;34m\u001b[0m\u001b[0m\n\u001b[0;32m----> 4\u001b[0;31m     \u001b[0mtrain\u001b[0m\u001b[0;34m=\u001b[0m\u001b[0mdf\u001b[0m\u001b[0;34m.\u001b[0m\u001b[0mloc\u001b[0m\u001b[0;34m[\u001b[0m\u001b[0mtrain_index\u001b[0m\u001b[0;34m]\u001b[0m\u001b[0;34m\u001b[0m\u001b[0;34m\u001b[0m\u001b[0m\n\u001b[0m\u001b[1;32m      5\u001b[0m     \u001b[0mtest\u001b[0m\u001b[0;34m=\u001b[0m\u001b[0mdf\u001b[0m\u001b[0;34m.\u001b[0m\u001b[0mloc\u001b[0m\u001b[0;34m[\u001b[0m\u001b[0mtest_index\u001b[0m\u001b[0;34m]\u001b[0m\u001b[0;34m\u001b[0m\u001b[0;34m\u001b[0m\u001b[0m\n\u001b[1;32m      6\u001b[0m \u001b[0mprint\u001b[0m\u001b[0;34m(\u001b[0m\u001b[0mtrain\u001b[0m\u001b[0;34m.\u001b[0m\u001b[0mshape\u001b[0m\u001b[0;34m[\u001b[0m\u001b[0;36m0\u001b[0m\u001b[0;34m]\u001b[0m\u001b[0;34m,\u001b[0m\u001b[0mtest\u001b[0m\u001b[0;34m.\u001b[0m\u001b[0mshape\u001b[0m\u001b[0;34m[\u001b[0m\u001b[0;36m0\u001b[0m\u001b[0;34m]\u001b[0m\u001b[0;34m)\u001b[0m\u001b[0;34m\u001b[0m\u001b[0;34m\u001b[0m\u001b[0m\n",
      "\u001b[0;32m~/opt/anaconda3/lib/python3.8/site-packages/pandas/core/indexing.py\u001b[0m in \u001b[0;36m__getitem__\u001b[0;34m(self, key)\u001b[0m\n\u001b[1;32m   1766\u001b[0m \u001b[0;34m\u001b[0m\u001b[0m\n\u001b[1;32m   1767\u001b[0m             \u001b[0mmaybe_callable\u001b[0m \u001b[0;34m=\u001b[0m \u001b[0mcom\u001b[0m\u001b[0;34m.\u001b[0m\u001b[0mapply_if_callable\u001b[0m\u001b[0;34m(\u001b[0m\u001b[0mkey\u001b[0m\u001b[0;34m,\u001b[0m \u001b[0mself\u001b[0m\u001b[0;34m.\u001b[0m\u001b[0mobj\u001b[0m\u001b[0;34m)\u001b[0m\u001b[0;34m\u001b[0m\u001b[0;34m\u001b[0m\u001b[0m\n\u001b[0;32m-> 1768\u001b[0;31m             \u001b[0;32mreturn\u001b[0m \u001b[0mself\u001b[0m\u001b[0;34m.\u001b[0m\u001b[0m_getitem_axis\u001b[0m\u001b[0;34m(\u001b[0m\u001b[0mmaybe_callable\u001b[0m\u001b[0;34m,\u001b[0m \u001b[0maxis\u001b[0m\u001b[0;34m=\u001b[0m\u001b[0maxis\u001b[0m\u001b[0;34m)\u001b[0m\u001b[0;34m\u001b[0m\u001b[0;34m\u001b[0m\u001b[0m\n\u001b[0m\u001b[1;32m   1769\u001b[0m \u001b[0;34m\u001b[0m\u001b[0m\n\u001b[1;32m   1770\u001b[0m     \u001b[0;32mdef\u001b[0m \u001b[0m_is_scalar_access\u001b[0m\u001b[0;34m(\u001b[0m\u001b[0mself\u001b[0m\u001b[0;34m,\u001b[0m \u001b[0mkey\u001b[0m\u001b[0;34m:\u001b[0m \u001b[0mTuple\u001b[0m\u001b[0;34m)\u001b[0m\u001b[0;34m:\u001b[0m\u001b[0;34m\u001b[0m\u001b[0;34m\u001b[0m\u001b[0m\n",
      "\u001b[0;32m~/opt/anaconda3/lib/python3.8/site-packages/pandas/core/indexing.py\u001b[0m in \u001b[0;36m_getitem_axis\u001b[0;34m(self, key, axis)\u001b[0m\n\u001b[1;32m   1952\u001b[0m                     \u001b[0;32mraise\u001b[0m \u001b[0mValueError\u001b[0m\u001b[0;34m(\u001b[0m\u001b[0;34m\"Cannot index with multidimensional key\"\u001b[0m\u001b[0;34m)\u001b[0m\u001b[0;34m\u001b[0m\u001b[0;34m\u001b[0m\u001b[0m\n\u001b[1;32m   1953\u001b[0m \u001b[0;34m\u001b[0m\u001b[0m\n\u001b[0;32m-> 1954\u001b[0;31m                 \u001b[0;32mreturn\u001b[0m \u001b[0mself\u001b[0m\u001b[0;34m.\u001b[0m\u001b[0m_getitem_iterable\u001b[0m\u001b[0;34m(\u001b[0m\u001b[0mkey\u001b[0m\u001b[0;34m,\u001b[0m \u001b[0maxis\u001b[0m\u001b[0;34m=\u001b[0m\u001b[0maxis\u001b[0m\u001b[0;34m)\u001b[0m\u001b[0;34m\u001b[0m\u001b[0;34m\u001b[0m\u001b[0m\n\u001b[0m\u001b[1;32m   1955\u001b[0m \u001b[0;34m\u001b[0m\u001b[0m\n\u001b[1;32m   1956\u001b[0m             \u001b[0;31m# nested tuple slicing\u001b[0m\u001b[0;34m\u001b[0m\u001b[0;34m\u001b[0m\u001b[0;34m\u001b[0m\u001b[0m\n",
      "\u001b[0;32m~/opt/anaconda3/lib/python3.8/site-packages/pandas/core/indexing.py\u001b[0m in \u001b[0;36m_getitem_iterable\u001b[0;34m(self, key, axis)\u001b[0m\n\u001b[1;32m   1593\u001b[0m         \u001b[0;32melse\u001b[0m\u001b[0;34m:\u001b[0m\u001b[0;34m\u001b[0m\u001b[0;34m\u001b[0m\u001b[0m\n\u001b[1;32m   1594\u001b[0m             \u001b[0;31m# A collection of keys\u001b[0m\u001b[0;34m\u001b[0m\u001b[0;34m\u001b[0m\u001b[0;34m\u001b[0m\u001b[0m\n\u001b[0;32m-> 1595\u001b[0;31m             \u001b[0mkeyarr\u001b[0m\u001b[0;34m,\u001b[0m \u001b[0mindexer\u001b[0m \u001b[0;34m=\u001b[0m \u001b[0mself\u001b[0m\u001b[0;34m.\u001b[0m\u001b[0m_get_listlike_indexer\u001b[0m\u001b[0;34m(\u001b[0m\u001b[0mkey\u001b[0m\u001b[0;34m,\u001b[0m \u001b[0maxis\u001b[0m\u001b[0;34m,\u001b[0m \u001b[0mraise_missing\u001b[0m\u001b[0;34m=\u001b[0m\u001b[0;32mFalse\u001b[0m\u001b[0;34m)\u001b[0m\u001b[0;34m\u001b[0m\u001b[0;34m\u001b[0m\u001b[0m\n\u001b[0m\u001b[1;32m   1596\u001b[0m             return self.obj._reindex_with_indexers(\n\u001b[1;32m   1597\u001b[0m                 \u001b[0;34m{\u001b[0m\u001b[0maxis\u001b[0m\u001b[0;34m:\u001b[0m \u001b[0;34m[\u001b[0m\u001b[0mkeyarr\u001b[0m\u001b[0;34m,\u001b[0m \u001b[0mindexer\u001b[0m\u001b[0;34m]\u001b[0m\u001b[0;34m}\u001b[0m\u001b[0;34m,\u001b[0m \u001b[0mcopy\u001b[0m\u001b[0;34m=\u001b[0m\u001b[0;32mTrue\u001b[0m\u001b[0;34m,\u001b[0m \u001b[0mallow_dups\u001b[0m\u001b[0;34m=\u001b[0m\u001b[0;32mTrue\u001b[0m\u001b[0;34m\u001b[0m\u001b[0;34m\u001b[0m\u001b[0m\n",
      "\u001b[0;32m~/opt/anaconda3/lib/python3.8/site-packages/pandas/core/indexing.py\u001b[0m in \u001b[0;36m_get_listlike_indexer\u001b[0;34m(self, key, axis, raise_missing)\u001b[0m\n\u001b[1;32m   1550\u001b[0m             \u001b[0mkeyarr\u001b[0m\u001b[0;34m,\u001b[0m \u001b[0mindexer\u001b[0m\u001b[0;34m,\u001b[0m \u001b[0mnew_indexer\u001b[0m \u001b[0;34m=\u001b[0m \u001b[0max\u001b[0m\u001b[0;34m.\u001b[0m\u001b[0m_reindex_non_unique\u001b[0m\u001b[0;34m(\u001b[0m\u001b[0mkeyarr\u001b[0m\u001b[0;34m)\u001b[0m\u001b[0;34m\u001b[0m\u001b[0;34m\u001b[0m\u001b[0m\n\u001b[1;32m   1551\u001b[0m \u001b[0;34m\u001b[0m\u001b[0m\n\u001b[0;32m-> 1552\u001b[0;31m         self._validate_read_indexer(\n\u001b[0m\u001b[1;32m   1553\u001b[0m             \u001b[0mkeyarr\u001b[0m\u001b[0;34m,\u001b[0m \u001b[0mindexer\u001b[0m\u001b[0;34m,\u001b[0m \u001b[0mo\u001b[0m\u001b[0;34m.\u001b[0m\u001b[0m_get_axis_number\u001b[0m\u001b[0;34m(\u001b[0m\u001b[0maxis\u001b[0m\u001b[0;34m)\u001b[0m\u001b[0;34m,\u001b[0m \u001b[0mraise_missing\u001b[0m\u001b[0;34m=\u001b[0m\u001b[0mraise_missing\u001b[0m\u001b[0;34m\u001b[0m\u001b[0;34m\u001b[0m\u001b[0m\n\u001b[1;32m   1554\u001b[0m         )\n",
      "\u001b[0;32m~/opt/anaconda3/lib/python3.8/site-packages/pandas/core/indexing.py\u001b[0m in \u001b[0;36m_validate_read_indexer\u001b[0;34m(self, key, indexer, axis, raise_missing)\u001b[0m\n\u001b[1;32m   1652\u001b[0m             \u001b[0;31m# just raising\u001b[0m\u001b[0;34m\u001b[0m\u001b[0;34m\u001b[0m\u001b[0;34m\u001b[0m\u001b[0m\n\u001b[1;32m   1653\u001b[0m             \u001b[0;32mif\u001b[0m \u001b[0;32mnot\u001b[0m \u001b[0;34m(\u001b[0m\u001b[0max\u001b[0m\u001b[0;34m.\u001b[0m\u001b[0mis_categorical\u001b[0m\u001b[0;34m(\u001b[0m\u001b[0;34m)\u001b[0m \u001b[0;32mor\u001b[0m \u001b[0max\u001b[0m\u001b[0;34m.\u001b[0m\u001b[0mis_interval\u001b[0m\u001b[0;34m(\u001b[0m\u001b[0;34m)\u001b[0m\u001b[0;34m)\u001b[0m\u001b[0;34m:\u001b[0m\u001b[0;34m\u001b[0m\u001b[0;34m\u001b[0m\u001b[0m\n\u001b[0;32m-> 1654\u001b[0;31m                 raise KeyError(\n\u001b[0m\u001b[1;32m   1655\u001b[0m                     \u001b[0;34m\"Passing list-likes to .loc or [] with any missing labels \"\u001b[0m\u001b[0;34m\u001b[0m\u001b[0;34m\u001b[0m\u001b[0m\n\u001b[1;32m   1656\u001b[0m                     \u001b[0;34m\"is no longer supported, see \"\u001b[0m\u001b[0;34m\u001b[0m\u001b[0;34m\u001b[0m\u001b[0m\n",
      "\u001b[0;31mKeyError\u001b[0m: 'Passing list-likes to .loc or [] with any missing labels is no longer supported, see https://pandas.pydata.org/pandas-docs/stable/user_guide/indexing.html#deprecate-loc-reindex-listlike'"
     ]
    }
   ],
   "source": [
    "from sklearn.model_selection import StratifiedShuffleSplit\n",
    "split=StratifiedShuffleSplit(n_splits=1,test_size=0.2,random_state=123)\n",
    "for train_index,test_index in split.split(df,df.income_bins):\n",
    "    train=df.loc[train_index]\n",
    "    test=df.loc[test_index]\n",
    "print(train.shape[0],test.shape[0])"
   ]
  },
  {
   "cell_type": "code",
   "execution_count": 11,
   "metadata": {},
   "outputs": [
    {
     "data": {
      "text/html": [
       "<div>\n",
       "<style scoped>\n",
       "    .dataframe tbody tr th:only-of-type {\n",
       "        vertical-align: middle;\n",
       "    }\n",
       "\n",
       "    .dataframe tbody tr th {\n",
       "        vertical-align: top;\n",
       "    }\n",
       "\n",
       "    .dataframe thead th {\n",
       "        text-align: right;\n",
       "    }\n",
       "</style>\n",
       "<table border=\"1\" class=\"dataframe\">\n",
       "  <thead>\n",
       "    <tr style=\"text-align: right;\">\n",
       "      <th></th>\n",
       "      <th>longitude</th>\n",
       "      <th>latitude</th>\n",
       "      <th>housing_median_age</th>\n",
       "      <th>total_rooms</th>\n",
       "      <th>total_bedrooms</th>\n",
       "      <th>population</th>\n",
       "      <th>households</th>\n",
       "      <th>median_income</th>\n",
       "      <th>median_house_value</th>\n",
       "      <th>ocean_proximity</th>\n",
       "    </tr>\n",
       "  </thead>\n",
       "  <tbody>\n",
       "    <tr>\n",
       "      <th>17238</th>\n",
       "      <td>-119.67</td>\n",
       "      <td>34.44</td>\n",
       "      <td>32.0</td>\n",
       "      <td>3202.0</td>\n",
       "      <td>537.0</td>\n",
       "      <td>1316.0</td>\n",
       "      <td>538.0</td>\n",
       "      <td>5.2888</td>\n",
       "      <td>463.8</td>\n",
       "      <td>&lt;1H OCEAN</td>\n",
       "    </tr>\n",
       "    <tr>\n",
       "      <th>16662</th>\n",
       "      <td>-120.69</td>\n",
       "      <td>35.28</td>\n",
       "      <td>26.0</td>\n",
       "      <td>4225.0</td>\n",
       "      <td>886.0</td>\n",
       "      <td>1795.0</td>\n",
       "      <td>704.0</td>\n",
       "      <td>2.2847</td>\n",
       "      <td>247.0</td>\n",
       "      <td>NEAR OCEAN</td>\n",
       "    </tr>\n",
       "    <tr>\n",
       "      <th>962</th>\n",
       "      <td>-121.91</td>\n",
       "      <td>37.68</td>\n",
       "      <td>18.0</td>\n",
       "      <td>3631.0</td>\n",
       "      <td>547.0</td>\n",
       "      <td>1700.0</td>\n",
       "      <td>520.0</td>\n",
       "      <td>5.8170</td>\n",
       "      <td>257.3</td>\n",
       "      <td>&lt;1H OCEAN</td>\n",
       "    </tr>\n",
       "    <tr>\n",
       "      <th>2140</th>\n",
       "      <td>-119.75</td>\n",
       "      <td>36.77</td>\n",
       "      <td>32.0</td>\n",
       "      <td>1962.0</td>\n",
       "      <td>399.0</td>\n",
       "      <td>1005.0</td>\n",
       "      <td>392.0</td>\n",
       "      <td>2.6726</td>\n",
       "      <td>70.4</td>\n",
       "      <td>INLAND</td>\n",
       "    </tr>\n",
       "    <tr>\n",
       "      <th>1461</th>\n",
       "      <td>-121.99</td>\n",
       "      <td>37.97</td>\n",
       "      <td>30.0</td>\n",
       "      <td>3320.0</td>\n",
       "      <td>589.0</td>\n",
       "      <td>1470.0</td>\n",
       "      <td>543.0</td>\n",
       "      <td>4.6071</td>\n",
       "      <td>184.1</td>\n",
       "      <td>INLAND</td>\n",
       "    </tr>\n",
       "  </tbody>\n",
       "</table>\n",
       "</div>"
      ],
      "text/plain": [
       "       longitude  latitude  housing_median_age  total_rooms  total_bedrooms  \\\n",
       "17238    -119.67     34.44                32.0       3202.0           537.0   \n",
       "16662    -120.69     35.28                26.0       4225.0           886.0   \n",
       "962      -121.91     37.68                18.0       3631.0           547.0   \n",
       "2140     -119.75     36.77                32.0       1962.0           399.0   \n",
       "1461     -121.99     37.97                30.0       3320.0           589.0   \n",
       "\n",
       "       population  households  median_income  median_house_value  \\\n",
       "17238      1316.0       538.0         5.2888               463.8   \n",
       "16662      1795.0       704.0         2.2847               247.0   \n",
       "962        1700.0       520.0         5.8170               257.3   \n",
       "2140       1005.0       392.0         2.6726                70.4   \n",
       "1461       1470.0       543.0         4.6071               184.1   \n",
       "\n",
       "      ocean_proximity  \n",
       "17238       <1H OCEAN  \n",
       "16662      NEAR OCEAN  \n",
       "962         <1H OCEAN  \n",
       "2140           INLAND  \n",
       "1461           INLAND  "
      ]
     },
     "execution_count": 11,
     "metadata": {},
     "output_type": "execute_result"
    }
   ],
   "source": [
    "train.head()"
   ]
  },
  {
   "cell_type": "code",
   "execution_count": 12,
   "metadata": {},
   "outputs": [
    {
     "data": {
      "text/plain": [
       "17238    463.8\n",
       "16662    247.0\n",
       "962      257.3\n",
       "2140      70.4\n",
       "1461     184.1\n",
       "         ...  \n",
       "12862     88.4\n",
       "20550    103.1\n",
       "14318     89.4\n",
       "17211    267.0\n",
       "9974     159.7\n",
       "Name: median_house_value, Length: 16512, dtype: float64"
      ]
     },
     "execution_count": 12,
     "metadata": {},
     "output_type": "execute_result"
    }
   ],
   "source": [
    "y_train=train['median_house_value']\n",
    "y_train"
   ]
  },
  {
   "cell_type": "code",
   "execution_count": 13,
   "metadata": {},
   "outputs": [],
   "source": [
    "#train.drop('median_house_value',axis=1, inplace=True)\n",
    "#X_train=train\n",
    "#X_train.shape"
   ]
  },
  {
   "cell_type": "markdown",
   "metadata": {},
   "source": [
    "### 4.1 Define functions that build and train a model\n",
    "- build_model(learning_rate), which builds a randomly-initialized model.\n",
    "- train_model(model, feature, label, epochs), which trains the model from the examples (feature and label) you pass."
   ]
  },
  {
   "cell_type": "code",
   "execution_count": 14,
   "metadata": {},
   "outputs": [],
   "source": [
    "#Define the functions that build and train a model\n",
    "def build_model(learning_rate):\n",
    "  \"\"\"Create and compile a simple linear regression model.\"\"\"\n",
    "  model = tf.keras.models.Sequential() # Most simple tf.keras models are sequential.\n",
    "\n",
    "  # Describe the topography of a model.\n",
    "  model.add(tf.keras.layers.Dense(units=1, \n",
    "                                  input_shape=(1,))) # a single node in a single layer.\n",
    "\n",
    "  # Compile the model that TensorFlow can efficientlyexecute. \n",
    "  model.compile(optimizer=tf.keras.optimizers.RMSprop(lr=learning_rate),\n",
    "                loss=\"mean_squared_error\",\n",
    "                metrics=[tf.keras.metrics.RootMeanSquaredError()])\n",
    "\n",
    "  return model        \n",
    "\n",
    "# Train the model by feeding the feature and the label.\n",
    "# The model will train for the specified number of epochs. \n",
    "def train_model(model, df, feature, label, epochs, batch_size):\n",
    "  history = model.fit(x=df[feature],\n",
    "                      y=df[label],\n",
    "                      batch_size=batch_size,\n",
    "                      epochs=epochs)\n",
    "\n",
    "  # Gather the trained model's weight and bias.\n",
    "  trained_weight = model.get_weights()[0]\n",
    "  trained_bias = model.get_weights()[1]\n",
    "\n",
    "  # The list of epochs is stored separately from the rest of history.\n",
    "  epochs = history.epoch\n",
    "  \n",
    "  # Isolate the error for each epoch.\n",
    "  hist = pd.DataFrame(history.history)\n",
    "\n",
    "  # take a snapshot of the model's root mean squared error at each epoch. \n",
    "  rmse = hist[\"root_mean_squared_error\"]\n",
    "\n",
    "  return trained_weight, trained_bias, epochs, rmse"
   ]
  },
  {
   "cell_type": "markdown",
   "metadata": {},
   "source": [
    "### 4.2 Define plotting functions\n",
    "- a scatter plot of the feature vs. the label, and a line showing the output of the trained model\n",
    "- a loss curve"
   ]
  },
  {
   "cell_type": "code",
   "execution_count": 15,
   "metadata": {},
   "outputs": [],
   "source": [
    "#Plot the trained model against 200 random training examples.\n",
    "def plot_the_model(trained_weight, trained_bias, feature, label):\n",
    "  plt.xlabel(feature)\n",
    "  plt.ylabel(label)\n",
    "\n",
    "  # Create a scatter plot from 200 random points of the dataset.\n",
    "  random_examples = train.sample(n=200)\n",
    "  plt.scatter(random_examples[feature], random_examples[label])\n",
    "\n",
    "  # Create a red line representing the model. The red line starts\n",
    "  # at coordinates (x0, y0) and ends at coordinates (x1, y1).\n",
    "  x0 = 0\n",
    "  y0 = trained_bias\n",
    "  x1 = 10000\n",
    "  y1 = trained_bias + (trained_weight * x1)\n",
    "  plt.plot([x0, x1], [y0, y1], c='r')\n",
    "  plt.show()\n",
    "\n",
    "# Plot a curve of loss vs. epoch.\n",
    "def plot_the_loss_curve(epochs, rmse):\n",
    "  plt.figure()\n",
    "  plt.xlabel(\"Epoch\")\n",
    "  plt.ylabel(\"Root Mean Squared Error\")\n",
    "\n",
    "  plt.plot(epochs, rmse, label=\"Loss\")\n",
    "  plt.legend()\n",
    "  plt.ylim([rmse.min()*0.97, rmse.max()])\n",
    "  plt.show()  "
   ]
  },
  {
   "cell_type": "markdown",
   "metadata": {},
   "source": [
    "### 4.3 Call the model functions"
   ]
  },
  {
   "cell_type": "code",
   "execution_count": 16,
   "metadata": {},
   "outputs": [
    {
     "data": {
      "text/html": [
       "<div>\n",
       "<style scoped>\n",
       "    .dataframe tbody tr th:only-of-type {\n",
       "        vertical-align: middle;\n",
       "    }\n",
       "\n",
       "    .dataframe tbody tr th {\n",
       "        vertical-align: top;\n",
       "    }\n",
       "\n",
       "    .dataframe thead th {\n",
       "        text-align: right;\n",
       "    }\n",
       "</style>\n",
       "<table border=\"1\" class=\"dataframe\">\n",
       "  <thead>\n",
       "    <tr style=\"text-align: right;\">\n",
       "      <th></th>\n",
       "      <th>longitude</th>\n",
       "      <th>latitude</th>\n",
       "      <th>housing_median_age</th>\n",
       "      <th>total_rooms</th>\n",
       "      <th>total_bedrooms</th>\n",
       "      <th>population</th>\n",
       "      <th>households</th>\n",
       "      <th>median_income</th>\n",
       "      <th>median_house_value</th>\n",
       "      <th>ocean_proximity</th>\n",
       "    </tr>\n",
       "  </thead>\n",
       "  <tbody>\n",
       "    <tr>\n",
       "      <th>17238</th>\n",
       "      <td>-119.67</td>\n",
       "      <td>34.44</td>\n",
       "      <td>32.0</td>\n",
       "      <td>3202.0</td>\n",
       "      <td>537.0</td>\n",
       "      <td>1316.0</td>\n",
       "      <td>538.0</td>\n",
       "      <td>5.2888</td>\n",
       "      <td>463.8</td>\n",
       "      <td>&lt;1H OCEAN</td>\n",
       "    </tr>\n",
       "    <tr>\n",
       "      <th>16662</th>\n",
       "      <td>-120.69</td>\n",
       "      <td>35.28</td>\n",
       "      <td>26.0</td>\n",
       "      <td>4225.0</td>\n",
       "      <td>886.0</td>\n",
       "      <td>1795.0</td>\n",
       "      <td>704.0</td>\n",
       "      <td>2.2847</td>\n",
       "      <td>247.0</td>\n",
       "      <td>NEAR OCEAN</td>\n",
       "    </tr>\n",
       "    <tr>\n",
       "      <th>962</th>\n",
       "      <td>-121.91</td>\n",
       "      <td>37.68</td>\n",
       "      <td>18.0</td>\n",
       "      <td>3631.0</td>\n",
       "      <td>547.0</td>\n",
       "      <td>1700.0</td>\n",
       "      <td>520.0</td>\n",
       "      <td>5.8170</td>\n",
       "      <td>257.3</td>\n",
       "      <td>&lt;1H OCEAN</td>\n",
       "    </tr>\n",
       "    <tr>\n",
       "      <th>2140</th>\n",
       "      <td>-119.75</td>\n",
       "      <td>36.77</td>\n",
       "      <td>32.0</td>\n",
       "      <td>1962.0</td>\n",
       "      <td>399.0</td>\n",
       "      <td>1005.0</td>\n",
       "      <td>392.0</td>\n",
       "      <td>2.6726</td>\n",
       "      <td>70.4</td>\n",
       "      <td>INLAND</td>\n",
       "    </tr>\n",
       "    <tr>\n",
       "      <th>1461</th>\n",
       "      <td>-121.99</td>\n",
       "      <td>37.97</td>\n",
       "      <td>30.0</td>\n",
       "      <td>3320.0</td>\n",
       "      <td>589.0</td>\n",
       "      <td>1470.0</td>\n",
       "      <td>543.0</td>\n",
       "      <td>4.6071</td>\n",
       "      <td>184.1</td>\n",
       "      <td>INLAND</td>\n",
       "    </tr>\n",
       "  </tbody>\n",
       "</table>\n",
       "</div>"
      ],
      "text/plain": [
       "       longitude  latitude  housing_median_age  total_rooms  total_bedrooms  \\\n",
       "17238    -119.67     34.44                32.0       3202.0           537.0   \n",
       "16662    -120.69     35.28                26.0       4225.0           886.0   \n",
       "962      -121.91     37.68                18.0       3631.0           547.0   \n",
       "2140     -119.75     36.77                32.0       1962.0           399.0   \n",
       "1461     -121.99     37.97                30.0       3320.0           589.0   \n",
       "\n",
       "       population  households  median_income  median_house_value  \\\n",
       "17238      1316.0       538.0         5.2888               463.8   \n",
       "16662      1795.0       704.0         2.2847               247.0   \n",
       "962        1700.0       520.0         5.8170               257.3   \n",
       "2140       1005.0       392.0         2.6726                70.4   \n",
       "1461       1470.0       543.0         4.6071               184.1   \n",
       "\n",
       "      ocean_proximity  \n",
       "17238       <1H OCEAN  \n",
       "16662      NEAR OCEAN  \n",
       "962         <1H OCEAN  \n",
       "2140           INLAND  \n",
       "1461           INLAND  "
      ]
     },
     "execution_count": 16,
     "metadata": {},
     "output_type": "execute_result"
    }
   ],
   "source": [
    "train.head()"
   ]
  },
  {
   "cell_type": "code",
   "execution_count": 25,
   "metadata": {},
   "outputs": [
    {
     "name": "stdout",
     "output_type": "stream",
     "text": [
      "Epoch 1/200\n",
      "551/551 [==============================] - 1s 1ms/step - loss: 1208873.1860 - root_mean_squared_error: 881.1155\n",
      "Epoch 2/200\n",
      "551/551 [==============================] - 1s 1ms/step - loss: 93246.2105 - root_mean_squared_error: 304.8450\n",
      "Epoch 3/200\n",
      "551/551 [==============================] - 1s 1ms/step - loss: 76836.7526 - root_mean_squared_error: 276.1389\n",
      "Epoch 4/200\n",
      "551/551 [==============================] - 1s 1ms/step - loss: 78044.3889 - root_mean_squared_error: 278.9384\n",
      "Epoch 5/200\n",
      "551/551 [==============================] - 1s 2ms/step - loss: 73488.1223 - root_mean_squared_error: 269.9962\n",
      "Epoch 6/200\n",
      "551/551 [==============================] - 1s 1ms/step - loss: 74066.2671 - root_mean_squared_error: 270.5767\n",
      "Epoch 7/200\n",
      "551/551 [==============================] - 1s 2ms/step - loss: 70456.0409 - root_mean_squared_error: 265.2097A: 0s - loss: 70330.4158 - root_mean_squared_error: 2\n",
      "Epoch 8/200\n",
      "551/551 [==============================] - 1s 1ms/step - loss: 73771.6110 - root_mean_squared_error: 270.4575\n",
      "Epoch 9/200\n",
      "551/551 [==============================] - 1s 1ms/step - loss: 72988.6402 - root_mean_squared_error: 269.8300\n",
      "Epoch 10/200\n",
      "551/551 [==============================] - 1s 1ms/step - loss: 63551.4218 - root_mean_squared_error: 250.9350\n",
      "Epoch 11/200\n",
      "551/551 [==============================] - 1s 1ms/step - loss: 67086.5490 - root_mean_squared_error: 258.6249\n",
      "Epoch 12/200\n",
      "551/551 [==============================] - 1s 1ms/step - loss: 68915.5607 - root_mean_squared_error: 262.0541\n",
      "Epoch 13/200\n",
      "551/551 [==============================] - 1s 1ms/step - loss: 69912.7754 - root_mean_squared_error: 264.0328\n",
      "Epoch 14/200\n",
      "551/551 [==============================] - 1s 2ms/step - loss: 65448.4596 - root_mean_squared_error: 254.7917\n",
      "Epoch 15/200\n",
      "551/551 [==============================] - 1s 2ms/step - loss: 68558.1859 - root_mean_squared_error: 261.4661\n",
      "Epoch 16/200\n",
      "551/551 [==============================] - 1s 2ms/step - loss: 63183.3710 - root_mean_squared_error: 250.8586\n",
      "Epoch 17/200\n",
      "551/551 [==============================] - 1s 2ms/step - loss: 66880.4390 - root_mean_squared_error: 257.3538\n",
      "Epoch 18/200\n",
      "551/551 [==============================] - 1s 2ms/step - loss: 71094.0495 - root_mean_squared_error: 265.9264A: 1s - loss: 53046.2473 - root_mean_squared\n",
      "Epoch 19/200\n",
      "551/551 [==============================] - 1s 1ms/step - loss: 67473.9868 - root_mean_squared_error: 259.4742\n",
      "Epoch 20/200\n",
      "551/551 [==============================] - 1s 1ms/step - loss: 71154.7961 - root_mean_squared_error: 266.0098\n",
      "Epoch 21/200\n",
      "551/551 [==============================] - 1s 1ms/step - loss: 72071.9274 - root_mean_squared_error: 267.7573\n",
      "Epoch 22/200\n",
      "551/551 [==============================] - 1s 2ms/step - loss: 68418.4259 - root_mean_squared_error: 261.0694\n",
      "Epoch 23/200\n",
      "551/551 [==============================] - 1s 1ms/step - loss: 67357.0636 - root_mean_squared_error: 258.5655\n",
      "Epoch 24/200\n",
      "551/551 [==============================] - 1s 1ms/step - loss: 71361.8919 - root_mean_squared_error: 266.3832\n",
      "Epoch 25/200\n",
      "551/551 [==============================] - 1s 2ms/step - loss: 73752.3191 - root_mean_squared_error: 271.0950\n",
      "Epoch 26/200\n",
      "551/551 [==============================] - 1s 1ms/step - loss: 66018.8601 - root_mean_squared_error: 255.6819\n",
      "Epoch 27/200\n",
      "551/551 [==============================] - 1s 1ms/step - loss: 64348.9709 - root_mean_squared_error: 252.9314\n",
      "Epoch 28/200\n",
      "551/551 [==============================] - 1s 1ms/step - loss: 64647.8056 - root_mean_squared_error: 253.5053\n",
      "Epoch 29/200\n",
      "551/551 [==============================] - 1s 2ms/step - loss: 69425.5360 - root_mean_squared_error: 263.0546A: 0s - loss: 63609.1756 - root_mean_squared_err\n",
      "Epoch 30/200\n",
      "551/551 [==============================] - 1s 2ms/step - loss: 69148.3957 - root_mean_squared_error: 262.5507A: 0s - loss: 69830.1912 - root_mean_square\n",
      "Epoch 31/200\n",
      "551/551 [==============================] - 1s 1ms/step - loss: 70814.6876 - root_mean_squared_error: 265.2985\n",
      "Epoch 32/200\n",
      "551/551 [==============================] - 1s 1ms/step - loss: 72922.8354 - root_mean_squared_error: 268.5412\n",
      "Epoch 33/200\n",
      "551/551 [==============================] - 1s 1ms/step - loss: 69026.7485 - root_mean_squared_error: 260.0031\n",
      "Epoch 34/200\n",
      "551/551 [==============================] - 1s 2ms/step - loss: 63948.9110 - root_mean_squared_error: 251.0916\n",
      "Epoch 35/200\n",
      "551/551 [==============================] - 1s 2ms/step - loss: 66958.7283 - root_mean_squared_error: 258.2636\n",
      "Epoch 36/200\n",
      "551/551 [==============================] - 1s 1ms/step - loss: 75110.1023 - root_mean_squared_error: 272.4126\n",
      "Epoch 37/200\n",
      "551/551 [==============================] - 1s 1ms/step - loss: 73329.9237 - root_mean_squared_error: 269.9475\n",
      "Epoch 38/200\n",
      "551/551 [==============================] - 1s 1ms/step - loss: 72673.0879 - root_mean_squared_error: 268.4043\n",
      "Epoch 39/200\n",
      "551/551 [==============================] - 1s 1ms/step - loss: 80425.2304 - root_mean_squared_error: 282.9327\n",
      "Epoch 40/200\n",
      "551/551 [==============================] - 1s 1ms/step - loss: 71736.9382 - root_mean_squared_error: 267.4135A: 0s - loss: 71670.4560 - root_mean_squared_error: 267.2\n",
      "Epoch 41/200\n",
      "551/551 [==============================] - 1s 2ms/step - loss: 63650.3302 - root_mean_squared_error: 251.1834\n",
      "Epoch 42/200\n",
      "551/551 [==============================] - 1s 2ms/step - loss: 81466.2234 - root_mean_squared_error: 280.1677\n",
      "Epoch 43/200\n",
      "551/551 [==============================] - 1s 1ms/step - loss: 74169.7772 - root_mean_squared_error: 271.6998\n",
      "Epoch 44/200\n",
      "551/551 [==============================] - 1s 3ms/step - loss: 70167.3831 - root_mean_squared_error: 263.9105A: 0s - loss: 75536.3346 - root_mean_sq\n",
      "Epoch 45/200\n",
      "551/551 [==============================] - 1s 3ms/step - loss: 68488.5598 - root_mean_squared_error: 261.3678\n",
      "Epoch 46/200\n",
      "551/551 [==============================] - 1s 2ms/step - loss: 68993.1235 - root_mean_squared_error: 261.9721A: 0s - loss: 69199.9478 - root_mean_squared_erro\n",
      "Epoch 47/200\n",
      "551/551 [==============================] - 1s 2ms/step - loss: 66321.5708 - root_mean_squared_error: 257.2460A: 0s - loss: 66254.3287 - root_mean_squared_error: 25\n",
      "Epoch 48/200\n",
      "551/551 [==============================] - 2s 3ms/step - loss: 67025.5486 - root_mean_squared_error: 257.8291\n",
      "Epoch 49/200\n",
      "551/551 [==============================] - 1s 2ms/step - loss: 76928.6064 - root_mean_squared_error: 275.7285\n",
      "Epoch 50/200\n",
      "551/551 [==============================] - 1s 2ms/step - loss: 64106.4281 - root_mean_squared_error: 252.3866\n",
      "Epoch 51/200\n",
      "551/551 [==============================] - 1s 2ms/step - loss: 74970.5724 - root_mean_squared_error: 272.9797\n",
      "Epoch 52/200\n",
      "551/551 [==============================] - 2s 3ms/step - loss: 72379.7414 - root_mean_squared_error: 268.3628\n",
      "Epoch 53/200\n",
      "551/551 [==============================] - 2s 3ms/step - loss: 61025.2030 - root_mean_squared_error: 245.9167\n",
      "Epoch 54/200\n",
      "551/551 [==============================] - 2s 3ms/step - loss: 61932.5951 - root_mean_squared_error: 246.4851\n",
      "Epoch 55/200\n",
      "551/551 [==============================] - 2s 3ms/step - loss: 71673.1516 - root_mean_squared_error: 266.6874\n",
      "Epoch 56/200\n",
      "551/551 [==============================] - 1s 2ms/step - loss: 72950.0208 - root_mean_squared_error: 268.8428\n",
      "Epoch 57/200\n",
      "551/551 [==============================] - 1s 2ms/step - loss: 72143.0162 - root_mean_squared_error: 267.9988\n",
      "Epoch 58/200\n",
      "551/551 [==============================] - 1s 2ms/step - loss: 69962.5980 - root_mean_squared_error: 263.9394\n",
      "Epoch 59/200\n",
      "551/551 [==============================] - 1s 1ms/step - loss: 74900.7140 - root_mean_squared_error: 272.1208\n",
      "Epoch 60/200\n",
      "551/551 [==============================] - 1s 1ms/step - loss: 63799.4791 - root_mean_squared_error: 251.1669A: 0s - loss: 61259.1885 - root_mean_squared_error: 2\n",
      "Epoch 61/200\n",
      "551/551 [==============================] - 1s 1ms/step - loss: 58120.7990 - root_mean_squared_error: 238.9170\n",
      "Epoch 62/200\n",
      "551/551 [==============================] - 1s 1ms/step - loss: 73989.5541 - root_mean_squared_error: 270.4591\n",
      "Epoch 63/200\n",
      "551/551 [==============================] - 1s 1ms/step - loss: 68900.6788 - root_mean_squared_error: 260.4128\n",
      "Epoch 64/200\n"
     ]
    },
    {
     "name": "stdout",
     "output_type": "stream",
     "text": [
      "551/551 [==============================] - 1s 1ms/step - loss: 62722.4471 - root_mean_squared_error: 248.9319\n",
      "Epoch 65/200\n",
      "551/551 [==============================] - 1s 1ms/step - loss: 65531.5116 - root_mean_squared_error: 255.5004\n",
      "Epoch 66/200\n",
      "551/551 [==============================] - 1s 2ms/step - loss: 68327.3286 - root_mean_squared_error: 261.0904\n",
      "Epoch 67/200\n",
      "551/551 [==============================] - 2s 3ms/step - loss: 62873.9896 - root_mean_squared_error: 249.4091\n",
      "Epoch 68/200\n",
      "551/551 [==============================] - 1s 3ms/step - loss: 67306.6766 - root_mean_squared_error: 258.4020\n",
      "Epoch 69/200\n",
      "551/551 [==============================] - 1s 2ms/step - loss: 67083.8811 - root_mean_squared_error: 258.1367\n",
      "Epoch 70/200\n",
      "551/551 [==============================] - 1s 2ms/step - loss: 66718.5123 - root_mean_squared_error: 257.3143A: 0s - loss: 66370.1378 - root_mean_squared_error: 256.\n",
      "Epoch 71/200\n",
      "551/551 [==============================] - 1s 1ms/step - loss: 64593.8014 - root_mean_squared_error: 252.9063\n",
      "Epoch 72/200\n",
      "551/551 [==============================] - 1s 2ms/step - loss: 87880.8392 - root_mean_squared_error: 293.7569\n",
      "Epoch 73/200\n",
      "551/551 [==============================] - 1s 2ms/step - loss: 66681.3939 - root_mean_squared_error: 256.7847\n",
      "Epoch 74/200\n",
      "551/551 [==============================] - 1s 2ms/step - loss: 68396.1539 - root_mean_squared_error: 261.1824\n",
      "Epoch 75/200\n",
      "551/551 [==============================] - 1s 1ms/step - loss: 69007.5357 - root_mean_squared_error: 261.9497\n",
      "Epoch 76/200\n",
      "551/551 [==============================] - 1s 908us/step - loss: 64909.9135 - root_mean_squared_error: 254.0717\n",
      "Epoch 77/200\n",
      "551/551 [==============================] - 0s 895us/step - loss: 73479.9654 - root_mean_squared_error: 269.8615\n",
      "Epoch 78/200\n",
      "551/551 [==============================] - 1s 1ms/step - loss: 72169.5420 - root_mean_squared_error: 268.1659\n",
      "Epoch 79/200\n",
      "551/551 [==============================] - 1s 1ms/step - loss: 68368.4116 - root_mean_squared_error: 261.0277\n",
      "Epoch 80/200\n",
      "551/551 [==============================] - 1s 1ms/step - loss: 75917.1027 - root_mean_squared_error: 274.4658\n",
      "Epoch 81/200\n",
      "551/551 [==============================] - 1s 1ms/step - loss: 62172.5199 - root_mean_squared_error: 247.4511\n",
      "Epoch 82/200\n",
      "551/551 [==============================] - 0s 841us/step - loss: 70919.0147 - root_mean_squared_error: 265.8946\n",
      "Epoch 83/200\n",
      "551/551 [==============================] - 0s 868us/step - loss: 65540.2152 - root_mean_squared_error: 255.4088\n",
      "Epoch 84/200\n",
      "551/551 [==============================] - 0s 774us/step - loss: 69178.0850 - root_mean_squared_error: 262.1367\n",
      "Epoch 85/200\n",
      "551/551 [==============================] - 0s 753us/step - loss: 64038.1951 - root_mean_squared_error: 251.9225\n",
      "Epoch 86/200\n",
      "551/551 [==============================] - 0s 801us/step - loss: 67869.2010 - root_mean_squared_error: 260.2003\n",
      "Epoch 87/200\n",
      "551/551 [==============================] - 0s 864us/step - loss: 77812.0522 - root_mean_squared_error: 277.7371\n",
      "Epoch 88/200\n",
      "551/551 [==============================] - 1s 935us/step - loss: 68370.7500 - root_mean_squared_error: 259.8403 0s - loss: 68701.3498 - root_mean_squared_error: 259\n",
      "Epoch 89/200\n",
      "551/551 [==============================] - 0s 780us/step - loss: 67257.6459 - root_mean_squared_error: 258.1428\n",
      "Epoch 90/200\n",
      "551/551 [==============================] - 0s 740us/step - loss: 69832.0467 - root_mean_squared_error: 263.8719\n",
      "Epoch 91/200\n",
      "551/551 [==============================] - 1s 1ms/step - loss: 74244.4661 - root_mean_squared_error: 270.0719\n",
      "Epoch 92/200\n",
      "551/551 [==============================] - 1s 962us/step - loss: 70842.1503 - root_mean_squared_error: 264.3429\n",
      "Epoch 93/200\n",
      "551/551 [==============================] - 1s 994us/step - loss: 70852.9357 - root_mean_squared_error: 265.2280\n",
      "Epoch 94/200\n",
      "551/551 [==============================] - 0s 902us/step - loss: 69093.5773 - root_mean_squared_error: 261.7591\n",
      "Epoch 95/200\n",
      "551/551 [==============================] - 1s 958us/step - loss: 67018.4770 - root_mean_squared_error: 258.4263\n",
      "Epoch 96/200\n",
      "551/551 [==============================] - 1s 1ms/step - loss: 70915.7153 - root_mean_squared_error: 266.0052\n",
      "Epoch 97/200\n",
      "551/551 [==============================] - 1s 936us/step - loss: 65802.8407 - root_mean_squared_error: 255.9200\n",
      "Epoch 98/200\n",
      "551/551 [==============================] - 0s 885us/step - loss: 66781.2476 - root_mean_squared_error: 258.0473\n",
      "Epoch 99/200\n",
      "551/551 [==============================] - 1s 976us/step - loss: 67205.5468 - root_mean_squared_error: 258.7045\n",
      "Epoch 100/200\n",
      "551/551 [==============================] - 1s 974us/step - loss: 65602.0062 - root_mean_squared_error: 255.6938\n",
      "Epoch 101/200\n",
      "551/551 [==============================] - 1s 990us/step - loss: 62068.8720 - root_mean_squared_error: 247.7387\n",
      "Epoch 102/200\n",
      "551/551 [==============================] - 1s 911us/step - loss: 70489.9191 - root_mean_squared_error: 264.7835\n",
      "Epoch 103/200\n",
      "551/551 [==============================] - 0s 789us/step - loss: 70599.3561 - root_mean_squared_error: 265.5423\n",
      "Epoch 104/200\n",
      "551/551 [==============================] - 0s 817us/step - loss: 76701.9580 - root_mean_squared_error: 272.5973\n",
      "Epoch 105/200\n",
      "551/551 [==============================] - 0s 781us/step - loss: 68017.4635 - root_mean_squared_error: 260.0756\n",
      "Epoch 106/200\n",
      "551/551 [==============================] - 0s 892us/step - loss: 69568.6368 - root_mean_squared_error: 262.7892\n",
      "Epoch 107/200\n",
      "551/551 [==============================] - 1s 1ms/step - loss: 65056.5391 - root_mean_squared_error: 254.6986\n",
      "Epoch 108/200\n",
      "551/551 [==============================] - 1s 1ms/step - loss: 72975.2864 - root_mean_squared_error: 269.4357\n",
      "Epoch 109/200\n",
      "551/551 [==============================] - 1s 1ms/step - loss: 76118.9334 - root_mean_squared_error: 274.7097\n",
      "Epoch 110/200\n",
      "551/551 [==============================] - 0s 847us/step - loss: 58158.9893 - root_mean_squared_error: 238.9169\n",
      "Epoch 111/200\n",
      "551/551 [==============================] - 0s 898us/step - loss: 61534.5135 - root_mean_squared_error: 246.3601\n",
      "Epoch 112/200\n",
      "551/551 [==============================] - 0s 801us/step - loss: 70230.3863 - root_mean_squared_error: 264.7397\n",
      "Epoch 113/200\n",
      "551/551 [==============================] - 0s 801us/step - loss: 64296.9795 - root_mean_squared_error: 252.6461\n",
      "Epoch 114/200\n",
      "551/551 [==============================] - 0s 811us/step - loss: 68078.4766 - root_mean_squared_error: 260.3371\n",
      "Epoch 115/200\n",
      "551/551 [==============================] - 0s 863us/step - loss: 64468.9379 - root_mean_squared_error: 252.9191\n",
      "Epoch 116/200\n",
      "551/551 [==============================] - 0s 904us/step - loss: 67389.1742 - root_mean_squared_error: 259.1758\n",
      "Epoch 117/200\n",
      "551/551 [==============================] - 0s 794us/step - loss: 62113.9942 - root_mean_squared_error: 247.6605\n",
      "Epoch 118/200\n",
      "551/551 [==============================] - 0s 786us/step - loss: 72161.9922 - root_mean_squared_error: 268.2160\n",
      "Epoch 119/200\n",
      "551/551 [==============================] - 0s 848us/step - loss: 77100.8680 - root_mean_squared_error: 277.2151\n",
      "Epoch 120/200\n",
      "551/551 [==============================] - 0s 765us/step - loss: 70925.0117 - root_mean_squared_error: 265.7469\n",
      "Epoch 121/200\n",
      "551/551 [==============================] - 0s 828us/step - loss: 71124.1079 - root_mean_squared_error: 266.0421\n",
      "Epoch 122/200\n",
      "551/551 [==============================] - 0s 751us/step - loss: 70014.3550 - root_mean_squared_error: 264.3662\n",
      "Epoch 123/200\n",
      "551/551 [==============================] - 0s 774us/step - loss: 71729.2831 - root_mean_squared_error: 267.1261\n",
      "Epoch 124/200\n",
      "551/551 [==============================] - 0s 806us/step - loss: 69619.0142 - root_mean_squared_error: 263.3303\n",
      "Epoch 125/200\n",
      "551/551 [==============================] - 0s 845us/step - loss: 61205.7873 - root_mean_squared_error: 246.0832\n",
      "Epoch 126/200\n",
      "551/551 [==============================] - 0s 760us/step - loss: 65792.8293 - root_mean_squared_error: 256.2138\n",
      "Epoch 127/200\n",
      "551/551 [==============================] - 0s 759us/step - loss: 64974.1579 - root_mean_squared_error: 253.5979\n",
      "Epoch 128/200\n"
     ]
    },
    {
     "name": "stdout",
     "output_type": "stream",
     "text": [
      "551/551 [==============================] - 0s 821us/step - loss: 65382.1136 - root_mean_squared_error: 254.9023\n",
      "Epoch 129/200\n",
      "551/551 [==============================] - 0s 821us/step - loss: 64686.5875 - root_mean_squared_error: 254.0016\n",
      "Epoch 130/200\n",
      "551/551 [==============================] - 0s 822us/step - loss: 65775.7909 - root_mean_squared_error: 255.4889\n",
      "Epoch 131/200\n",
      "551/551 [==============================] - 0s 797us/step - loss: 68785.4407 - root_mean_squared_error: 261.4597\n",
      "Epoch 132/200\n",
      "551/551 [==============================] - 0s 781us/step - loss: 60464.5427 - root_mean_squared_error: 244.0060\n",
      "Epoch 133/200\n",
      "551/551 [==============================] - 0s 807us/step - loss: 69537.6307 - root_mean_squared_error: 262.2376\n",
      "Epoch 134/200\n",
      "551/551 [==============================] - 0s 771us/step - loss: 73153.3977 - root_mean_squared_error: 270.1455\n",
      "Epoch 135/200\n",
      "551/551 [==============================] - 0s 765us/step - loss: 66400.0135 - root_mean_squared_error: 257.3850\n",
      "Epoch 136/200\n",
      "551/551 [==============================] - 0s 816us/step - loss: 66579.4882 - root_mean_squared_error: 257.1082\n",
      "Epoch 137/200\n",
      "551/551 [==============================] - 0s 806us/step - loss: 77475.1278 - root_mean_squared_error: 276.0068\n",
      "Epoch 138/200\n",
      "551/551 [==============================] - 0s 784us/step - loss: 66437.2138 - root_mean_squared_error: 257.4414\n",
      "Epoch 139/200\n",
      "551/551 [==============================] - 0s 801us/step - loss: 68164.0760 - root_mean_squared_error: 260.8258\n",
      "Epoch 140/200\n",
      "551/551 [==============================] - 0s 785us/step - loss: 66657.1108 - root_mean_squared_error: 257.3547\n",
      "Epoch 141/200\n",
      "551/551 [==============================] - 0s 786us/step - loss: 72533.0780 - root_mean_squared_error: 268.4242\n",
      "Epoch 142/200\n",
      "551/551 [==============================] - 0s 806us/step - loss: 76112.5093 - root_mean_squared_error: 274.3713\n",
      "Epoch 143/200\n",
      "551/551 [==============================] - 0s 889us/step - loss: 69394.6377 - root_mean_squared_error: 263.2611\n",
      "Epoch 144/200\n",
      "551/551 [==============================] - 1s 992us/step - loss: 68311.1585 - root_mean_squared_error: 260.8573\n",
      "Epoch 145/200\n",
      "551/551 [==============================] - 0s 830us/step - loss: 66282.3864 - root_mean_squared_error: 256.3314\n",
      "Epoch 146/200\n",
      "551/551 [==============================] - 0s 888us/step - loss: 75261.7149 - root_mean_squared_error: 272.5699\n",
      "Epoch 147/200\n",
      "551/551 [==============================] - 1s 1ms/step - loss: 67656.6902 - root_mean_squared_error: 259.7332\n",
      "Epoch 148/200\n",
      "551/551 [==============================] - 1s 1ms/step - loss: 65051.3859 - root_mean_squared_error: 254.0570\n",
      "Epoch 149/200\n",
      "551/551 [==============================] - 1s 1ms/step - loss: 72952.8778 - root_mean_squared_error: 268.4006\n",
      "Epoch 150/200\n",
      "551/551 [==============================] - 1s 1ms/step - loss: 61816.3724 - root_mean_squared_error: 248.0518\n",
      "Epoch 151/200\n",
      "551/551 [==============================] - 1s 970us/step - loss: 68347.2987 - root_mean_squared_error: 260.6773\n",
      "Epoch 152/200\n",
      "551/551 [==============================] - 1s 1ms/step - loss: 71236.7123 - root_mean_squared_error: 266.3996A: 0s - loss: 71411.2044 - root_mean_squared_error: 266.685\n",
      "Epoch 153/200\n",
      "551/551 [==============================] - 0s 833us/step - loss: 65938.3177 - root_mean_squared_error: 256.2226\n",
      "Epoch 154/200\n",
      "551/551 [==============================] - 0s 791us/step - loss: 69179.6366 - root_mean_squared_error: 262.5594\n",
      "Epoch 155/200\n",
      "551/551 [==============================] - 0s 786us/step - loss: 75565.7319 - root_mean_squared_error: 272.4641\n",
      "Epoch 156/200\n",
      "551/551 [==============================] - 0s 804us/step - loss: 60895.5264 - root_mean_squared_error: 245.2583\n",
      "Epoch 157/200\n",
      "551/551 [==============================] - 0s 870us/step - loss: 70752.7158 - root_mean_squared_error: 265.3749\n",
      "Epoch 158/200\n",
      "551/551 [==============================] - 1s 1ms/step - loss: 71802.7391 - root_mean_squared_error: 267.6759A: 0s - loss: 71047.6457 - root_mean_squared_error: 266\n",
      "Epoch 159/200\n",
      "551/551 [==============================] - 0s 859us/step - loss: 69417.1970 - root_mean_squared_error: 262.7885\n",
      "Epoch 160/200\n",
      "551/551 [==============================] - 1s 924us/step - loss: 68889.0357 - root_mean_squared_error: 262.2613\n",
      "Epoch 161/200\n",
      "551/551 [==============================] - 0s 844us/step - loss: 61877.5681 - root_mean_squared_error: 246.4205\n",
      "Epoch 162/200\n",
      "551/551 [==============================] - 0s 869us/step - loss: 66630.7680 - root_mean_squared_error: 257.3067\n",
      "Epoch 163/200\n",
      "551/551 [==============================] - 0s 824us/step - loss: 65599.4892 - root_mean_squared_error: 255.7288\n",
      "Epoch 164/200\n",
      "551/551 [==============================] - 0s 817us/step - loss: 69874.5045 - root_mean_squared_error: 264.1293\n",
      "Epoch 165/200\n",
      "551/551 [==============================] - 1s 951us/step - loss: 69033.3513 - root_mean_squared_error: 262.4387\n",
      "Epoch 166/200\n",
      "551/551 [==============================] - 1s 1ms/step - loss: 72418.9480 - root_mean_squared_error: 268.5811\n",
      "Epoch 167/200\n",
      "551/551 [==============================] - 1s 1ms/step - loss: 74350.1664 - root_mean_squared_error: 271.0347\n",
      "Epoch 168/200\n",
      "551/551 [==============================] - 1s 2ms/step - loss: 66830.6645 - root_mean_squared_error: 258.0409\n",
      "Epoch 169/200\n",
      "551/551 [==============================] - 1s 2ms/step - loss: 68054.1641 - root_mean_squared_error: 260.1448\n",
      "Epoch 170/200\n",
      "551/551 [==============================] - 1s 1ms/step - loss: 68730.9373 - root_mean_squared_error: 261.7856\n",
      "Epoch 171/200\n",
      "551/551 [==============================] - 1s 1ms/step - loss: 62633.3005 - root_mean_squared_error: 249.4033\n",
      "Epoch 172/200\n",
      "551/551 [==============================] - 1s 911us/step - loss: 71581.8195 - root_mean_squared_error: 266.7146\n",
      "Epoch 173/200\n",
      "551/551 [==============================] - 1s 996us/step - loss: 66521.3734 - root_mean_squared_error: 257.3643\n",
      "Epoch 174/200\n",
      "551/551 [==============================] - 0s 818us/step - loss: 73886.6025 - root_mean_squared_error: 270.2918\n",
      "Epoch 175/200\n",
      "551/551 [==============================] - 0s 794us/step - loss: 73825.8237 - root_mean_squared_error: 270.9531\n",
      "Epoch 176/200\n",
      "551/551 [==============================] - 0s 817us/step - loss: 79504.7305 - root_mean_squared_error: 281.2866\n",
      "Epoch 177/200\n",
      "551/551 [==============================] - 0s 858us/step - loss: 73515.9271 - root_mean_squared_error: 269.9501\n",
      "Epoch 178/200\n",
      "551/551 [==============================] - 1s 958us/step - loss: 70513.9072 - root_mean_squared_error: 264.1957\n",
      "Epoch 179/200\n",
      "551/551 [==============================] - 0s 763us/step - loss: 67011.2762 - root_mean_squared_error: 257.7709\n",
      "Epoch 180/200\n",
      "551/551 [==============================] - 1s 983us/step - loss: 71563.7176 - root_mean_squared_error: 266.8117\n",
      "Epoch 181/200\n",
      "551/551 [==============================] - 0s 791us/step - loss: 67899.1944 - root_mean_squared_error: 260.1039\n",
      "Epoch 182/200\n",
      "551/551 [==============================] - 0s 742us/step - loss: 71750.1478 - root_mean_squared_error: 267.4959\n",
      "Epoch 183/200\n",
      "551/551 [==============================] - 0s 741us/step - loss: 74056.6859 - root_mean_squared_error: 271.2460\n",
      "Epoch 184/200\n",
      "551/551 [==============================] - 0s 731us/step - loss: 60689.9491 - root_mean_squared_error: 244.4936\n",
      "Epoch 185/200\n",
      "551/551 [==============================] - 1s 1ms/step - loss: 67541.5962 - root_mean_squared_error: 259.5059\n",
      "Epoch 186/200\n",
      "551/551 [==============================] - 1s 1ms/step - loss: 73597.3246 - root_mean_squared_error: 270.6794\n",
      "Epoch 187/200\n",
      "551/551 [==============================] - 1s 1ms/step - loss: 75617.9563 - root_mean_squared_error: 274.3506\n",
      "Epoch 188/200\n",
      "551/551 [==============================] - 1s 984us/step - loss: 64897.0802 - root_mean_squared_error: 254.0720 0s - loss: 62683.3336 - root_mean_squared_error: 2\n",
      "Epoch 189/200\n",
      "551/551 [==============================] - 1s 994us/step - loss: 72478.2934 - root_mean_squared_error: 268.6993\n",
      "Epoch 190/200\n",
      "551/551 [==============================] - 0s 753us/step - loss: 62629.6264 - root_mean_squared_error: 248.8807\n",
      "Epoch 191/200\n",
      "551/551 [==============================] - 1s 971us/step - loss: 74255.9894 - root_mean_squared_error: 270.6851\n",
      "Epoch 192/200\n"
     ]
    },
    {
     "name": "stdout",
     "output_type": "stream",
     "text": [
      "551/551 [==============================] - 1s 1ms/step - loss: 65334.9928 - root_mean_squared_error: 254.9526\n",
      "Epoch 193/200\n",
      "551/551 [==============================] - 0s 758us/step - loss: 71427.8827 - root_mean_squared_error: 266.8496\n",
      "Epoch 194/200\n",
      "551/551 [==============================] - 1s 1ms/step - loss: 67962.0894 - root_mean_squared_error: 260.2484\n",
      "Epoch 195/200\n",
      "551/551 [==============================] - 0s 772us/step - loss: 71076.2504 - root_mean_squared_error: 266.1495\n",
      "Epoch 196/200\n",
      "551/551 [==============================] - 0s 742us/step - loss: 77889.5796 - root_mean_squared_error: 274.2382\n",
      "Epoch 197/200\n",
      "551/551 [==============================] - 0s 743us/step - loss: 68335.0279 - root_mean_squared_error: 261.2306\n",
      "Epoch 198/200\n",
      "551/551 [==============================] - 0s 731us/step - loss: 76264.3390 - root_mean_squared_error: 275.5310\n",
      "Epoch 199/200\n",
      "551/551 [==============================] - 0s 735us/step - loss: 70250.4378 - root_mean_squared_error: 264.0593\n",
      "Epoch 200/200\n",
      "551/551 [==============================] - 0s 744us/step - loss: 64087.7097 - root_mean_squared_error: 251.5822\n",
      "\n",
      "The learned weight for your model is 0.0039\n",
      "The learned bias for your model is 188.5002\n",
      "\n"
     ]
    },
    {
     "data": {
      "image/png": "[encoded data removed]",
      "text/plain": [
       "<Figure size 432x288 with 1 Axes>"
      ]
     },
     "metadata": {
      "needs_background": "light"
     },
     "output_type": "display_data"
    },
    {
     "data": {
      "image/png": "[encoded data removed]",
      "text/plain": [
       "<Figure size 432x288 with 1 Axes>"
      ]
     },
     "metadata": {
      "needs_background": "light"
     },
     "output_type": "display_data"
    }
   ],
   "source": [
    "# Hyperparameters:\n",
    "learning_rate = 0.14\n",
    "epochs = 200\n",
    "batch_size = 30\n",
    "\n",
    "my_feature = 'total_rooms'\n",
    "my_label= 'median_house_value'\n",
    "\n",
    "# Discard any pre-existing version of the model.\n",
    "my_model = None\n",
    "\n",
    "# Invoke the functions.\n",
    "my_model = build_model(learning_rate)\n",
    "weight, bias, epochs, rmse = train_model(my_model, train, \n",
    "                                         my_feature, my_label,\n",
    "                                         epochs, batch_size)\n",
    "\n",
    "print(\"\\nThe learned weight for your model is %.4f\" % weight)\n",
    "print(\"The learned bias for your model is %.4f\\n\" % bias )\n",
    "\n",
    "plot_the_model(weight, bias, my_feature, my_label)\n",
    "plot_the_loss_curve(epochs, rmse)"
   ]
  },
  {
   "cell_type": "markdown",
   "metadata": {},
   "source": [
    "### 4.4 Make predictions"
   ]
  },
  {
   "cell_type": "code",
   "execution_count": 26,
   "metadata": {},
   "outputs": [],
   "source": [
    "#Predict house values.\n",
    "def predict_house_values(n, feature, label):\n",
    "    \n",
    "  batch = train[feature][10000:10000 + n]\n",
    "  y_predicted= my_model.predict_on_batch(x=batch)\n",
    "\n",
    "  print(\"feature   label          predicted\")\n",
    "  print(\"  value   value          value\")\n",
    "  print(\"          in thousand$   in thousand$\")\n",
    "  print(\"--------------------------------------\")\n",
    "  for i in range(n):\n",
    "    print (\"%5.0f %6.0f %15.0f\" % (train[feature][10000 + i],\n",
    "                                   train[label][10000 + i],\n",
    "                                   y_predicted[i][0] ))"
   ]
  },
  {
   "cell_type": "code",
   "execution_count": 27,
   "metadata": {},
   "outputs": [
    {
     "name": "stdout",
     "output_type": "stream",
     "text": [
      "feature   label          predicted\n",
      "  value   value          value\n",
      "          in thousand$   in thousand$\n",
      "--------------------------------------\n",
      " 1839    210             197\n",
      " 1813    182             194\n",
      " 2374    206             198\n",
      " 1875    195             192\n",
      " 1651    195             219\n"
     ]
    },
    {
     "ename": "KeyError",
     "evalue": "10005",
     "output_type": "error",
     "traceback": [
      "\u001b[0;31m---------------------------------------------------------------------------\u001b[0m",
      "\u001b[0;31mKeyError\u001b[0m                                  Traceback (most recent call last)",
      "\u001b[0;32m<ipython-input-27-93020758644c>\u001b[0m in \u001b[0;36m<module>\u001b[0;34m\u001b[0m\n\u001b[1;32m      1\u001b[0m \u001b[0;31m#invoke the house prediction function on 10 examples:\u001b[0m\u001b[0;34m\u001b[0m\u001b[0;34m\u001b[0m\u001b[0;34m\u001b[0m\u001b[0m\n\u001b[0;32m----> 2\u001b[0;31m \u001b[0mpredict_house_values\u001b[0m\u001b[0;34m(\u001b[0m\u001b[0;36m10\u001b[0m\u001b[0;34m,\u001b[0m \u001b[0mmy_feature\u001b[0m\u001b[0;34m,\u001b[0m \u001b[0mmy_label\u001b[0m\u001b[0;34m)\u001b[0m\u001b[0;34m\u001b[0m\u001b[0;34m\u001b[0m\u001b[0m\n\u001b[0m",
      "\u001b[0;32m<ipython-input-26-93e9430019a6>\u001b[0m in \u001b[0;36mpredict_house_values\u001b[0;34m(n, feature, label)\u001b[0m\n\u001b[1;32m     10\u001b[0m   \u001b[0mprint\u001b[0m\u001b[0;34m(\u001b[0m\u001b[0;34m\"--------------------------------------\"\u001b[0m\u001b[0;34m)\u001b[0m\u001b[0;34m\u001b[0m\u001b[0;34m\u001b[0m\u001b[0m\n\u001b[1;32m     11\u001b[0m   \u001b[0;32mfor\u001b[0m \u001b[0mi\u001b[0m \u001b[0;32min\u001b[0m \u001b[0mrange\u001b[0m\u001b[0;34m(\u001b[0m\u001b[0mn\u001b[0m\u001b[0;34m)\u001b[0m\u001b[0;34m:\u001b[0m\u001b[0;34m\u001b[0m\u001b[0;34m\u001b[0m\u001b[0m\n\u001b[0;32m---> 12\u001b[0;31m     print (\"%5.0f %6.0f %15.0f\" % (train[feature][10000 + i],\n\u001b[0m\u001b[1;32m     13\u001b[0m                                    \u001b[0mtrain\u001b[0m\u001b[0;34m[\u001b[0m\u001b[0mlabel\u001b[0m\u001b[0;34m]\u001b[0m\u001b[0;34m[\u001b[0m\u001b[0;36m10000\u001b[0m \u001b[0;34m+\u001b[0m \u001b[0mi\u001b[0m\u001b[0;34m]\u001b[0m\u001b[0;34m,\u001b[0m\u001b[0;34m\u001b[0m\u001b[0;34m\u001b[0m\u001b[0m\n\u001b[1;32m     14\u001b[0m                                    y_predicted[i][0] ))\n",
      "\u001b[0;32m~/opt/anaconda3/lib/python3.8/site-packages/pandas/core/series.py\u001b[0m in \u001b[0;36m__getitem__\u001b[0;34m(self, key)\u001b[0m\n\u001b[1;32m    869\u001b[0m         \u001b[0mkey\u001b[0m \u001b[0;34m=\u001b[0m \u001b[0mcom\u001b[0m\u001b[0;34m.\u001b[0m\u001b[0mapply_if_callable\u001b[0m\u001b[0;34m(\u001b[0m\u001b[0mkey\u001b[0m\u001b[0;34m,\u001b[0m \u001b[0mself\u001b[0m\u001b[0;34m)\u001b[0m\u001b[0;34m\u001b[0m\u001b[0;34m\u001b[0m\u001b[0m\n\u001b[1;32m    870\u001b[0m         \u001b[0;32mtry\u001b[0m\u001b[0;34m:\u001b[0m\u001b[0;34m\u001b[0m\u001b[0;34m\u001b[0m\u001b[0m\n\u001b[0;32m--> 871\u001b[0;31m             \u001b[0mresult\u001b[0m \u001b[0;34m=\u001b[0m \u001b[0mself\u001b[0m\u001b[0;34m.\u001b[0m\u001b[0mindex\u001b[0m\u001b[0;34m.\u001b[0m\u001b[0mget_value\u001b[0m\u001b[0;34m(\u001b[0m\u001b[0mself\u001b[0m\u001b[0;34m,\u001b[0m \u001b[0mkey\u001b[0m\u001b[0;34m)\u001b[0m\u001b[0;34m\u001b[0m\u001b[0;34m\u001b[0m\u001b[0m\n\u001b[0m\u001b[1;32m    872\u001b[0m \u001b[0;34m\u001b[0m\u001b[0m\n\u001b[1;32m    873\u001b[0m             \u001b[0;32mif\u001b[0m \u001b[0;32mnot\u001b[0m \u001b[0mis_scalar\u001b[0m\u001b[0;34m(\u001b[0m\u001b[0mresult\u001b[0m\u001b[0;34m)\u001b[0m\u001b[0;34m:\u001b[0m\u001b[0;34m\u001b[0m\u001b[0;34m\u001b[0m\u001b[0m\n",
      "\u001b[0;32m~/opt/anaconda3/lib/python3.8/site-packages/pandas/core/indexes/base.py\u001b[0m in \u001b[0;36mget_value\u001b[0;34m(self, series, key)\u001b[0m\n\u001b[1;32m   4403\u001b[0m         \u001b[0mk\u001b[0m \u001b[0;34m=\u001b[0m \u001b[0mself\u001b[0m\u001b[0;34m.\u001b[0m\u001b[0m_convert_scalar_indexer\u001b[0m\u001b[0;34m(\u001b[0m\u001b[0mk\u001b[0m\u001b[0;34m,\u001b[0m \u001b[0mkind\u001b[0m\u001b[0;34m=\u001b[0m\u001b[0;34m\"getitem\"\u001b[0m\u001b[0;34m)\u001b[0m\u001b[0;34m\u001b[0m\u001b[0;34m\u001b[0m\u001b[0m\n\u001b[1;32m   4404\u001b[0m         \u001b[0;32mtry\u001b[0m\u001b[0;34m:\u001b[0m\u001b[0;34m\u001b[0m\u001b[0;34m\u001b[0m\u001b[0m\n\u001b[0;32m-> 4405\u001b[0;31m             \u001b[0;32mreturn\u001b[0m \u001b[0mself\u001b[0m\u001b[0;34m.\u001b[0m\u001b[0m_engine\u001b[0m\u001b[0;34m.\u001b[0m\u001b[0mget_value\u001b[0m\u001b[0;34m(\u001b[0m\u001b[0ms\u001b[0m\u001b[0;34m,\u001b[0m \u001b[0mk\u001b[0m\u001b[0;34m,\u001b[0m \u001b[0mtz\u001b[0m\u001b[0;34m=\u001b[0m\u001b[0mgetattr\u001b[0m\u001b[0;34m(\u001b[0m\u001b[0mseries\u001b[0m\u001b[0;34m.\u001b[0m\u001b[0mdtype\u001b[0m\u001b[0;34m,\u001b[0m \u001b[0;34m\"tz\"\u001b[0m\u001b[0;34m,\u001b[0m \u001b[0;32mNone\u001b[0m\u001b[0;34m)\u001b[0m\u001b[0;34m)\u001b[0m\u001b[0;34m\u001b[0m\u001b[0;34m\u001b[0m\u001b[0m\n\u001b[0m\u001b[1;32m   4406\u001b[0m         \u001b[0;32mexcept\u001b[0m \u001b[0mKeyError\u001b[0m \u001b[0;32mas\u001b[0m \u001b[0me1\u001b[0m\u001b[0;34m:\u001b[0m\u001b[0;34m\u001b[0m\u001b[0;34m\u001b[0m\u001b[0m\n\u001b[1;32m   4407\u001b[0m             \u001b[0;32mif\u001b[0m \u001b[0mlen\u001b[0m\u001b[0;34m(\u001b[0m\u001b[0mself\u001b[0m\u001b[0;34m)\u001b[0m \u001b[0;34m>\u001b[0m \u001b[0;36m0\u001b[0m \u001b[0;32mand\u001b[0m \u001b[0;34m(\u001b[0m\u001b[0mself\u001b[0m\u001b[0;34m.\u001b[0m\u001b[0mholds_integer\u001b[0m\u001b[0;34m(\u001b[0m\u001b[0;34m)\u001b[0m \u001b[0;32mor\u001b[0m \u001b[0mself\u001b[0m\u001b[0;34m.\u001b[0m\u001b[0mis_boolean\u001b[0m\u001b[0;34m(\u001b[0m\u001b[0;34m)\u001b[0m\u001b[0;34m)\u001b[0m\u001b[0;34m:\u001b[0m\u001b[0;34m\u001b[0m\u001b[0;34m\u001b[0m\u001b[0m\n",
      "\u001b[0;32mpandas/_libs/index.pyx\u001b[0m in \u001b[0;36mpandas._libs.index.IndexEngine.get_value\u001b[0;34m()\u001b[0m\n",
      "\u001b[0;32mpandas/_libs/index.pyx\u001b[0m in \u001b[0;36mpandas._libs.index.IndexEngine.get_value\u001b[0;34m()\u001b[0m\n",
      "\u001b[0;32mpandas/_libs/index.pyx\u001b[0m in \u001b[0;36mpandas._libs.index.IndexEngine.get_loc\u001b[0;34m()\u001b[0m\n",
      "\u001b[0;32mpandas/_libs/hashtable_class_helper.pxi\u001b[0m in \u001b[0;36mpandas._libs.hashtable.Int64HashTable.get_item\u001b[0;34m()\u001b[0m\n",
      "\u001b[0;32mpandas/_libs/hashtable_class_helper.pxi\u001b[0m in \u001b[0;36mpandas._libs.hashtable.Int64HashTable.get_item\u001b[0;34m()\u001b[0m\n",
      "\u001b[0;31mKeyError\u001b[0m: 10005"
     ]
    }
   ],
   "source": [
    "#invoke the house prediction function on 10 examples:\n",
    "predict_house_values(10, my_feature, my_label)"
   ]
  },
  {
   "cell_type": "code",
   "execution_count": null,
   "metadata": {},
   "outputs": [],
   "source": []
  }
 ],
 "metadata": {
  "kernelspec": {
   "display_name": "Python 3",
   "language": "python",
   "name": "python3"
  },
  "language_info": {
   "codemirror_mode": {
    "name": "ipython",
    "version": 3
   },
   "file_extension": ".py",
   "mimetype": "text/x-python",
   "name": "python",
   "nbconvert_exporter": "python",
   "pygments_lexer": "ipython3",
   "version": "3.8.3"
  }
 },
 "nbformat": 4,
 "nbformat_minor": 4
}
