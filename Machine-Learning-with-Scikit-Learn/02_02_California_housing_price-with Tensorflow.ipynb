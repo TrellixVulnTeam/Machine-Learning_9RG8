{
 "cells": [
  {
   "cell_type": "markdown",
   "metadata": {},
   "source": [
    "## California Housing Price\n",
    "- predict median price per district\n",
    "- model: regression/labeled supervised learning\n",
    "- dataset: https://github.com/ageron/handson-ml2/tree/master/datasets/housing"
   ]
  },
  {
   "cell_type": "markdown",
   "metadata": {},
   "source": [
    "### 1. Read Data"
   ]
  },
  {
   "cell_type": "code",
   "execution_count": 35,
   "metadata": {},
   "outputs": [],
   "source": [
    "import numpy as np\n",
    "import pandas as pd\n",
    "import seaborn as sns\n",
    "import matplotlib.pyplot as plt\n",
    "%matplotlib inline\n",
    "import warnings\n",
    "warnings.filterwarnings('ignore')\n",
    "\n",
    "import tensorflow as tf"
   ]
  },
  {
   "cell_type": "code",
   "execution_count": 36,
   "metadata": {},
   "outputs": [
    {
     "data": {
      "text/html": [
       "<div>\n",
       "<style scoped>\n",
       "    .dataframe tbody tr th:only-of-type {\n",
       "        vertical-align: middle;\n",
       "    }\n",
       "\n",
       "    .dataframe tbody tr th {\n",
       "        vertical-align: top;\n",
       "    }\n",
       "\n",
       "    .dataframe thead th {\n",
       "        text-align: right;\n",
       "    }\n",
       "</style>\n",
       "<table border=\"1\" class=\"dataframe\">\n",
       "  <thead>\n",
       "    <tr style=\"text-align: right;\">\n",
       "      <th></th>\n",
       "      <th>longitude</th>\n",
       "      <th>latitude</th>\n",
       "      <th>housing_median_age</th>\n",
       "      <th>total_rooms</th>\n",
       "      <th>total_bedrooms</th>\n",
       "      <th>population</th>\n",
       "      <th>households</th>\n",
       "      <th>median_income</th>\n",
       "      <th>median_house_value</th>\n",
       "      <th>ocean_proximity</th>\n",
       "    </tr>\n",
       "  </thead>\n",
       "  <tbody>\n",
       "    <tr>\n",
       "      <th>0</th>\n",
       "      <td>-122.23</td>\n",
       "      <td>37.88</td>\n",
       "      <td>41.0</td>\n",
       "      <td>880.0</td>\n",
       "      <td>129.0</td>\n",
       "      <td>322.0</td>\n",
       "      <td>126.0</td>\n",
       "      <td>8.3252</td>\n",
       "      <td>452.6</td>\n",
       "      <td>NEAR BAY</td>\n",
       "    </tr>\n",
       "    <tr>\n",
       "      <th>1</th>\n",
       "      <td>-122.22</td>\n",
       "      <td>37.86</td>\n",
       "      <td>21.0</td>\n",
       "      <td>7099.0</td>\n",
       "      <td>1106.0</td>\n",
       "      <td>2401.0</td>\n",
       "      <td>1138.0</td>\n",
       "      <td>8.3014</td>\n",
       "      <td>358.5</td>\n",
       "      <td>NEAR BAY</td>\n",
       "    </tr>\n",
       "    <tr>\n",
       "      <th>2</th>\n",
       "      <td>-122.24</td>\n",
       "      <td>37.85</td>\n",
       "      <td>52.0</td>\n",
       "      <td>1467.0</td>\n",
       "      <td>190.0</td>\n",
       "      <td>496.0</td>\n",
       "      <td>177.0</td>\n",
       "      <td>7.2574</td>\n",
       "      <td>352.1</td>\n",
       "      <td>NEAR BAY</td>\n",
       "    </tr>\n",
       "    <tr>\n",
       "      <th>3</th>\n",
       "      <td>-122.25</td>\n",
       "      <td>37.85</td>\n",
       "      <td>52.0</td>\n",
       "      <td>1274.0</td>\n",
       "      <td>235.0</td>\n",
       "      <td>558.0</td>\n",
       "      <td>219.0</td>\n",
       "      <td>5.6431</td>\n",
       "      <td>341.3</td>\n",
       "      <td>NEAR BAY</td>\n",
       "    </tr>\n",
       "    <tr>\n",
       "      <th>4</th>\n",
       "      <td>-122.25</td>\n",
       "      <td>37.85</td>\n",
       "      <td>52.0</td>\n",
       "      <td>1627.0</td>\n",
       "      <td>280.0</td>\n",
       "      <td>565.0</td>\n",
       "      <td>259.0</td>\n",
       "      <td>3.8462</td>\n",
       "      <td>342.2</td>\n",
       "      <td>NEAR BAY</td>\n",
       "    </tr>\n",
       "  </tbody>\n",
       "</table>\n",
       "</div>"
      ],
      "text/plain": [
       "   longitude  latitude  housing_median_age  total_rooms  total_bedrooms  \\\n",
       "0    -122.23     37.88                41.0        880.0           129.0   \n",
       "1    -122.22     37.86                21.0       7099.0          1106.0   \n",
       "2    -122.24     37.85                52.0       1467.0           190.0   \n",
       "3    -122.25     37.85                52.0       1274.0           235.0   \n",
       "4    -122.25     37.85                52.0       1627.0           280.0   \n",
       "\n",
       "   population  households  median_income  median_house_value ocean_proximity  \n",
       "0       322.0       126.0         8.3252               452.6        NEAR BAY  \n",
       "1      2401.0      1138.0         8.3014               358.5        NEAR BAY  \n",
       "2       496.0       177.0         7.2574               352.1        NEAR BAY  \n",
       "3       558.0       219.0         5.6431               341.3        NEAR BAY  \n",
       "4       565.0       259.0         3.8462               342.2        NEAR BAY  "
      ]
     },
     "execution_count": 36,
     "metadata": {},
     "output_type": "execute_result"
    }
   ],
   "source": [
    "df=pd.read_csv(\"california_housing.csv\")\n",
    "df[\"median_house_value\"]/= 1000 #scaling\n",
    "df.head()"
   ]
  },
  {
   "cell_type": "code",
   "execution_count": 37,
   "metadata": {},
   "outputs": [
    {
     "data": {
      "text/plain": [
       "(20640, 10)"
      ]
     },
     "execution_count": 37,
     "metadata": {},
     "output_type": "execute_result"
    }
   ],
   "source": [
    "df.shape"
   ]
  },
  {
   "cell_type": "code",
   "execution_count": 38,
   "metadata": {},
   "outputs": [
    {
     "data": {
      "text/plain": [
       "longitude               0\n",
       "latitude                0\n",
       "housing_median_age      0\n",
       "total_rooms             0\n",
       "total_bedrooms        207\n",
       "population              0\n",
       "households              0\n",
       "median_income           0\n",
       "median_house_value      0\n",
       "ocean_proximity         0\n",
       "dtype: int64"
      ]
     },
     "execution_count": 38,
     "metadata": {},
     "output_type": "execute_result"
    }
   ],
   "source": [
    "df.isna().sum()\n",
    "#total_badrooms 207/20640 is missing"
   ]
  },
  {
   "cell_type": "code",
   "execution_count": 39,
   "metadata": {},
   "outputs": [
    {
     "data": {
      "text/plain": [
       "longitude             0\n",
       "latitude              0\n",
       "housing_median_age    0\n",
       "total_rooms           0\n",
       "total_bedrooms        0\n",
       "population            0\n",
       "households            0\n",
       "median_income         0\n",
       "median_house_value    0\n",
       "ocean_proximity       0\n",
       "dtype: int64"
      ]
     },
     "execution_count": 39,
     "metadata": {},
     "output_type": "execute_result"
    }
   ],
   "source": [
    "df=df.dropna()\n",
    "df.isna().sum()"
   ]
  },
  {
   "cell_type": "markdown",
   "metadata": {},
   "source": [
    "### 2. Data Exploration"
   ]
  },
  {
   "cell_type": "code",
   "execution_count": 40,
   "metadata": {},
   "outputs": [
    {
     "data": {
      "text/html": [
       "<div>\n",
       "<style scoped>\n",
       "    .dataframe tbody tr th:only-of-type {\n",
       "        vertical-align: middle;\n",
       "    }\n",
       "\n",
       "    .dataframe tbody tr th {\n",
       "        vertical-align: top;\n",
       "    }\n",
       "\n",
       "    .dataframe thead th {\n",
       "        text-align: right;\n",
       "    }\n",
       "</style>\n",
       "<table border=\"1\" class=\"dataframe\">\n",
       "  <thead>\n",
       "    <tr style=\"text-align: right;\">\n",
       "      <th></th>\n",
       "      <th>longitude</th>\n",
       "      <th>latitude</th>\n",
       "      <th>housing_median_age</th>\n",
       "      <th>total_rooms</th>\n",
       "      <th>total_bedrooms</th>\n",
       "      <th>population</th>\n",
       "      <th>households</th>\n",
       "      <th>median_income</th>\n",
       "      <th>median_house_value</th>\n",
       "    </tr>\n",
       "  </thead>\n",
       "  <tbody>\n",
       "    <tr>\n",
       "      <th>count</th>\n",
       "      <td>20433.000000</td>\n",
       "      <td>20433.000000</td>\n",
       "      <td>20433.000000</td>\n",
       "      <td>20433.000000</td>\n",
       "      <td>20433.000000</td>\n",
       "      <td>20433.000000</td>\n",
       "      <td>20433.000000</td>\n",
       "      <td>20433.000000</td>\n",
       "      <td>20433.000000</td>\n",
       "    </tr>\n",
       "    <tr>\n",
       "      <th>mean</th>\n",
       "      <td>-119.570689</td>\n",
       "      <td>35.633221</td>\n",
       "      <td>28.633094</td>\n",
       "      <td>2636.504233</td>\n",
       "      <td>537.870553</td>\n",
       "      <td>1424.946949</td>\n",
       "      <td>499.433465</td>\n",
       "      <td>3.871162</td>\n",
       "      <td>206.864413</td>\n",
       "    </tr>\n",
       "    <tr>\n",
       "      <th>std</th>\n",
       "      <td>2.003578</td>\n",
       "      <td>2.136348</td>\n",
       "      <td>12.591805</td>\n",
       "      <td>2185.269567</td>\n",
       "      <td>421.385070</td>\n",
       "      <td>1133.208490</td>\n",
       "      <td>382.299226</td>\n",
       "      <td>1.899291</td>\n",
       "      <td>115.435667</td>\n",
       "    </tr>\n",
       "    <tr>\n",
       "      <th>min</th>\n",
       "      <td>-124.350000</td>\n",
       "      <td>32.540000</td>\n",
       "      <td>1.000000</td>\n",
       "      <td>2.000000</td>\n",
       "      <td>1.000000</td>\n",
       "      <td>3.000000</td>\n",
       "      <td>1.000000</td>\n",
       "      <td>0.499900</td>\n",
       "      <td>14.999000</td>\n",
       "    </tr>\n",
       "    <tr>\n",
       "      <th>25%</th>\n",
       "      <td>-121.800000</td>\n",
       "      <td>33.930000</td>\n",
       "      <td>18.000000</td>\n",
       "      <td>1450.000000</td>\n",
       "      <td>296.000000</td>\n",
       "      <td>787.000000</td>\n",
       "      <td>280.000000</td>\n",
       "      <td>2.563700</td>\n",
       "      <td>119.500000</td>\n",
       "    </tr>\n",
       "    <tr>\n",
       "      <th>50%</th>\n",
       "      <td>-118.490000</td>\n",
       "      <td>34.260000</td>\n",
       "      <td>29.000000</td>\n",
       "      <td>2127.000000</td>\n",
       "      <td>435.000000</td>\n",
       "      <td>1166.000000</td>\n",
       "      <td>409.000000</td>\n",
       "      <td>3.536500</td>\n",
       "      <td>179.700000</td>\n",
       "    </tr>\n",
       "    <tr>\n",
       "      <th>75%</th>\n",
       "      <td>-118.010000</td>\n",
       "      <td>37.720000</td>\n",
       "      <td>37.000000</td>\n",
       "      <td>3143.000000</td>\n",
       "      <td>647.000000</td>\n",
       "      <td>1722.000000</td>\n",
       "      <td>604.000000</td>\n",
       "      <td>4.744000</td>\n",
       "      <td>264.700000</td>\n",
       "    </tr>\n",
       "    <tr>\n",
       "      <th>max</th>\n",
       "      <td>-114.310000</td>\n",
       "      <td>41.950000</td>\n",
       "      <td>52.000000</td>\n",
       "      <td>39320.000000</td>\n",
       "      <td>6445.000000</td>\n",
       "      <td>35682.000000</td>\n",
       "      <td>6082.000000</td>\n",
       "      <td>15.000100</td>\n",
       "      <td>500.001000</td>\n",
       "    </tr>\n",
       "  </tbody>\n",
       "</table>\n",
       "</div>"
      ],
      "text/plain": [
       "          longitude      latitude  housing_median_age   total_rooms  \\\n",
       "count  20433.000000  20433.000000        20433.000000  20433.000000   \n",
       "mean    -119.570689     35.633221           28.633094   2636.504233   \n",
       "std        2.003578      2.136348           12.591805   2185.269567   \n",
       "min     -124.350000     32.540000            1.000000      2.000000   \n",
       "25%     -121.800000     33.930000           18.000000   1450.000000   \n",
       "50%     -118.490000     34.260000           29.000000   2127.000000   \n",
       "75%     -118.010000     37.720000           37.000000   3143.000000   \n",
       "max     -114.310000     41.950000           52.000000  39320.000000   \n",
       "\n",
       "       total_bedrooms    population    households  median_income  \\\n",
       "count    20433.000000  20433.000000  20433.000000   20433.000000   \n",
       "mean       537.870553   1424.946949    499.433465       3.871162   \n",
       "std        421.385070   1133.208490    382.299226       1.899291   \n",
       "min          1.000000      3.000000      1.000000       0.499900   \n",
       "25%        296.000000    787.000000    280.000000       2.563700   \n",
       "50%        435.000000   1166.000000    409.000000       3.536500   \n",
       "75%        647.000000   1722.000000    604.000000       4.744000   \n",
       "max       6445.000000  35682.000000   6082.000000      15.000100   \n",
       "\n",
       "       median_house_value  \n",
       "count        20433.000000  \n",
       "mean           206.864413  \n",
       "std            115.435667  \n",
       "min             14.999000  \n",
       "25%            119.500000  \n",
       "50%            179.700000  \n",
       "75%            264.700000  \n",
       "max            500.001000  "
      ]
     },
     "execution_count": 40,
     "metadata": {},
     "output_type": "execute_result"
    }
   ],
   "source": [
    "df.describe()"
   ]
  },
  {
   "cell_type": "markdown",
   "metadata": {},
   "source": [
    "#### Take away:\n",
    "- comparing to 75%, max for `total_rooms`, `population`, `households` need a further check.\n",
    "- abnormal data for target col `median_house_value`."
   ]
  },
  {
   "cell_type": "code",
   "execution_count": 41,
   "metadata": {},
   "outputs": [
    {
     "data": {
      "text/plain": [
       "<matplotlib.axes._subplots.AxesSubplot at 0x7fda88fde910>"
      ]
     },
     "execution_count": 41,
     "metadata": {},
     "output_type": "execute_result"
    },
    {
     "data": {
      "image/png": "[encoded data removed]",
      "text/plain": [
       "<Figure size 432x288 with 1 Axes>"
      ]
     },
     "metadata": {
      "needs_background": "light"
     },
     "output_type": "display_data"
    }
   ],
   "source": [
    "df.median_house_value.hist(bins=100)\n",
    "#abnormal data here, outlier"
   ]
  },
  {
   "cell_type": "code",
   "execution_count": 42,
   "metadata": {},
   "outputs": [
    {
     "data": {
      "text/plain": [
       "<matplotlib.axes._subplots.AxesSubplot at 0x7fda896c23d0>"
      ]
     },
     "execution_count": 42,
     "metadata": {},
     "output_type": "execute_result"
    },
    {
     "data": {
      "image/png": "[encoded data removed]",
      "text/plain": [
       "<Figure size 432x288 with 1 Axes>"
      ]
     },
     "metadata": {
      "needs_background": "light"
     },
     "output_type": "display_data"
    }
   ],
   "source": [
    "df.households.hist(bins=100)"
   ]
  },
  {
   "cell_type": "code",
   "execution_count": 43,
   "metadata": {},
   "outputs": [
    {
     "data": {
      "image/png": "[encoded data removed]",
      "text/plain": [
       "<Figure size 1080x720 with 9 Axes>"
      ]
     },
     "metadata": {
      "needs_background": "light"
     },
     "output_type": "display_data"
    }
   ],
   "source": [
    "df=df[(df.total_rooms<=5000)&(df.total_bedrooms<=1000)&(df.population<=2500)&(df.households<=1000)&\n",
    "      (df.median_income<=8)&(df.median_house_value<500)]\n",
    "\n",
    "#df.median_house_value.hist(bins=100)\n",
    "#df.total_bedrooms.hist(bins=100)\n",
    "#df.median_income.hist(bins=100)\n",
    "#df.total_rooms.hist(bins=100)\n",
    "#df.population.hist(bins=100)\n",
    "#df.households.hist(bins=100)\n",
    "df.hist(bins=100,figsize=(15,10))\n",
    "plt.show()"
   ]
  },
  {
   "cell_type": "code",
   "execution_count": 44,
   "metadata": {},
   "outputs": [
    {
     "data": {
      "text/plain": [
       "(16573, 10)"
      ]
     },
     "execution_count": 44,
     "metadata": {},
     "output_type": "execute_result"
    }
   ],
   "source": [
    "df.shape"
   ]
  },
  {
   "cell_type": "code",
   "execution_count": 45,
   "metadata": {},
   "outputs": [
    {
     "data": {
      "text/html": [
       "<div>\n",
       "<style scoped>\n",
       "    .dataframe tbody tr th:only-of-type {\n",
       "        vertical-align: middle;\n",
       "    }\n",
       "\n",
       "    .dataframe tbody tr th {\n",
       "        vertical-align: top;\n",
       "    }\n",
       "\n",
       "    .dataframe thead th {\n",
       "        text-align: right;\n",
       "    }\n",
       "</style>\n",
       "<table border=\"1\" class=\"dataframe\">\n",
       "  <thead>\n",
       "    <tr style=\"text-align: right;\">\n",
       "      <th></th>\n",
       "      <th>longitude</th>\n",
       "      <th>latitude</th>\n",
       "      <th>housing_median_age</th>\n",
       "      <th>total_rooms</th>\n",
       "      <th>total_bedrooms</th>\n",
       "      <th>population</th>\n",
       "      <th>households</th>\n",
       "      <th>median_income</th>\n",
       "      <th>median_house_value</th>\n",
       "      <th>ocean_proximity</th>\n",
       "    </tr>\n",
       "  </thead>\n",
       "  <tbody>\n",
       "    <tr>\n",
       "      <th>2</th>\n",
       "      <td>-122.24</td>\n",
       "      <td>37.85</td>\n",
       "      <td>52.0</td>\n",
       "      <td>1467.0</td>\n",
       "      <td>190.0</td>\n",
       "      <td>496.0</td>\n",
       "      <td>177.0</td>\n",
       "      <td>7.2574</td>\n",
       "      <td>352.1</td>\n",
       "      <td>NEAR BAY</td>\n",
       "    </tr>\n",
       "    <tr>\n",
       "      <th>3</th>\n",
       "      <td>-122.25</td>\n",
       "      <td>37.85</td>\n",
       "      <td>52.0</td>\n",
       "      <td>1274.0</td>\n",
       "      <td>235.0</td>\n",
       "      <td>558.0</td>\n",
       "      <td>219.0</td>\n",
       "      <td>5.6431</td>\n",
       "      <td>341.3</td>\n",
       "      <td>NEAR BAY</td>\n",
       "    </tr>\n",
       "    <tr>\n",
       "      <th>4</th>\n",
       "      <td>-122.25</td>\n",
       "      <td>37.85</td>\n",
       "      <td>52.0</td>\n",
       "      <td>1627.0</td>\n",
       "      <td>280.0</td>\n",
       "      <td>565.0</td>\n",
       "      <td>259.0</td>\n",
       "      <td>3.8462</td>\n",
       "      <td>342.2</td>\n",
       "      <td>NEAR BAY</td>\n",
       "    </tr>\n",
       "    <tr>\n",
       "      <th>5</th>\n",
       "      <td>-122.25</td>\n",
       "      <td>37.85</td>\n",
       "      <td>52.0</td>\n",
       "      <td>919.0</td>\n",
       "      <td>213.0</td>\n",
       "      <td>413.0</td>\n",
       "      <td>193.0</td>\n",
       "      <td>4.0368</td>\n",
       "      <td>269.7</td>\n",
       "      <td>NEAR BAY</td>\n",
       "    </tr>\n",
       "    <tr>\n",
       "      <th>6</th>\n",
       "      <td>-122.25</td>\n",
       "      <td>37.84</td>\n",
       "      <td>52.0</td>\n",
       "      <td>2535.0</td>\n",
       "      <td>489.0</td>\n",
       "      <td>1094.0</td>\n",
       "      <td>514.0</td>\n",
       "      <td>3.6591</td>\n",
       "      <td>299.2</td>\n",
       "      <td>NEAR BAY</td>\n",
       "    </tr>\n",
       "  </tbody>\n",
       "</table>\n",
       "</div>"
      ],
      "text/plain": [
       "   longitude  latitude  housing_median_age  total_rooms  total_bedrooms  \\\n",
       "2    -122.24     37.85                52.0       1467.0           190.0   \n",
       "3    -122.25     37.85                52.0       1274.0           235.0   \n",
       "4    -122.25     37.85                52.0       1627.0           280.0   \n",
       "5    -122.25     37.85                52.0        919.0           213.0   \n",
       "6    -122.25     37.84                52.0       2535.0           489.0   \n",
       "\n",
       "   population  households  median_income  median_house_value ocean_proximity  \n",
       "2       496.0       177.0         7.2574               352.1        NEAR BAY  \n",
       "3       558.0       219.0         5.6431               341.3        NEAR BAY  \n",
       "4       565.0       259.0         3.8462               342.2        NEAR BAY  \n",
       "5       413.0       193.0         4.0368               269.7        NEAR BAY  \n",
       "6      1094.0       514.0         3.6591               299.2        NEAR BAY  "
      ]
     },
     "execution_count": 45,
     "metadata": {},
     "output_type": "execute_result"
    }
   ],
   "source": [
    "df.head()"
   ]
  },
  {
   "cell_type": "markdown",
   "metadata": {},
   "source": [
    "### 4. Modeling"
   ]
  },
  {
   "cell_type": "markdown",
   "metadata": {},
   "source": [
    "### 4.0 Train/Test Split"
   ]
  },
  {
   "cell_type": "code",
   "execution_count": 46,
   "metadata": {},
   "outputs": [
    {
     "name": "stdout",
     "output_type": "stream",
     "text": [
      "Total Sample size: 16573\n",
      " training size: 12926 \n",
      " test size: 3647\n"
     ]
    }
   ],
   "source": [
    "from sklearn.model_selection import train_test_split\n",
    "train, test= train_test_split(df,test_size=0.22, random_state=123)\n",
    "print(\"Total Sample size: %i\\n training size: %i \\n test size: %i\"\\\n",
    "%(df.shape[0],train.shape[0],test.shape[0]))"
   ]
  },
  {
   "cell_type": "code",
   "execution_count": 47,
   "metadata": {},
   "outputs": [
    {
     "data": {
      "text/html": [
       "<div>\n",
       "<style scoped>\n",
       "    .dataframe tbody tr th:only-of-type {\n",
       "        vertical-align: middle;\n",
       "    }\n",
       "\n",
       "    .dataframe tbody tr th {\n",
       "        vertical-align: top;\n",
       "    }\n",
       "\n",
       "    .dataframe thead th {\n",
       "        text-align: right;\n",
       "    }\n",
       "</style>\n",
       "<table border=\"1\" class=\"dataframe\">\n",
       "  <thead>\n",
       "    <tr style=\"text-align: right;\">\n",
       "      <th></th>\n",
       "      <th>longitude</th>\n",
       "      <th>latitude</th>\n",
       "      <th>housing_median_age</th>\n",
       "      <th>total_rooms</th>\n",
       "      <th>total_bedrooms</th>\n",
       "      <th>population</th>\n",
       "      <th>households</th>\n",
       "      <th>median_income</th>\n",
       "      <th>median_house_value</th>\n",
       "      <th>ocean_proximity</th>\n",
       "    </tr>\n",
       "  </thead>\n",
       "  <tbody>\n",
       "    <tr>\n",
       "      <th>18633</th>\n",
       "      <td>-121.96</td>\n",
       "      <td>37.06</td>\n",
       "      <td>16.0</td>\n",
       "      <td>1321.0</td>\n",
       "      <td>224.0</td>\n",
       "      <td>650.0</td>\n",
       "      <td>206.0</td>\n",
       "      <td>6.3258</td>\n",
       "      <td>390.0</td>\n",
       "      <td>NEAR OCEAN</td>\n",
       "    </tr>\n",
       "    <tr>\n",
       "      <th>4417</th>\n",
       "      <td>-118.26</td>\n",
       "      <td>34.08</td>\n",
       "      <td>45.0</td>\n",
       "      <td>2174.0</td>\n",
       "      <td>627.0</td>\n",
       "      <td>1992.0</td>\n",
       "      <td>557.0</td>\n",
       "      <td>2.5428</td>\n",
       "      <td>167.8</td>\n",
       "      <td>&lt;1H OCEAN</td>\n",
       "    </tr>\n",
       "    <tr>\n",
       "      <th>2250</th>\n",
       "      <td>-119.80</td>\n",
       "      <td>36.80</td>\n",
       "      <td>43.0</td>\n",
       "      <td>1951.0</td>\n",
       "      <td>288.0</td>\n",
       "      <td>725.0</td>\n",
       "      <td>308.0</td>\n",
       "      <td>6.3359</td>\n",
       "      <td>169.3</td>\n",
       "      <td>INLAND</td>\n",
       "    </tr>\n",
       "    <tr>\n",
       "      <th>2391</th>\n",
       "      <td>-119.33</td>\n",
       "      <td>36.89</td>\n",
       "      <td>15.0</td>\n",
       "      <td>1879.0</td>\n",
       "      <td>411.0</td>\n",
       "      <td>755.0</td>\n",
       "      <td>294.0</td>\n",
       "      <td>2.0000</td>\n",
       "      <td>83.3</td>\n",
       "      <td>INLAND</td>\n",
       "    </tr>\n",
       "    <tr>\n",
       "      <th>12802</th>\n",
       "      <td>-121.44</td>\n",
       "      <td>38.61</td>\n",
       "      <td>33.0</td>\n",
       "      <td>1591.0</td>\n",
       "      <td>466.0</td>\n",
       "      <td>1000.0</td>\n",
       "      <td>418.0</td>\n",
       "      <td>1.0467</td>\n",
       "      <td>70.1</td>\n",
       "      <td>INLAND</td>\n",
       "    </tr>\n",
       "  </tbody>\n",
       "</table>\n",
       "</div>"
      ],
      "text/plain": [
       "       longitude  latitude  housing_median_age  total_rooms  total_bedrooms  \\\n",
       "18633    -121.96     37.06                16.0       1321.0           224.0   \n",
       "4417     -118.26     34.08                45.0       2174.0           627.0   \n",
       "2250     -119.80     36.80                43.0       1951.0           288.0   \n",
       "2391     -119.33     36.89                15.0       1879.0           411.0   \n",
       "12802    -121.44     38.61                33.0       1591.0           466.0   \n",
       "\n",
       "       population  households  median_income  median_house_value  \\\n",
       "18633       650.0       206.0         6.3258               390.0   \n",
       "4417       1992.0       557.0         2.5428               167.8   \n",
       "2250        725.0       308.0         6.3359               169.3   \n",
       "2391        755.0       294.0         2.0000                83.3   \n",
       "12802      1000.0       418.0         1.0467                70.1   \n",
       "\n",
       "      ocean_proximity  \n",
       "18633      NEAR OCEAN  \n",
       "4417        <1H OCEAN  \n",
       "2250           INLAND  \n",
       "2391           INLAND  \n",
       "12802          INLAND  "
      ]
     },
     "execution_count": 47,
     "metadata": {},
     "output_type": "execute_result"
    }
   ],
   "source": [
    "train.head()"
   ]
  },
  {
   "cell_type": "code",
   "execution_count": 14,
   "metadata": {},
   "outputs": [],
   "source": [
    "#train.drop('median_house_value',axis=1, inplace=True)\n",
    "#X_train=train\n",
    "#X_train.shape"
   ]
  },
  {
   "cell_type": "markdown",
   "metadata": {},
   "source": [
    "### 4.1 Define functions that build and train a model\n",
    "- build_model(learning_rate), which builds a randomly-initialized model.\n",
    "- train_model(model, feature, label, epochs), which trains the model from the examples (feature and label) you pass."
   ]
  },
  {
   "cell_type": "code",
   "execution_count": 48,
   "metadata": {},
   "outputs": [],
   "source": [
    "#Define the functions that build and train a model\n",
    "def build_model(my_learning_rate):\n",
    "  # Create and compile a simple linear regression model.\n",
    "  model = tf.keras.models.Sequential() # Most simple tf.keras models are sequential.\n",
    "\n",
    "  # Describe the topography of the model.\n",
    "  model.add(tf.keras.layers.Dense(units=1, \n",
    "                                  input_shape=(1,))) #a single node in a single layer.\n",
    "\n",
    "  # Compile into TensorFlow. \n",
    "  model.compile(optimizer=tf.keras.optimizers.RMSprop(lr=my_learning_rate),\n",
    "                loss=\"mean_squared_error\",\n",
    "                metrics=[tf.keras.metrics.RootMeanSquaredError()])\n",
    "\n",
    "  return model        \n",
    "\n",
    "#Train the model by feeding feature and label.\n",
    "def train_model(model, df, feature, label, epochs, batch_size):\n",
    "\n",
    "  history = model.fit(x=df[feature],\n",
    "                      y=df[label],\n",
    "                      batch_size=batch_size,\n",
    "                      epochs=epochs) # specified number of epochs. \n",
    "\n",
    "  # Gather the trained model's weight and bias.\n",
    "  trained_weight = model.get_weights()[0]\n",
    "  trained_bias = model.get_weights()[1]\n",
    "\n",
    "  epochs = history.epoch # The list of epochs is stored separately from the rest of history.\n",
    "  hist = pd.DataFrame(history.history) # Isolate the error for each epoch.\n",
    "\n",
    "  # Take a snapshot of the model's root mean squared error at each epoch. \n",
    "  rmse = hist[\"root_mean_squared_error\"]\n",
    "\n",
    "  return trained_weight, trained_bias, epochs, rmse"
   ]
  },
  {
   "cell_type": "markdown",
   "metadata": {},
   "source": [
    "### 4.2 Define plotting functions\n",
    "- a scatter plot of the feature vs. the label, and a line showing the output of the trained model\n",
    "- a loss curve"
   ]
  },
  {
   "cell_type": "code",
   "execution_count": 49,
   "metadata": {},
   "outputs": [],
   "source": [
    "#Define the plotting functions\n",
    "def plot_the_model(trained_weight, trained_bias, feature, label):\n",
    "  # Plot the trained model against 200 random training examples.\n",
    "\n",
    "  plt.xlabel(feature)\n",
    "  plt.ylabel(label)\n",
    "\n",
    "  # Create a scatter plot from 200 random points of the dataset.\n",
    "  random_examples = train.sample(n=200)\n",
    "  plt.scatter(random_examples[feature], random_examples[label])\n",
    "\n",
    "  # Create a red line representing the model. \n",
    "  # The red line starts at coordinates (x0, y0) and ends at coordinates (x1, y1).\n",
    "  x0 = 0\n",
    "  y0 = trained_bias\n",
    "  x1 = 10000\n",
    "  y1 = trained_bias + (trained_weight * x1)\n",
    "  plt.plot([x0, x1], [y0, y1], c='r')\n",
    "\n",
    "  plt.show()\n",
    "\n",
    "#Plot a curve of loss vs. epoch.\n",
    "def plot_the_loss_curve(epochs, rmse):\n",
    "  plt.figure()\n",
    "  plt.xlabel(\"Epoch\")\n",
    "  plt.ylabel(\"Root Mean Squared Error\")\n",
    "\n",
    "  plt.plot(epochs, rmse, label=\"Loss\")\n",
    "  plt.legend()\n",
    "  plt.ylim([rmse.min()*0.97, rmse.max()])\n",
    "  plt.show()  "
   ]
  },
  {
   "cell_type": "markdown",
   "metadata": {},
   "source": [
    "### 4.3 Call the model functions"
   ]
  },
  {
   "cell_type": "code",
   "execution_count": 50,
   "metadata": {},
   "outputs": [
    {
     "data": {
      "text/html": [
       "<div>\n",
       "<style scoped>\n",
       "    .dataframe tbody tr th:only-of-type {\n",
       "        vertical-align: middle;\n",
       "    }\n",
       "\n",
       "    .dataframe tbody tr th {\n",
       "        vertical-align: top;\n",
       "    }\n",
       "\n",
       "    .dataframe thead th {\n",
       "        text-align: right;\n",
       "    }\n",
       "</style>\n",
       "<table border=\"1\" class=\"dataframe\">\n",
       "  <thead>\n",
       "    <tr style=\"text-align: right;\">\n",
       "      <th></th>\n",
       "      <th>longitude</th>\n",
       "      <th>latitude</th>\n",
       "      <th>housing_median_age</th>\n",
       "      <th>total_rooms</th>\n",
       "      <th>total_bedrooms</th>\n",
       "      <th>population</th>\n",
       "      <th>households</th>\n",
       "      <th>median_income</th>\n",
       "      <th>median_house_value</th>\n",
       "      <th>ocean_proximity</th>\n",
       "    </tr>\n",
       "  </thead>\n",
       "  <tbody>\n",
       "    <tr>\n",
       "      <th>18633</th>\n",
       "      <td>-121.96</td>\n",
       "      <td>37.06</td>\n",
       "      <td>16.0</td>\n",
       "      <td>1321.0</td>\n",
       "      <td>224.0</td>\n",
       "      <td>650.0</td>\n",
       "      <td>206.0</td>\n",
       "      <td>6.3258</td>\n",
       "      <td>390.0</td>\n",
       "      <td>NEAR OCEAN</td>\n",
       "    </tr>\n",
       "    <tr>\n",
       "      <th>4417</th>\n",
       "      <td>-118.26</td>\n",
       "      <td>34.08</td>\n",
       "      <td>45.0</td>\n",
       "      <td>2174.0</td>\n",
       "      <td>627.0</td>\n",
       "      <td>1992.0</td>\n",
       "      <td>557.0</td>\n",
       "      <td>2.5428</td>\n",
       "      <td>167.8</td>\n",
       "      <td>&lt;1H OCEAN</td>\n",
       "    </tr>\n",
       "    <tr>\n",
       "      <th>2250</th>\n",
       "      <td>-119.80</td>\n",
       "      <td>36.80</td>\n",
       "      <td>43.0</td>\n",
       "      <td>1951.0</td>\n",
       "      <td>288.0</td>\n",
       "      <td>725.0</td>\n",
       "      <td>308.0</td>\n",
       "      <td>6.3359</td>\n",
       "      <td>169.3</td>\n",
       "      <td>INLAND</td>\n",
       "    </tr>\n",
       "    <tr>\n",
       "      <th>2391</th>\n",
       "      <td>-119.33</td>\n",
       "      <td>36.89</td>\n",
       "      <td>15.0</td>\n",
       "      <td>1879.0</td>\n",
       "      <td>411.0</td>\n",
       "      <td>755.0</td>\n",
       "      <td>294.0</td>\n",
       "      <td>2.0000</td>\n",
       "      <td>83.3</td>\n",
       "      <td>INLAND</td>\n",
       "    </tr>\n",
       "    <tr>\n",
       "      <th>12802</th>\n",
       "      <td>-121.44</td>\n",
       "      <td>38.61</td>\n",
       "      <td>33.0</td>\n",
       "      <td>1591.0</td>\n",
       "      <td>466.0</td>\n",
       "      <td>1000.0</td>\n",
       "      <td>418.0</td>\n",
       "      <td>1.0467</td>\n",
       "      <td>70.1</td>\n",
       "      <td>INLAND</td>\n",
       "    </tr>\n",
       "  </tbody>\n",
       "</table>\n",
       "</div>"
      ],
      "text/plain": [
       "       longitude  latitude  housing_median_age  total_rooms  total_bedrooms  \\\n",
       "18633    -121.96     37.06                16.0       1321.0           224.0   \n",
       "4417     -118.26     34.08                45.0       2174.0           627.0   \n",
       "2250     -119.80     36.80                43.0       1951.0           288.0   \n",
       "2391     -119.33     36.89                15.0       1879.0           411.0   \n",
       "12802    -121.44     38.61                33.0       1591.0           466.0   \n",
       "\n",
       "       population  households  median_income  median_house_value  \\\n",
       "18633       650.0       206.0         6.3258               390.0   \n",
       "4417       1992.0       557.0         2.5428               167.8   \n",
       "2250        725.0       308.0         6.3359               169.3   \n",
       "2391        755.0       294.0         2.0000                83.3   \n",
       "12802      1000.0       418.0         1.0467                70.1   \n",
       "\n",
       "      ocean_proximity  \n",
       "18633      NEAR OCEAN  \n",
       "4417        <1H OCEAN  \n",
       "2250           INLAND  \n",
       "2391           INLAND  \n",
       "12802          INLAND  "
      ]
     },
     "execution_count": 50,
     "metadata": {},
     "output_type": "execute_result"
    }
   ],
   "source": [
    "train.head()"
   ]
  },
  {
   "cell_type": "code",
   "execution_count": 51,
   "metadata": {},
   "outputs": [
    {
     "data": {
      "text/plain": [
       "array(['longitude', 'latitude', 'housing_median_age', 'total_rooms',\n",
       "       'total_bedrooms', 'population', 'households', 'median_income',\n",
       "       'median_house_value', 'ocean_proximity'], dtype=object)"
      ]
     },
     "execution_count": 51,
     "metadata": {},
     "output_type": "execute_result"
    }
   ],
   "source": [
    "train.columns.values"
   ]
  },
  {
   "cell_type": "code",
   "execution_count": 52,
   "metadata": {},
   "outputs": [
    {
     "name": "stdout",
     "output_type": "stream",
     "text": [
      "Epoch 1/30\n",
      "431/431 [==============================] - 1s 1ms/step - loss: 1868261.9829 - root_mean_squared_error: 1281.6405\n",
      "Epoch 2/30\n",
      "431/431 [==============================] - 1s 1ms/step - loss: 13127.5093 - root_mean_squared_error: 114.5697\n",
      "Epoch 3/30\n",
      "431/431 [==============================] - 1s 1ms/step - loss: 12796.2152 - root_mean_squared_error: 113.1124\n",
      "Epoch 4/30\n",
      "431/431 [==============================] - 1s 1ms/step - loss: 12932.3283 - root_mean_squared_error: 113.7111A: 0s - loss: 12986.6204 - root_mean_squared_error: 113.\n",
      "Epoch 5/30\n",
      "431/431 [==============================] - 0s 1ms/step - loss: 12643.2416 - root_mean_squared_error: 112.4240\n",
      "Epoch 6/30\n",
      "431/431 [==============================] - 0s 1ms/step - loss: 12641.1235 - root_mean_squared_error: 112.4187\n",
      "Epoch 7/30\n",
      "431/431 [==============================] - 0s 1ms/step - loss: 12189.2691 - root_mean_squared_error: 110.4003\n",
      "Epoch 8/30\n",
      "431/431 [==============================] - 0s 996us/step - loss: 12148.5269 - root_mean_squared_error: 110.2136\n",
      "Epoch 9/30\n",
      "431/431 [==============================] - 1s 1ms/step - loss: 12060.5931 - root_mean_squared_error: 109.8147\n",
      "Epoch 10/30\n",
      "431/431 [==============================] - 0s 1ms/step - loss: 11850.3094 - root_mean_squared_error: 108.8544\n",
      "Epoch 11/30\n",
      "431/431 [==============================] - 1s 1ms/step - loss: 11786.4267 - root_mean_squared_error: 108.5596\n",
      "Epoch 12/30\n",
      "431/431 [==============================] - 0s 1ms/step - loss: 11557.8791 - root_mean_squared_error: 107.5001\n",
      "Epoch 13/30\n",
      "431/431 [==============================] - 1s 1ms/step - loss: 11526.4626 - root_mean_squared_error: 107.3356A: 0s - loss: 11526.4884 - root_mean_squared_error: 107.335\n",
      "Epoch 14/30\n",
      "431/431 [==============================] - 0s 1ms/step - loss: 11217.6977 - root_mean_squared_error: 105.9047\n",
      "Epoch 15/30\n",
      "431/431 [==============================] - 0s 1ms/step - loss: 11287.0150 - root_mean_squared_error: 106.2320\n",
      "Epoch 16/30\n",
      "431/431 [==============================] - 1s 1ms/step - loss: 11144.9637 - root_mean_squared_error: 105.5633\n",
      "Epoch 17/30\n",
      "431/431 [==============================] - 0s 927us/step - loss: 11289.1431 - root_mean_squared_error: 106.1971\n",
      "Epoch 18/30\n",
      "431/431 [==============================] - 1s 1ms/step - loss: 10879.5059 - root_mean_squared_error: 104.2986A: 0s - loss: 10867.7832 - root_mean_squared_error: 104.2\n",
      "Epoch 19/30\n",
      "431/431 [==============================] - 1s 1ms/step - loss: 10704.8046 - root_mean_squared_error: 103.4597\n",
      "Epoch 20/30\n",
      "431/431 [==============================] - 1s 2ms/step - loss: 10634.9468 - root_mean_squared_error: 103.1246A: 0s - loss: 10626.9637 - root_mean_squared_error: 10\n",
      "Epoch 21/30\n",
      "431/431 [==============================] - 1s 1ms/step - loss: 10616.0383 - root_mean_squared_error: 103.0235\n",
      "Epoch 22/30\n",
      "431/431 [==============================] - 0s 963us/step - loss: 10498.1610 - root_mean_squared_error: 102.4262\n",
      "Epoch 23/30\n",
      "431/431 [==============================] - 1s 1ms/step - loss: 10409.1845 - root_mean_squared_error: 102.0215\n",
      "Epoch 24/30\n",
      "431/431 [==============================] - 0s 1ms/step - loss: 10566.5770 - root_mean_squared_error: 102.7880\n",
      "Epoch 25/30\n",
      "431/431 [==============================] - 0s 897us/step - loss: 10520.1528 - root_mean_squared_error: 102.5546\n",
      "Epoch 26/30\n",
      "431/431 [==============================] - 0s 899us/step - loss: 10084.1836 - root_mean_squared_error: 100.4137\n",
      "Epoch 27/30\n",
      "431/431 [==============================] - 0s 924us/step - loss: 10004.3192 - root_mean_squared_error: 100.0147\n",
      "Epoch 28/30\n",
      "431/431 [==============================] - 0s 967us/step - loss: 10153.4699 - root_mean_squared_error: 100.7603\n",
      "Epoch 29/30\n",
      "431/431 [==============================] - 1s 1ms/step - loss: 10059.8405 - root_mean_squared_error: 100.2762\n",
      "Epoch 30/30\n",
      "431/431 [==============================] - 1s 2ms/step - loss: 10231.5098 - root_mean_squared_error: 101.1399\n",
      "\n",
      "The learned weight for your model is 0.0404\n",
      "The learned bias for your model is 79.4140\n",
      "\n"
     ]
    },
    {
     "data": {
      "image/png": "[encoded data removed]",
      "text/plain": [
       "<Figure size 432x288 with 1 Axes>"
      ]
     },
     "metadata": {
      "needs_background": "light"
     },
     "output_type": "display_data"
    },
    {
     "data": {
      "image/png": "[encoded data removed]",
      "text/plain": [
       "<Figure size 432x288 with 1 Axes>"
      ]
     },
     "metadata": {
      "needs_background": "light"
     },
     "output_type": "display_data"
    }
   ],
   "source": [
    "# Hyperparameters:\n",
    "learning_rate = 0.01\n",
    "epochs = 30\n",
    "batch_size = 30\n",
    "\n",
    "my_feature = \"total_rooms\"  \n",
    "my_label=\"median_house_value\" \n",
    "\n",
    "# Discard any pre-existing version of the model.\n",
    "my_model = None \n",
    "\n",
    "# Invoke the functions.\n",
    "my_model = build_model(learning_rate)\n",
    "weight, bias, epochs, rmse = train_model(my_model, train, \n",
    "                                         my_feature, my_label,\n",
    "                                         epochs, batch_size)\n",
    "\n",
    "print(\"\\nThe learned weight for your model is %.4f\" % weight)\n",
    "print(\"The learned bias for your model is %.4f\\n\" % bias )\n",
    "\n",
    "plot_the_model(weight, bias, my_feature, my_label)\n",
    "plot_the_loss_curve(epochs, rmse)"
   ]
  },
  {
   "cell_type": "markdown",
   "metadata": {},
   "source": [
    "### 4.4 Make predictions"
   ]
  },
  {
   "cell_type": "code",
   "execution_count": 83,
   "metadata": {},
   "outputs": [],
   "source": [
    "def predict_house_values(n, feature, label):\n",
    "\n",
    "  batch = train[feature][10000:10000 + n]\n",
    "  y_predicted= my_model.predict_on_batch(x=batch)\n",
    "\n",
    "  print(\"feature   label          predicted\")\n",
    "  print(\"--------------------------------------\")\n",
    "  for i in range(n):\n",
    "    print (\"%5.0f %6.0f %15.0f\" % (train[feature][10000 + i],\n",
    "                                   train[label][10000 + i],\n",
    "                                   y_predicted[i][0] ))"
   ]
  },
  {
   "cell_type": "code",
   "execution_count": 86,
   "metadata": {},
   "outputs": [
    {
     "name": "stdout",
     "output_type": "stream",
     "text": [
      "feature   label          predicted\n",
      "--------------------------------------\n",
      " 1839    210             153\n",
      " 1813    182             169\n",
      " 2374    206             163\n",
      " 1875    195             116\n"
     ]
    }
   ],
   "source": [
    "# invoke the prediction function on 10 examples:\n",
    "predict_house_values(4, my_feature, my_label)"
   ]
  },
  {
   "cell_type": "code",
   "execution_count": null,
   "metadata": {},
   "outputs": [],
   "source": [
    "# why it stuck at 4 examples?\n",
    "# features now is one: room_size, how to scale to all features?"
   ]
  },
  {
   "cell_type": "code",
   "execution_count": null,
   "metadata": {},
   "outputs": [],
   "source": []
  }
 ],
 "metadata": {
  "kernelspec": {
   "display_name": "Python 3",
   "language": "python",
   "name": "python3"
  },
  "language_info": {
   "codemirror_mode": {
    "name": "ipython",
    "version": 3
   },
   "file_extension": ".py",
   "mimetype": "text/x-python",
   "name": "python",
   "nbconvert_exporter": "python",
   "pygments_lexer": "ipython3",
   "version": "3.8.3"
  }
 },
 "nbformat": 4,
 "nbformat_minor": 4
}
