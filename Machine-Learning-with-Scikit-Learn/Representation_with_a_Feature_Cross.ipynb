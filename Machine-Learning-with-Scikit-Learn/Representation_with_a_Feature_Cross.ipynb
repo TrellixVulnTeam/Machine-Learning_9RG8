{
 "cells": [
  {
   "cell_type": "code",
   "execution_count": 1,
   "metadata": {
    "cellView": "form",
    "id": "wDlWLbfkJtvu"
   },
   "outputs": [],
   "source": [
    "#@title Copyright 2020 Google LLC. Double-click for license information.\n",
    "# Licensed under the Apache License, Version 2.0 (the \"License\");\n",
    "# you may not use this file except in compliance with the License.\n",
    "# You may obtain a copy of the License at\n",
    "#\n",
    "# https://www.apache.org/licenses/LICENSE-2.0\n",
    "#\n",
    "# Unless required by applicable law or agreed to in writing, software\n",
    "# distributed under the License is distributed on an \"AS IS\" BASIS,\n",
    "# WITHOUT WARRANTIES OR CONDITIONS OF ANY KIND, either express or implied.\n",
    "# See the License for the specific language governing permissions and\n",
    "# limitations under the License."
   ]
  },
  {
   "cell_type": "markdown",
   "metadata": {
    "id": "TL5y5fY9Jy_x"
   },
   "source": [
    "# Representation with a Feature Cross\n",
    "\n",
    "In this exercise, you'll experiment with different ways to represent features."
   ]
  },
  {
   "cell_type": "markdown",
   "metadata": {
    "id": "RXWoPIezkzgI"
   },
   "source": [
    "## Learning Objectives:\n",
    "\n",
    "After doing this Colab, you'll know how to:\n",
    "\n",
    "  * Use [`tf.feature_column`](https://www.tensorflow.org/api_docs/python/tf/feature_column) methods to represent features in different ways.\n",
    "  * Represent features as [bins](https://developers.google.com/machine-learning/glossary/#bucketing). \n",
    "  * Cross bins to create a [feature cross](https://developers.google.com/machine-learning/glossary/#feature_cross). "
   ]
  },
  {
   "cell_type": "markdown",
   "metadata": {
    "id": "lH_g3Hsfkzzb"
   },
   "source": [
    "## The Dataset\n",
    "  \n",
    "Like several of the previous Colabs, this exercise uses the [California Housing Dataset](https://developers.google.com/machine-learning/crash-course/california-housing-data-description)."
   ]
  },
  {
   "cell_type": "markdown",
   "metadata": {
    "id": "xchnxAsaKKqO"
   },
   "source": [
    "## Use the right version of TensorFlow\n",
    "\n"
   ]
  },
  {
   "cell_type": "code",
   "execution_count": 2,
   "metadata": {
    "id": "qBpGi_GD14-p"
   },
   "outputs": [],
   "source": [
    "#%tensorflow_version 2.x"
   ]
  },
  {
   "cell_type": "markdown",
   "metadata": {
    "id": "5iuw6-JOGf7I"
   },
   "source": [
    "## Call the import statements\n",
    "\n",
    "The following code imports the necessary code to run the code in the rest of this Colaboratory."
   ]
  },
  {
   "cell_type": "code",
   "execution_count": 3,
   "metadata": {
    "cellView": "form",
    "id": "9n9_cTveKmse"
   },
   "outputs": [
    {
     "name": "stdout",
     "output_type": "stream",
     "text": [
      "Imported the modules.\n"
     ]
    }
   ],
   "source": [
    "#@title Load the imports\n",
    "\n",
    "# from __future__ import absolute_import, division, print_function, unicode_literals\n",
    "\n",
    "import numpy as np\n",
    "import pandas as pd\n",
    "import tensorflow as tf\n",
    "from tensorflow import feature_column\n",
    "from tensorflow.keras import layers\n",
    "\n",
    "from matplotlib import pyplot as plt\n",
    "\n",
    "# The following lines adjust the granularity of reporting.\n",
    "pd.options.display.max_rows = 10\n",
    "pd.options.display.float_format = \"{:.1f}\".format\n",
    "\n",
    "tf.keras.backend.set_floatx('float32')\n",
    "\n",
    "print(\"Imported the modules.\")"
   ]
  },
  {
   "cell_type": "markdown",
   "metadata": {
    "id": "X_TaJhU4KcuY"
   },
   "source": [
    "## Load, scale, and shuffle the examples\n",
    "\n",
    "The following code cell loads the separate .csv files and creates the following two pandas DataFrames:\n",
    "\n",
    "* `train_df`, which contains the training set\n",
    "* `test_df`, which contains the test set\n",
    "\n",
    "The code cell then scales the `median_house_value` to a more human-friendly range and then suffles the examples."
   ]
  },
  {
   "cell_type": "code",
   "execution_count": 4,
   "metadata": {
    "id": "JZlvdpyYKx7V"
   },
   "outputs": [],
   "source": [
    "# Load the dataset\n",
    "train_df = pd.read_csv(\"https://download.mlcc.google.com/mledu-datasets/california_housing_train.csv\")\n",
    "test_df = pd.read_csv(\"https://download.mlcc.google.com/mledu-datasets/california_housing_test.csv\")\n",
    "\n",
    "# Scale the labels\n",
    "scale_factor = 1000.0\n",
    "# Scale the training set's label.\n",
    "train_df[\"median_house_value\"] /= scale_factor \n",
    "\n",
    "# Scale the test set's label\n",
    "test_df[\"median_house_value\"] /= scale_factor\n",
    "\n",
    "# Shuffle the examples\n",
    "train_df = train_df.reindex(np.random.permutation(train_df.index))"
   ]
  },
  {
   "cell_type": "markdown",
   "metadata": {
    "id": "8kir8UTUXSV8"
   },
   "source": [
    "## Represent latitude and longitude as floating-point values\n",
    "\n",
    "Previous Colabs trained on only a single feature or a single synthetic feature. By contrast, this exercise trains on two features. Furthermore, this Colab introduces **feature columns**, which provide a sophisticated way to represent features.  \n",
    "\n",
    "You create feature columns as possible:\n",
    "\n",
    "  * Call a [`tf.feature_column`](https://www.tensorflow.org/api_docs/python/tf/feature_column) method to represent a single feature, single feature cross, or single synthetic feature in the desired way.  For example, to represent a certain feature as floating-point values, call [`tf.feature_column.numeric_column`](https://www.tensorflow.org/api_docs/python/tf/feature_column/numeric_column). To represent a certain feature as a series of buckets or bins, call [`tf.feature_column.bucketized_column`](https://www.tensorflow.org/api_docs/python/tf/feature_column/bucketized_column).\n",
    "  * Assemble the created representations into a Python list. \n",
    "\n",
    "A neighborhood's location is typically the most important feature in determining a house's value. The California Housing dataset provides two features, `latitude` and `longitude` that identify each neighborhood's location. \n",
    "\n",
    "The following code cell calls [`tf.feature_column.numeric_column`](https://www.tensorflow.org/api_docs/python/tf/feature_column/numeric_column) twice, first to represent `latitude` as floating-point value and a second time to represent `longitude` as floating-point values. \n",
    "\n",
    "This code cell specifies the features that you'll ultimately train the model on and how each of those features will be represented. The transformations (collected in `fp_feature_layer`) don't actually get applied until you pass a DataFrame to it, which will happen when we train the model. \n"
   ]
  },
  {
   "cell_type": "code",
   "execution_count": 5,
   "metadata": {
    "id": "3tmmZIDw4JEC"
   },
   "outputs": [],
   "source": [
    "# Create an empty list that will eventually hold all feature columns.\n",
    "feature_columns = []\n",
    "\n",
    "# Create a numerical feature column to represent latitude.\n",
    "latitude = tf.feature_column.numeric_column(\"latitude\")\n",
    "feature_columns.append(latitude)\n",
    "\n",
    "# Create a numerical feature column to represent longitude.\n",
    "longitude = tf.feature_column.numeric_column(\"longitude\")\n",
    "feature_columns.append(longitude)\n",
    "\n",
    "# Convert the list of feature columns into a layer that will ultimately become\n",
    "# part of the model. Understanding layers is not important right now.\n",
    "fp_feature_layer = layers.DenseFeatures(feature_columns)"
   ]
  },
  {
   "cell_type": "markdown",
   "metadata": {
    "id": "Q2x8sHKnAy3Q"
   },
   "source": [
    "When used, the layer processes the raw inputs, according to the transformations described by the feature columns, and packs the result into a numeric array.  (The model will train on this numeric array.) "
   ]
  },
  {
   "cell_type": "markdown",
   "metadata": {
    "id": "3014ezH3C7jT"
   },
   "source": [
    "## Define functions that create and train a model, and a plotting function\n",
    "\n",
    "The following code defines three functions:\n",
    "\n",
    "  * `create_model`, which tells TensorFlow to build a linear regression model and to use the `feature_layer_as_fp` as the representation of the model's features.\n",
    "  * `train_model`, which will ultimately train the model from training set examples.\n",
    "  * `plot_the_loss_curve`, which generates a loss curve."
   ]
  },
  {
   "cell_type": "code",
   "execution_count": 6,
   "metadata": {
    "cellView": "form",
    "id": "pedD5GhlDC-y"
   },
   "outputs": [
    {
     "name": "stdout",
     "output_type": "stream",
     "text": [
      "Defined the create_model, train_model, and plot_the_loss_curve functions.\n"
     ]
    }
   ],
   "source": [
    "#@title Define functions to create and train a model, and a plotting function\n",
    "def create_model(my_learning_rate, feature_layer):\n",
    "  \"\"\"Create and compile a simple linear regression model.\"\"\"\n",
    "  # Most simple tf.keras models are sequential.\n",
    "  model = tf.keras.models.Sequential()\n",
    "\n",
    "  # Add the layer containing the feature columns to the model.\n",
    "  model.add(feature_layer)\n",
    "\n",
    "  # Add one linear layer to the model to yield a simple linear regressor.\n",
    "  model.add(tf.keras.layers.Dense(units=1, input_shape=(1,)))\n",
    "\n",
    "  # Construct the layers into a model that TensorFlow can execute.\n",
    "  model.compile(optimizer=tf.keras.optimizers.RMSprop(lr=my_learning_rate),\n",
    "                loss=\"mean_squared_error\",\n",
    "                metrics=[tf.keras.metrics.RootMeanSquaredError()])\n",
    "\n",
    "  return model           \n",
    "\n",
    "\n",
    "def train_model(model, dataset, epochs, batch_size, label_name):\n",
    "  \"\"\"Feed a dataset into the model in order to train it.\"\"\"\n",
    "\n",
    "  features = {name:np.array(value) for name, value in dataset.items()}\n",
    "  label = np.array(features.pop(label_name))\n",
    "  history = model.fit(x=features, y=label, batch_size=batch_size,\n",
    "                      epochs=epochs, shuffle=True)\n",
    "\n",
    "  # The list of epochs is stored separately from the rest of history.\n",
    "  epochs = history.epoch\n",
    "  \n",
    "  # Isolate the mean absolute error for each epoch.\n",
    "  hist = pd.DataFrame(history.history)\n",
    "  rmse = hist[\"root_mean_squared_error\"]\n",
    "\n",
    "  return epochs, rmse   \n",
    "\n",
    "\n",
    "def plot_the_loss_curve(epochs, rmse):\n",
    "  \"\"\"Plot a curve of loss vs. epoch.\"\"\"\n",
    "\n",
    "  plt.figure()\n",
    "  plt.xlabel(\"Epoch\")\n",
    "  plt.ylabel(\"Root Mean Squared Error\")\n",
    "\n",
    "  plt.plot(epochs, rmse, label=\"Loss\")\n",
    "  plt.legend()\n",
    "  plt.ylim([rmse.min()*0.94, rmse.max()* 1.05])\n",
    "  plt.show()  \n",
    "\n",
    "print(\"Defined the create_model, train_model, and plot_the_loss_curve functions.\")"
   ]
  },
  {
   "cell_type": "markdown",
   "metadata": {
    "id": "D-IXYVfvM4gD"
   },
   "source": [
    "## Train the model with floating-point representations\n",
    "\n",
    "The following code cell calls the functions you just created to train, plot, and evaluate a model."
   ]
  },
  {
   "cell_type": "code",
   "execution_count": 7,
   "metadata": {
    "cellView": "both",
    "id": "nj3v5EKQFY8s"
   },
   "outputs": [
    {
     "name": "stdout",
     "output_type": "stream",
     "text": [
      "Epoch 1/30\n",
      "WARNING:tensorflow:Layers in a Sequential model should only have a single input tensor, but we receive a <class 'dict'> input: {'longitude': <tf.Tensor 'ExpandDims_3:0' shape=(100, 1) dtype=float32>, 'latitude': <tf.Tensor 'ExpandDims_2:0' shape=(100, 1) dtype=float32>, 'housing_median_age': <tf.Tensor 'ExpandDims_1:0' shape=(100, 1) dtype=float32>, 'total_rooms': <tf.Tensor 'ExpandDims_7:0' shape=(100, 1) dtype=float32>, 'total_bedrooms': <tf.Tensor 'ExpandDims_6:0' shape=(100, 1) dtype=float32>, 'population': <tf.Tensor 'ExpandDims_5:0' shape=(100, 1) dtype=float32>, 'households': <tf.Tensor 'ExpandDims:0' shape=(100, 1) dtype=float32>, 'median_income': <tf.Tensor 'ExpandDims_4:0' shape=(100, 1) dtype=float32>}\n",
      "Consider rewriting this model with the Functional API.\n",
      "WARNING:tensorflow:Layers in a Sequential model should only have a single input tensor, but we receive a <class 'dict'> input: {'longitude': <tf.Tensor 'ExpandDims_3:0' shape=(100, 1) dtype=float32>, 'latitude': <tf.Tensor 'ExpandDims_2:0' shape=(100, 1) dtype=float32>, 'housing_median_age': <tf.Tensor 'ExpandDims_1:0' shape=(100, 1) dtype=float32>, 'total_rooms': <tf.Tensor 'ExpandDims_7:0' shape=(100, 1) dtype=float32>, 'total_bedrooms': <tf.Tensor 'ExpandDims_6:0' shape=(100, 1) dtype=float32>, 'population': <tf.Tensor 'ExpandDims_5:0' shape=(100, 1) dtype=float32>, 'households': <tf.Tensor 'ExpandDims:0' shape=(100, 1) dtype=float32>, 'median_income': <tf.Tensor 'ExpandDims_4:0' shape=(100, 1) dtype=float32>}\n",
      "Consider rewriting this model with the Functional API.\n",
      "170/170 [==============================] - 1s 2ms/step - loss: 24554.1534 - root_mean_squared_error: 153.5309\n",
      "Epoch 2/30\n",
      "170/170 [==============================] - 0s 1ms/step - loss: 13859.6770 - root_mean_squared_error: 117.7216\n",
      "Epoch 3/30\n",
      "170/170 [==============================] - 1s 3ms/step - loss: 13776.2838 - root_mean_squared_error: 117.3648\n",
      "Epoch 4/30\n",
      "170/170 [==============================] - 0s 1ms/step - loss: 13537.3593 - root_mean_squared_error: 116.3443\n",
      "Epoch 5/30\n",
      "170/170 [==============================] - 1s 3ms/step - loss: 13295.7350 - root_mean_squared_error: 115.3038A: 0s - loss: 13175.5202 - root_mean_squared_error: 1\n",
      "Epoch 6/30\n",
      "170/170 [==============================] - 0s 2ms/step - loss: 13037.5484 - root_mean_squared_error: 114.1677\n",
      "Epoch 7/30\n",
      "170/170 [==============================] - 0s 1ms/step - loss: 13278.2532 - root_mean_squared_error: 115.2294\n",
      "Epoch 8/30\n",
      "170/170 [==============================] - 0s 1ms/step - loss: 13099.6428 - root_mean_squared_error: 114.4492\n",
      "Epoch 9/30\n",
      "170/170 [==============================] - 0s 2ms/step - loss: 13471.7061 - root_mean_squared_error: 116.0598\n",
      "Epoch 10/30\n",
      "170/170 [==============================] - 0s 1ms/step - loss: 13406.7045 - root_mean_squared_error: 115.7810\n",
      "Epoch 11/30\n",
      "170/170 [==============================] - 0s 1ms/step - loss: 13101.9666 - root_mean_squared_error: 114.4610\n",
      "Epoch 12/30\n",
      "170/170 [==============================] - 0s 1ms/step - loss: 13073.4851 - root_mean_squared_error: 114.3286\n",
      "Epoch 13/30\n",
      "170/170 [==============================] - 0s 2ms/step - loss: 13071.4504 - root_mean_squared_error: 114.3254\n",
      "Epoch 14/30\n",
      "170/170 [==============================] - 0s 1ms/step - loss: 13221.3545 - root_mean_squared_error: 114.9759\n",
      "Epoch 15/30\n",
      "170/170 [==============================] - 0s 1ms/step - loss: 13018.2826 - root_mean_squared_error: 114.0853\n",
      "Epoch 16/30\n",
      "170/170 [==============================] - 0s 1ms/step - loss: 13057.3506 - root_mean_squared_error: 114.2647\n",
      "Epoch 17/30\n",
      "170/170 [==============================] - 0s 1ms/step - loss: 13268.3138 - root_mean_squared_error: 115.1834\n",
      "Epoch 18/30\n",
      "170/170 [==============================] - 0s 1ms/step - loss: 13263.0993 - root_mean_squared_error: 115.1574\n",
      "Epoch 19/30\n",
      "170/170 [==============================] - 0s 1ms/step - loss: 12661.6087 - root_mean_squared_error: 112.5163\n",
      "Epoch 20/30\n",
      "170/170 [==============================] - 0s 1ms/step - loss: 12861.3710 - root_mean_squared_error: 113.4054\n",
      "Epoch 21/30\n",
      "170/170 [==============================] - 0s 1ms/step - loss: 12746.6241 - root_mean_squared_error: 112.8918\n",
      "Epoch 22/30\n",
      "170/170 [==============================] - 0s 2ms/step - loss: 13100.6494 - root_mean_squared_error: 114.4511\n",
      "Epoch 23/30\n",
      "170/170 [==============================] - 0s 1ms/step - loss: 12816.8057 - root_mean_squared_error: 113.2013\n",
      "Epoch 24/30\n",
      "170/170 [==============================] - 0s 1ms/step - loss: 13087.9977 - root_mean_squared_error: 114.3952\n",
      "Epoch 25/30\n",
      "170/170 [==============================] - 0s 1ms/step - loss: 12766.5650 - root_mean_squared_error: 112.9799\n",
      "Epoch 26/30\n",
      "170/170 [==============================] - 0s 1ms/step - loss: 12995.0481 - root_mean_squared_error: 113.9933\n",
      "Epoch 27/30\n",
      "170/170 [==============================] - 0s 1ms/step - loss: 12724.6028 - root_mean_squared_error: 112.7971\n",
      "Epoch 28/30\n",
      "170/170 [==============================] - 0s 1ms/step - loss: 12771.3102 - root_mean_squared_error: 112.9981\n",
      "Epoch 29/30\n",
      "170/170 [==============================] - 0s 1ms/step - loss: 13038.9186 - root_mean_squared_error: 114.1816\n",
      "Epoch 30/30\n",
      "170/170 [==============================] - 0s 1ms/step - loss: 12823.0822 - root_mean_squared_error: 113.2310\n"
     ]
    },
    {
     "data": {
      "image/png": "[encoded data removed]",
      "text/plain": [
       "<Figure size 432x288 with 1 Axes>"
      ]
     },
     "metadata": {
      "needs_background": "light"
     },
     "output_type": "display_data"
    },
    {
     "name": "stdout",
     "output_type": "stream",
     "text": [
      "\n",
      ": Evaluate the new model against the test set:\n",
      "WARNING:tensorflow:Layers in a Sequential model should only have a single input tensor, but we receive a <class 'dict'> input: {'longitude': <tf.Tensor 'ExpandDims_3:0' shape=(100, 1) dtype=float32>, 'latitude': <tf.Tensor 'ExpandDims_2:0' shape=(100, 1) dtype=float32>, 'housing_median_age': <tf.Tensor 'ExpandDims_1:0' shape=(100, 1) dtype=float32>, 'total_rooms': <tf.Tensor 'ExpandDims_7:0' shape=(100, 1) dtype=float32>, 'total_bedrooms': <tf.Tensor 'ExpandDims_6:0' shape=(100, 1) dtype=float32>, 'population': <tf.Tensor 'ExpandDims_5:0' shape=(100, 1) dtype=float32>, 'households': <tf.Tensor 'ExpandDims:0' shape=(100, 1) dtype=float32>, 'median_income': <tf.Tensor 'ExpandDims_4:0' shape=(100, 1) dtype=float32>}\n",
      "Consider rewriting this model with the Functional API.\n",
      "30/30 [==============================] - 0s 1ms/step - loss: 12327.8242 - root_mean_squared_error: 111.0307\n"
     ]
    },
    {
     "data": {
      "text/plain": [
       "[12327.82421875, 111.0307388305664]"
      ]
     },
     "execution_count": 7,
     "metadata": {},
     "output_type": "execute_result"
    }
   ],
   "source": [
    "# The following variables are the hyperparameters.\n",
    "learning_rate = 0.05\n",
    "epochs = 30\n",
    "batch_size = 100\n",
    "label_name = 'median_house_value'\n",
    "\n",
    "# Create and compile the model's topography.\n",
    "my_model = create_model(learning_rate, fp_feature_layer)\n",
    "\n",
    "# Train the model on the training set.\n",
    "epochs, rmse = train_model(my_model, train_df, epochs, batch_size, label_name)\n",
    "\n",
    "plot_the_loss_curve(epochs, rmse)\n",
    "\n",
    "print(\"\\n: Evaluate the new model against the test set:\")\n",
    "test_features = {name:np.array(value) for name, value in test_df.items()}\n",
    "test_label = np.array(test_features.pop(label_name))\n",
    "my_model.evaluate(x=test_features, y=test_label, batch_size=batch_size)"
   ]
  },
  {
   "cell_type": "markdown",
   "metadata": {
    "id": "dbyWNS6T2fIT"
   },
   "source": [
    "## Task 1: Why aren't floating-point values a good way to represent latitude and longitude?\n",
    "\n",
    "Are floating-point values a good way to represent `latitude` and `longitude`? "
   ]
  },
  {
   "cell_type": "code",
   "execution_count": 8,
   "metadata": {
    "cellView": "form",
    "id": "VJLDCu5M2hXX"
   },
   "outputs": [],
   "source": [
    "#@title Double-click to view an answer to Task 1.\n",
    "\n",
    "# No. Representing latitude and longitude as \n",
    "# floating-point values does not have much \n",
    "# predictive power. For example, neighborhoods at \n",
    "# latitude 35 are not 36/35 more valuable \n",
    "# (or 35/36 less valuable) than houses at \n",
    "# latitude 36.\n",
    "\n",
    "# Representing `latitude` and `longitude` as \n",
    "# floating-point values provides almost no \n",
    "# predictive power. We're only using the raw values \n",
    "# to establish a baseline for future experiments \n",
    "# with better representations."
   ]
  },
  {
   "cell_type": "markdown",
   "metadata": {
    "id": "Na8TPoPYx-0k"
   },
   "source": [
    "## Represent latitude and longitude in buckets\n",
    "\n",
    "The following code cell represents latitude and longitude in buckets (bins). Each bin represents all the neighborhoods within a single degree. For example,\n",
    "neighborhoods at latitude 35.4 and 35.8 are in the same bucket, but neighborhoods in latitude 35.4 and 36.2 are in different buckets. \n",
    "\n",
    "The model will learn a separate weight for each bucket. For example, the model will learn one weight for all the neighborhoods in the \"35\" bin\", a different weight for neighborhoods in the \"36\" bin, and so on. This representation will create approximately 20 buckets:\n",
    " \n",
    "  * 10 buckets for `latitude`. \n",
    "  * 10 buckets for `longitude`. "
   ]
  },
  {
   "cell_type": "code",
   "execution_count": 9,
   "metadata": {
    "id": "WLTUFiaUyIpx"
   },
   "outputs": [],
   "source": [
    "resolution_in_degrees = 1.0 \n",
    "\n",
    "# Create a new empty list that will eventually hold the generated feature column.\n",
    "feature_columns = []\n",
    "\n",
    "# Create a bucket feature column for latitude.\n",
    "latitude_as_a_numeric_column = tf.feature_column.numeric_column(\"latitude\")\n",
    "latitude_boundaries = list(np.arange(int(min(train_df['latitude'])), \n",
    "                                     int(max(train_df['latitude'])), \n",
    "                                     resolution_in_degrees))\n",
    "latitude = tf.feature_column.bucketized_column(latitude_as_a_numeric_column, \n",
    "                                               latitude_boundaries)\n",
    "feature_columns.append(latitude)\n",
    "\n",
    "# Create a bucket feature column for longitude.\n",
    "longitude_as_a_numeric_column = tf.feature_column.numeric_column(\"longitude\")\n",
    "longitude_boundaries = list(np.arange(int(min(train_df['longitude'])), \n",
    "                                      int(max(train_df['longitude'])), \n",
    "                                      resolution_in_degrees))\n",
    "longitude = tf.feature_column.bucketized_column(longitude_as_a_numeric_column, \n",
    "                                                longitude_boundaries)\n",
    "feature_columns.append(longitude)\n",
    "\n",
    "# Convert the list of feature columns into a layer that will ultimately become\n",
    "# part of the model. Understanding layers is not important right now.\n",
    "buckets_feature_layer = layers.DenseFeatures(feature_columns)"
   ]
  },
  {
   "cell_type": "markdown",
   "metadata": {
    "id": "aZsFzoPQ4pFm"
   },
   "source": [
    "## Train the model with bucket representations\n",
    "\n",
    "Run the following code cell to train the model with bucket representations rather than floating-point representations:"
   ]
  },
  {
   "cell_type": "code",
   "execution_count": 10,
   "metadata": {
    "id": "UnDrghxBzLvD"
   },
   "outputs": [
    {
     "name": "stdout",
     "output_type": "stream",
     "text": [
      "Epoch 1/35\n",
      "WARNING:tensorflow:Layers in a Sequential model should only have a single input tensor, but we receive a <class 'dict'> input: {'longitude': <tf.Tensor 'ExpandDims_3:0' shape=(100, 1) dtype=float32>, 'latitude': <tf.Tensor 'ExpandDims_2:0' shape=(100, 1) dtype=float32>, 'housing_median_age': <tf.Tensor 'ExpandDims_1:0' shape=(100, 1) dtype=float32>, 'total_rooms': <tf.Tensor 'ExpandDims_7:0' shape=(100, 1) dtype=float32>, 'total_bedrooms': <tf.Tensor 'ExpandDims_6:0' shape=(100, 1) dtype=float32>, 'population': <tf.Tensor 'ExpandDims_5:0' shape=(100, 1) dtype=float32>, 'households': <tf.Tensor 'ExpandDims:0' shape=(100, 1) dtype=float32>, 'median_income': <tf.Tensor 'ExpandDims_4:0' shape=(100, 1) dtype=float32>}\n",
      "Consider rewriting this model with the Functional API.\n",
      "WARNING:tensorflow:Layers in a Sequential model should only have a single input tensor, but we receive a <class 'dict'> input: {'longitude': <tf.Tensor 'ExpandDims_3:0' shape=(100, 1) dtype=float32>, 'latitude': <tf.Tensor 'ExpandDims_2:0' shape=(100, 1) dtype=float32>, 'housing_median_age': <tf.Tensor 'ExpandDims_1:0' shape=(100, 1) dtype=float32>, 'total_rooms': <tf.Tensor 'ExpandDims_7:0' shape=(100, 1) dtype=float32>, 'total_bedrooms': <tf.Tensor 'ExpandDims_6:0' shape=(100, 1) dtype=float32>, 'population': <tf.Tensor 'ExpandDims_5:0' shape=(100, 1) dtype=float32>, 'households': <tf.Tensor 'ExpandDims:0' shape=(100, 1) dtype=float32>, 'median_income': <tf.Tensor 'ExpandDims_4:0' shape=(100, 1) dtype=float32>}\n",
      "Consider rewriting this model with the Functional API.\n",
      "170/170 [==============================] - 1s 2ms/step - loss: 53921.1327 - root_mean_squared_error: 232.1793\n",
      "Epoch 2/35\n",
      "170/170 [==============================] - 0s 1ms/step - loss: 45731.5576 - root_mean_squared_error: 213.8410\n",
      "Epoch 3/35\n",
      "170/170 [==============================] - 0s 1ms/step - loss: 39552.8404 - root_mean_squared_error: 198.8585\n",
      "Epoch 4/35\n",
      "170/170 [==============================] - 0s 1ms/step - loss: 33351.4804 - root_mean_squared_error: 182.6111\n",
      "Epoch 5/35\n",
      "170/170 [==============================] - 0s 1ms/step - loss: 29017.8758 - root_mean_squared_error: 170.3170\n",
      "Epoch 6/35\n",
      "170/170 [==============================] - 0s 1ms/step - loss: 23813.9377 - root_mean_squared_error: 154.2813\n",
      "Epoch 7/35\n",
      "170/170 [==============================] - 0s 1ms/step - loss: 20246.5594 - root_mean_squared_error: 142.2738\n",
      "Epoch 8/35\n",
      "170/170 [==============================] - 0s 1ms/step - loss: 17421.9566 - root_mean_squared_error: 131.9764\n",
      "Epoch 9/35\n",
      "170/170 [==============================] - 0s 1ms/step - loss: 14856.7467 - root_mean_squared_error: 121.8758\n",
      "Epoch 10/35\n",
      "170/170 [==============================] - 0s 1ms/step - loss: 13167.4163 - root_mean_squared_error: 114.7422\n",
      "Epoch 11/35\n",
      "170/170 [==============================] - 0s 1ms/step - loss: 12115.2807 - root_mean_squared_error: 110.0614\n",
      "Epoch 12/35\n",
      "170/170 [==============================] - 0s 2ms/step - loss: 11537.0459 - root_mean_squared_error: 107.4083\n",
      "Epoch 13/35\n",
      "170/170 [==============================] - 0s 1ms/step - loss: 10970.0492 - root_mean_squared_error: 104.7361\n",
      "Epoch 14/35\n",
      "170/170 [==============================] - 0s 1ms/step - loss: 10847.4129 - root_mean_squared_error: 104.1455\n",
      "Epoch 15/35\n",
      "170/170 [==============================] - 0s 3ms/step - loss: 10889.7384 - root_mean_squared_error: 104.3461\n",
      "Epoch 16/35\n",
      "170/170 [==============================] - 0s 2ms/step - loss: 10625.5128 - root_mean_squared_error: 103.0785\n",
      "Epoch 17/35\n",
      "170/170 [==============================] - 1s 4ms/step - loss: 10707.8024 - root_mean_squared_error: 103.4699\n",
      "Epoch 18/35\n",
      "170/170 [==============================] - 0s 3ms/step - loss: 10312.4113 - root_mean_squared_error: 101.5409\n",
      "Epoch 19/35\n",
      "170/170 [==============================] - 0s 1ms/step - loss: 10559.4090 - root_mean_squared_error: 102.7555\n",
      "Epoch 20/35\n",
      "170/170 [==============================] - 0s 2ms/step - loss: 10406.6783 - root_mean_squared_error: 102.0022\n",
      "Epoch 21/35\n",
      "170/170 [==============================] - 0s 2ms/step - loss: 10445.9238 - root_mean_squared_error: 102.2010\n",
      "Epoch 22/35\n",
      "170/170 [==============================] - 0s 2ms/step - loss: 10463.0935 - root_mean_squared_error: 102.2745\n",
      "Epoch 23/35\n",
      "170/170 [==============================] - 0s 2ms/step - loss: 10267.2178 - root_mean_squared_error: 101.3182\n",
      "Epoch 24/35\n",
      "170/170 [==============================] - 0s 1ms/step - loss: 10480.5060 - root_mean_squared_error: 102.3700\n",
      "Epoch 25/35\n",
      "170/170 [==============================] - 0s 2ms/step - loss: 10284.8084 - root_mean_squared_error: 101.4079\n",
      "Epoch 26/35\n",
      "170/170 [==============================] - 0s 2ms/step - loss: 10215.5489 - root_mean_squared_error: 101.0680\n",
      "Epoch 27/35\n",
      "170/170 [==============================] - 0s 1ms/step - loss: 10627.0928 - root_mean_squared_error: 103.0779\n",
      "Epoch 28/35\n",
      "170/170 [==============================] - 0s 2ms/step - loss: 10151.6935 - root_mean_squared_error: 100.7471\n",
      "Epoch 29/35\n",
      "170/170 [==============================] - 0s 1ms/step - loss: 10468.7838 - root_mean_squared_error: 102.3141\n",
      "Epoch 30/35\n",
      "170/170 [==============================] - 0s 1ms/step - loss: 10353.1596 - root_mean_squared_error: 101.7483\n",
      "Epoch 31/35\n",
      "170/170 [==============================] - 0s 1ms/step - loss: 10176.4621 - root_mean_squared_error: 100.8731\n",
      "Epoch 32/35\n",
      "170/170 [==============================] - 0s 1ms/step - loss: 10633.8320 - root_mean_squared_error: 103.1091\n",
      "Epoch 33/35\n",
      "170/170 [==============================] - 0s 2ms/step - loss: 10370.4499 - root_mean_squared_error: 101.8252\n",
      "Epoch 34/35\n",
      "170/170 [==============================] - 0s 1ms/step - loss: 10288.1313 - root_mean_squared_error: 101.4235\n",
      "Epoch 35/35\n",
      "170/170 [==============================] - 0s 1ms/step - loss: 10291.2027 - root_mean_squared_error: 101.4398\n"
     ]
    },
    {
     "data": {
      "image/png": "[encoded data removed]",
      "text/plain": [
       "<Figure size 432x288 with 1 Axes>"
      ]
     },
     "metadata": {
      "needs_background": "light"
     },
     "output_type": "display_data"
    },
    {
     "name": "stdout",
     "output_type": "stream",
     "text": [
      "\n",
      ": Evaluate the new model against the test set:\n",
      "WARNING:tensorflow:Layers in a Sequential model should only have a single input tensor, but we receive a <class 'dict'> input: {'longitude': <tf.Tensor 'ExpandDims_3:0' shape=(100, 1) dtype=float32>, 'latitude': <tf.Tensor 'ExpandDims_2:0' shape=(100, 1) dtype=float32>, 'housing_median_age': <tf.Tensor 'ExpandDims_1:0' shape=(100, 1) dtype=float32>, 'total_rooms': <tf.Tensor 'ExpandDims_7:0' shape=(100, 1) dtype=float32>, 'total_bedrooms': <tf.Tensor 'ExpandDims_6:0' shape=(100, 1) dtype=float32>, 'population': <tf.Tensor 'ExpandDims_5:0' shape=(100, 1) dtype=float32>, 'households': <tf.Tensor 'ExpandDims:0' shape=(100, 1) dtype=float32>, 'median_income': <tf.Tensor 'ExpandDims_4:0' shape=(100, 1) dtype=float32>}\n",
      "Consider rewriting this model with the Functional API.\n",
      "30/30 [==============================] - 0s 4ms/step - loss: 10197.0977 - root_mean_squared_error: 100.9807\n"
     ]
    },
    {
     "data": {
      "text/plain": [
       "[10197.09765625, 100.98068237304688]"
      ]
     },
     "execution_count": 10,
     "metadata": {},
     "output_type": "execute_result"
    }
   ],
   "source": [
    "# The following variables are the hyperparameters.\n",
    "learning_rate = 0.04\n",
    "epochs = 35\n",
    "\n",
    "# Build the model, this time passing in the buckets_feature_layer.\n",
    "my_model = create_model(learning_rate, buckets_feature_layer)\n",
    "\n",
    "# Train the model on the training set.\n",
    "epochs, rmse = train_model(my_model, train_df, epochs, batch_size, label_name)\n",
    "\n",
    "plot_the_loss_curve(epochs, rmse)\n",
    "\n",
    "print(\"\\n: Evaluate the new model against the test set:\")\n",
    "my_model.evaluate(x=test_features, y=test_label, batch_size=batch_size)"
   ]
  },
  {
   "cell_type": "markdown",
   "metadata": {
    "id": "Wb-bIKsN5M48"
   },
   "source": [
    "## Task 2: Did buckets outperform floating-point representations?\n",
    "\n",
    "Compare the model's `root_mean_squared_error` values for the two representations (floating-point vs. buckets)?  Which model produced lower losses? "
   ]
  },
  {
   "cell_type": "code",
   "execution_count": 11,
   "metadata": {
    "cellView": "form",
    "id": "6sUlX1335UCb"
   },
   "outputs": [],
   "source": [
    "#@title Double-click for an answer to Task 2.\n",
    "\n",
    "# Bucket representation outperformed \n",
    "# floating-point representations.  \n",
    "# However, you can still do far better."
   ]
  },
  {
   "cell_type": "markdown",
   "metadata": {
    "id": "ab6-bhUvxbTL"
   },
   "source": [
    "## Task 3: What is a better way to represent location?\n",
    "\n",
    "Buckets are a big improvement over floating-point values. Can you identify an even better way to identify location with `latitude` and `longitude`?"
   ]
  },
  {
   "cell_type": "code",
   "execution_count": 12,
   "metadata": {
    "cellView": "form",
    "id": "5no5X0OFCwf7"
   },
   "outputs": [],
   "source": [
    "#@title Double-click to view an answer to Task 3.\n",
    "\n",
    "# Representing location as a feature cross should \n",
    "# produce better results.\n",
    "\n",
    "# In Task 2, you represented latitude in \n",
    "# one-dimensional buckets and longitude in \n",
    "# another series of one-dimensional buckets. \n",
    "# Real-world locations, however, exist in \n",
    "# two dimension. Therefore, you should\n",
    "# represent location as a two-dimensional feature\n",
    "# cross. That is, you'll cross the 10 or so latitude \n",
    "# buckets with the 10 or so longitude buckets to \n",
    "# create a grid of 100 cells. \n",
    "\n",
    "# The model will learn separate weights for each \n",
    "# of the cells."
   ]
  },
  {
   "cell_type": "markdown",
   "metadata": {
    "id": "T1ulCDiyGB6g"
   },
   "source": [
    "## Represent location as a feature cross\n",
    "\n",
    "The following code cell represents location as a feature cross. That is, the following code cell first creates buckets and then calls `tf.feature_column.crossed_column` to cross the buckets.\n",
    "\n"
   ]
  },
  {
   "cell_type": "code",
   "execution_count": 13,
   "metadata": {
    "cellView": "both",
    "id": "HunsuEzqn21s"
   },
   "outputs": [],
   "source": [
    "resolution_in_degrees = 1.0 \n",
    "\n",
    "# Create a new empty list that will eventually hold the generated feature column.\n",
    "feature_columns = []\n",
    "\n",
    "# Create a bucket feature column for latitude.\n",
    "latitude_as_a_numeric_column = tf.feature_column.numeric_column(\"latitude\")\n",
    "latitude_boundaries = list(np.arange(int(min(train_df['latitude'])), int(max(train_df['latitude'])), resolution_in_degrees))\n",
    "latitude = tf.feature_column.bucketized_column(latitude_as_a_numeric_column, latitude_boundaries)\n",
    "\n",
    "# Create a bucket feature column for longitude.\n",
    "longitude_as_a_numeric_column = tf.feature_column.numeric_column(\"longitude\")\n",
    "longitude_boundaries = list(np.arange(int(min(train_df['longitude'])), int(max(train_df['longitude'])), resolution_in_degrees))\n",
    "longitude = tf.feature_column.bucketized_column(longitude_as_a_numeric_column, longitude_boundaries)\n",
    "\n",
    "# Create a feature cross of latitude and longitude.\n",
    "latitude_x_longitude = tf.feature_column.crossed_column([latitude, longitude], hash_bucket_size=100)\n",
    "crossed_feature = tf.feature_column.indicator_column(latitude_x_longitude)\n",
    "feature_columns.append(crossed_feature)\n",
    "\n",
    "# Convert the list of feature columns into a layer that will later be fed into\n",
    "# the model. \n",
    "feature_cross_feature_layer = layers.DenseFeatures(feature_columns)"
   ]
  },
  {
   "cell_type": "markdown",
   "metadata": {
    "id": "akRgNnnH3VXJ"
   },
   "source": [
    "Invoke the following code cell to test your solution for Task 3. Please ignore the warning messages."
   ]
  },
  {
   "cell_type": "code",
   "execution_count": 14,
   "metadata": {
    "id": "qn2PRDBEr5ni"
   },
   "outputs": [
    {
     "name": "stdout",
     "output_type": "stream",
     "text": [
      "Epoch 1/35\n",
      "WARNING:tensorflow:Layers in a Sequential model should only have a single input tensor, but we receive a <class 'dict'> input: {'longitude': <tf.Tensor 'ExpandDims_3:0' shape=(100, 1) dtype=float32>, 'latitude': <tf.Tensor 'ExpandDims_2:0' shape=(100, 1) dtype=float32>, 'housing_median_age': <tf.Tensor 'ExpandDims_1:0' shape=(100, 1) dtype=float32>, 'total_rooms': <tf.Tensor 'ExpandDims_7:0' shape=(100, 1) dtype=float32>, 'total_bedrooms': <tf.Tensor 'ExpandDims_6:0' shape=(100, 1) dtype=float32>, 'population': <tf.Tensor 'ExpandDims_5:0' shape=(100, 1) dtype=float32>, 'households': <tf.Tensor 'ExpandDims:0' shape=(100, 1) dtype=float32>, 'median_income': <tf.Tensor 'ExpandDims_4:0' shape=(100, 1) dtype=float32>}\n",
      "Consider rewriting this model with the Functional API.\n",
      "WARNING:tensorflow:Layers in a Sequential model should only have a single input tensor, but we receive a <class 'dict'> input: {'longitude': <tf.Tensor 'ExpandDims_3:0' shape=(100, 1) dtype=float32>, 'latitude': <tf.Tensor 'ExpandDims_2:0' shape=(100, 1) dtype=float32>, 'housing_median_age': <tf.Tensor 'ExpandDims_1:0' shape=(100, 1) dtype=float32>, 'total_rooms': <tf.Tensor 'ExpandDims_7:0' shape=(100, 1) dtype=float32>, 'total_bedrooms': <tf.Tensor 'ExpandDims_6:0' shape=(100, 1) dtype=float32>, 'population': <tf.Tensor 'ExpandDims_5:0' shape=(100, 1) dtype=float32>, 'households': <tf.Tensor 'ExpandDims:0' shape=(100, 1) dtype=float32>, 'median_income': <tf.Tensor 'ExpandDims_4:0' shape=(100, 1) dtype=float32>}\n",
      "Consider rewriting this model with the Functional API.\n",
      "170/170 [==============================] - 1s 2ms/step - loss: 55697.0147 - root_mean_squared_error: 235.9705\n",
      "Epoch 2/35\n",
      "170/170 [==============================] - 0s 2ms/step - loss: 49839.2331 - root_mean_squared_error: 223.2329\n",
      "Epoch 3/35\n",
      "170/170 [==============================] - 1s 3ms/step - loss: 44780.7846 - root_mean_squared_error: 211.6112\n",
      "Epoch 4/35\n",
      "170/170 [==============================] - 1s 3ms/step - loss: 40471.4650 - root_mean_squared_error: 201.1673\n",
      "Epoch 5/35\n",
      "170/170 [==============================] - 0s 3ms/step - loss: 36327.7687 - root_mean_squared_error: 190.5879\n",
      "Epoch 6/35\n",
      "170/170 [==============================] - 0s 3ms/step - loss: 33012.2118 - root_mean_squared_error: 181.6746\n",
      "Epoch 7/35\n",
      "170/170 [==============================] - 1s 3ms/step - loss: 29307.7450 - root_mean_squared_error: 171.1837\n",
      "Epoch 8/35\n",
      "170/170 [==============================] - 0s 2ms/step - loss: 26761.6223 - root_mean_squared_error: 163.5310\n",
      "Epoch 9/35\n",
      "170/170 [==============================] - 0s 1ms/step - loss: 23101.1918 - root_mean_squared_error: 151.9772\n",
      "Epoch 10/35\n",
      "170/170 [==============================] - 0s 1ms/step - loss: 20553.9408 - root_mean_squared_error: 143.3608\n",
      "Epoch 11/35\n",
      "170/170 [==============================] - 0s 2ms/step - loss: 19147.7293 - root_mean_squared_error: 138.3465\n",
      "Epoch 12/35\n",
      "170/170 [==============================] - 0s 2ms/step - loss: 16412.9966 - root_mean_squared_error: 128.1104\n",
      "Epoch 13/35\n",
      "170/170 [==============================] - 0s 2ms/step - loss: 14954.8029 - root_mean_squared_error: 122.2810\n",
      "Epoch 14/35\n",
      "170/170 [==============================] - 0s 1ms/step - loss: 13926.3318 - root_mean_squared_error: 117.9998\n",
      "Epoch 15/35\n",
      "170/170 [==============================] - 0s 1ms/step - loss: 12216.1522 - root_mean_squared_error: 110.5159\n",
      "Epoch 16/35\n",
      "170/170 [==============================] - 0s 1ms/step - loss: 12226.2529 - root_mean_squared_error: 110.5274\n",
      "Epoch 17/35\n",
      "170/170 [==============================] - 0s 1ms/step - loss: 11043.7519 - root_mean_squared_error: 105.0865\n",
      "Epoch 18/35\n",
      "170/170 [==============================] - 0s 1ms/step - loss: 10342.6484 - root_mean_squared_error: 101.6666\n",
      "Epoch 19/35\n",
      "170/170 [==============================] - 0s 1ms/step - loss: 10458.2122 - root_mean_squared_error: 102.2355\n",
      "Epoch 20/35\n",
      "170/170 [==============================] - 0s 1ms/step - loss: 10262.3276 - root_mean_squared_error: 101.2979\n",
      "Epoch 21/35\n",
      "170/170 [==============================] - 0s 1ms/step - loss: 9997.4515 - root_mean_squared_error: 99.9802\n",
      "Epoch 22/35\n",
      "170/170 [==============================] - 0s 1ms/step - loss: 9840.2880 - root_mean_squared_error: 99.1774\n",
      "Epoch 23/35\n",
      "170/170 [==============================] - 0s 1ms/step - loss: 9692.7617 - root_mean_squared_error: 98.4482\n",
      "Epoch 24/35\n",
      "170/170 [==============================] - 0s 1ms/step - loss: 9752.6757 - root_mean_squared_error: 98.7519\n",
      "Epoch 25/35\n",
      "170/170 [==============================] - 0s 1ms/step - loss: 9844.3644 - root_mean_squared_error: 99.2110\n",
      "Epoch 26/35\n",
      "170/170 [==============================] - 0s 1ms/step - loss: 9478.0817 - root_mean_squared_error: 97.3404\n",
      "Epoch 27/35\n",
      "170/170 [==============================] - 0s 1ms/step - loss: 9504.7567 - root_mean_squared_error: 97.4656\n",
      "Epoch 28/35\n",
      "170/170 [==============================] - 0s 1ms/step - loss: 9533.7309 - root_mean_squared_error: 97.6370\n",
      "Epoch 29/35\n",
      "170/170 [==============================] - 0s 1ms/step - loss: 9693.5199 - root_mean_squared_error: 98.4519\n",
      "Epoch 30/35\n",
      "170/170 [==============================] - 0s 2ms/step - loss: 9668.4589 - root_mean_squared_error: 98.3263\n",
      "Epoch 31/35\n",
      "170/170 [==============================] - 0s 2ms/step - loss: 9827.6577 - root_mean_squared_error: 99.1295\n",
      "Epoch 32/35\n",
      "170/170 [==============================] - 0s 2ms/step - loss: 9736.7362 - root_mean_squared_error: 98.6714\n",
      "Epoch 33/35\n",
      "170/170 [==============================] - 0s 2ms/step - loss: 9613.0949 - root_mean_squared_error: 98.0348\n",
      "Epoch 34/35\n",
      "170/170 [==============================] - 0s 2ms/step - loss: 9726.1381 - root_mean_squared_error: 98.6179\n",
      "Epoch 35/35\n",
      "170/170 [==============================] - 0s 2ms/step - loss: 9731.1300 - root_mean_squared_error: 98.6356\n"
     ]
    },
    {
     "data": {
      "image/png": "[encoded data removed]",
      "text/plain": [
       "<Figure size 432x288 with 1 Axes>"
      ]
     },
     "metadata": {
      "needs_background": "light"
     },
     "output_type": "display_data"
    },
    {
     "name": "stdout",
     "output_type": "stream",
     "text": [
      "\n",
      ": Evaluate the new model against the test set:\n",
      "WARNING:tensorflow:Layers in a Sequential model should only have a single input tensor, but we receive a <class 'dict'> input: {'longitude': <tf.Tensor 'ExpandDims_3:0' shape=(100, 1) dtype=float32>, 'latitude': <tf.Tensor 'ExpandDims_2:0' shape=(100, 1) dtype=float32>, 'housing_median_age': <tf.Tensor 'ExpandDims_1:0' shape=(100, 1) dtype=float32>, 'total_rooms': <tf.Tensor 'ExpandDims_7:0' shape=(100, 1) dtype=float32>, 'total_bedrooms': <tf.Tensor 'ExpandDims_6:0' shape=(100, 1) dtype=float32>, 'population': <tf.Tensor 'ExpandDims_5:0' shape=(100, 1) dtype=float32>, 'households': <tf.Tensor 'ExpandDims:0' shape=(100, 1) dtype=float32>, 'median_income': <tf.Tensor 'ExpandDims_4:0' shape=(100, 1) dtype=float32>}\n",
      "Consider rewriting this model with the Functional API.\n",
      "30/30 [==============================] - 0s 2ms/step - loss: 9520.4883 - root_mean_squared_error: 97.5730\n"
     ]
    },
    {
     "data": {
      "text/plain": [
       "[9520.48828125, 97.572998046875]"
      ]
     },
     "execution_count": 14,
     "metadata": {},
     "output_type": "execute_result"
    }
   ],
   "source": [
    "# The following variables are the hyperparameters.\n",
    "learning_rate = 0.04\n",
    "epochs = 35\n",
    "\n",
    "# Build the model, this time passing in the feature_cross_feature_layer: \n",
    "my_model = create_model(learning_rate, feature_cross_feature_layer)\n",
    "\n",
    "# Train the model on the training set.\n",
    "epochs, rmse = train_model(my_model, train_df, epochs, batch_size, label_name)\n",
    "\n",
    "plot_the_loss_curve(epochs, rmse)\n",
    "\n",
    "print(\"\\n: Evaluate the new model against the test set:\")\n",
    "my_model.evaluate(x=test_features, y=test_label, batch_size=batch_size)"
   ]
  },
  {
   "cell_type": "markdown",
   "metadata": {
    "id": "bCT-l1GaWNQE"
   },
   "source": [
    "## Task 4: Did the feature cross outperform buckets?\n",
    "\n",
    "Compare the model's `root_mean_squared_error` values for the two representations (buckets vs. feature cross)?  Which model produced\n",
    "lower losses? "
   ]
  },
  {
   "cell_type": "code",
   "execution_count": 15,
   "metadata": {
    "cellView": "form",
    "id": "HUzdWDcs5rCi"
   },
   "outputs": [],
   "source": [
    "#@title Double-click for an answer to this question.\n",
    "\n",
    "# Yes, representing these features as a feature \n",
    "# cross produced much lower loss values than \n",
    "# representing these features as buckets"
   ]
  },
  {
   "cell_type": "markdown",
   "metadata": {
    "id": "J9Iw3ljfXqSQ"
   },
   "source": [
    "## Task 5: Adjust the resolution of the feature cross\n",
    "\n",
    "Return to the code cell in the \"Represent location as a feature cross\" section. Notice that `resolution_in_degrees` is set to 1.0. Therefore, each cell represents an area of 1.0 degree of latitude by 1.0 degree of longitude, which corresponds to a cell of 110 km by 90 km.  This resolution defines a rather large neighborhood. \n",
    "\n",
    "Experiment with `resolution_in_degrees` to answer the following questions:\n",
    "\n",
    "  1. What value of `resolution_in_degrees` produces the best results (lowest loss value)?\n",
    "  2. Why does loss increase when the value of `resolution_in_degrees` drops below a certain value?\n",
    "\n",
    "Finally, answer the following question:\n",
    "\n",
    "  3. What feature (that does not exist in the California Housing Dataset) would\n",
    "     be a better proxy for location than latitude X longitude."
   ]
  },
  {
   "cell_type": "code",
   "execution_count": 16,
   "metadata": {
    "cellView": "form",
    "id": "71WWwlhx4h0X"
   },
   "outputs": [],
   "source": [
    "#@title Double-click for possible answers to Task 5.\n",
    "\n",
    "#1. A resolution of ~0.4 degree provides the best \n",
    "#   results.\n",
    "\n",
    "#2. Below ~0.4 degree, loss increases because the \n",
    "#   dataset does not contain enough examples in \n",
    "#   each cell to accurately predict prices for \n",
    "#   those cells.\n",
    "\n",
    "#3. Postal code would be a far better feature \n",
    "#   than latitude X longitude, assuming that \n",
    "#   the dataset contained sufficient examples \n",
    "#   in each postal code."
   ]
  }
 ],
 "metadata": {
  "colab": {
   "collapsed_sections": [],
   "name": "Representation with a Feature Cross.ipynb",
   "private_outputs": true,
   "provenance": []
  },
  "kernelspec": {
   "display_name": "Python 3",
   "language": "python",
   "name": "python3"
  },
  "language_info": {
   "codemirror_mode": {
    "name": "ipython",
    "version": 3
   },
   "file_extension": ".py",
   "mimetype": "text/x-python",
   "name": "python",
   "nbconvert_exporter": "python",
   "pygments_lexer": "ipython3",
   "version": "3.8.3"
  }
 },
 "nbformat": 4,
 "nbformat_minor": 1
}
