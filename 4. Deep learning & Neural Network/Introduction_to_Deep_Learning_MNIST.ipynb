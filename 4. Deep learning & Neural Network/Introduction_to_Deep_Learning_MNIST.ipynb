{
  "nbformat": 4,
  "nbformat_minor": 0,
  "metadata": {
    "colab": {
      "name": "Introduction to Deep Learning - MNIST.ipynb",
      "provenance": [],
      "collapsed_sections": [],
      "toc_visible": true
    },
    "kernelspec": {
      "name": "python3",
      "display_name": "Python 3"
    },
    "accelerator": "GPU"
  },
  "cells": [
    {
      "cell_type": "code",
      "metadata": {
        "id": "H-dTPz38-GnC",
        "colab_type": "code",
        "colab": {}
      },
      "source": [
        "import tensorflow as tf"
      ],
      "execution_count": null,
      "outputs": []
    },
    {
      "cell_type": "markdown",
      "metadata": {
        "id": "aPKFgECO9-lq",
        "colab_type": "text"
      },
      "source": [
        "## Check your runtime environment (optional)\n",
        "\n",
        "Usually it is recommended to use GPU to train a CNN. Based on our dataset, it takes ~1min to train a single epoch using CPU, while only 10s when using a GPU."
      ]
    },
    {
      "cell_type": "code",
      "metadata": {
        "id": "llVMYBvs-KpG",
        "colab_type": "code",
        "colab": {}
      },
      "source": [
        "tf.test.gpu_device_name()  # check available gpu"
      ],
      "execution_count": null,
      "outputs": []
    },
    {
      "cell_type": "markdown",
      "metadata": {
        "id": "2qDaz9xl10cY",
        "colab_type": "text"
      },
      "source": [
        "## Load Dataset"
      ]
    },
    {
      "cell_type": "code",
      "metadata": {
        "id": "-3aN7W8iyEcD",
        "colab_type": "code",
        "colab": {}
      },
      "source": [
        "from tensorflow.keras.datasets import mnist\n",
        "from collections import Counter\n",
        "\n",
        "import numpy as np\n",
        "import matplotlib.pyplot as plt\n",
        "\n",
        "%matplotlib inline"
      ],
      "execution_count": null,
      "outputs": []
    },
    {
      "cell_type": "code",
      "metadata": {
        "id": "IXnbVWjPyPWS",
        "colab_type": "code",
        "colab": {}
      },
      "source": [
        "(x_train, y_train), (x_test, y_test) = mnist.load_data()"
      ],
      "execution_count": null,
      "outputs": []
    },
    {
      "cell_type": "markdown",
      "metadata": {
        "id": "kyXelsn52ZKd",
        "colab_type": "text"
      },
      "source": [
        "### Get familiar with your data"
      ]
    },
    {
      "cell_type": "code",
      "metadata": {
        "id": "S2OEVMzzzTw4",
        "colab_type": "code",
        "colab": {}
      },
      "source": [
        "y_train.shape"
      ],
      "execution_count": null,
      "outputs": []
    },
    {
      "cell_type": "code",
      "metadata": {
        "id": "E_-iBiTe7y4J",
        "colab_type": "code",
        "colab": {}
      },
      "source": [
        "y_train[:5]"
      ],
      "execution_count": null,
      "outputs": []
    },
    {
      "cell_type": "code",
      "metadata": {
        "id": "VTlR9XpZzY2Z",
        "colab_type": "code",
        "colab": {}
      },
      "source": [
        "Counter(y_train)  # Check the distribution of classess"
      ],
      "execution_count": null,
      "outputs": []
    },
    {
      "cell_type": "code",
      "metadata": {
        "id": "LFHH-irY2VQ9",
        "colab_type": "code",
        "colab": {}
      },
      "source": [
        "x_train.shape"
      ],
      "execution_count": null,
      "outputs": []
    },
    {
      "cell_type": "code",
      "metadata": {
        "id": "cnDn1Jn68CXm",
        "colab_type": "code",
        "colab": {}
      },
      "source": [
        "x_test.shape"
      ],
      "execution_count": null,
      "outputs": []
    },
    {
      "cell_type": "code",
      "metadata": {
        "id": "7xP082tv3Inx",
        "colab_type": "code",
        "colab": {}
      },
      "source": [
        "def show_image(image):\n",
        "  \"\"\"A helper to display grey scale image\"\"\"\n",
        "  plt.imshow(image, cmap='Greys')"
      ],
      "execution_count": null,
      "outputs": []
    },
    {
      "cell_type": "code",
      "metadata": {
        "id": "BjaX5K8c4Lk8",
        "colab_type": "code",
        "colab": {}
      },
      "source": [
        "show_image(x_train[6])"
      ],
      "execution_count": null,
      "outputs": []
    },
    {
      "cell_type": "code",
      "metadata": {
        "id": "nFUJ88_BM8Er",
        "colab_type": "code",
        "colab": {}
      },
      "source": [
        "x_train[0]"
      ],
      "execution_count": null,
      "outputs": []
    },
    {
      "cell_type": "markdown",
      "metadata": {
        "id": "bh2bhUN24h43",
        "colab_type": "text"
      },
      "source": [
        "## Preprocessing\n",
        "\n",
        "- Reshape dataset by adding channel dimension (as required by Keras API)\n",
        "- Normalize data"
      ]
    },
    {
      "cell_type": "code",
      "metadata": {
        "id": "I7wqQu0a4RmZ",
        "colab_type": "code",
        "colab": {}
      },
      "source": [
        "# Add channel dimension and asting the dtype to float for decimal computation\n",
        "\n",
        "x_train = np.expand_dims(x_train, -1).astype('float32')  # Add one dim to the end\n",
        "x_test = np.expand_dims(x_test, -1).astype('float32')\n",
        "\n",
        "print('Shape of training data:', x_train.shape)\n",
        "print('Data type of training data:', x_train.dtype)"
      ],
      "execution_count": null,
      "outputs": []
    },
    {
      "cell_type": "code",
      "metadata": {
        "id": "qc73l8Vw5eaB",
        "colab_type": "code",
        "colab": {}
      },
      "source": [
        "# Normalization\n",
        "x_train /= 255.0\n",
        "x_test /= 255.0"
      ],
      "execution_count": null,
      "outputs": []
    },
    {
      "cell_type": "markdown",
      "metadata": {
        "id": "e_20ZBxM62AG",
        "colab_type": "text"
      },
      "source": [
        "## Build the Convolutional Neural Network\n",
        "\n",
        "We will build a netowrk with the following layers:\n",
        "- Convolutional layer with 28 3X3 kernels\n",
        "- Max Pooling layer with 2X2 tile\n",
        "- Flatten layer to convert 2D image into a 1D vector\n",
        "- Fully connected layer with 128 units\n",
        "- Output layer with softmax"
      ]
    },
    {
      "cell_type": "code",
      "metadata": {
        "id": "hPGtpSr060c9",
        "colab_type": "code",
        "colab": {}
      },
      "source": [
        "from tensorflow.keras.models import Sequential\n",
        "from tensorflow.keras.layers import Conv2D, MaxPooling2D, Flatten, Dense, Dropout"
      ],
      "execution_count": null,
      "outputs": []
    },
    {
      "cell_type": "code",
      "metadata": {
        "id": "pv9ucB1C7oor",
        "colab_type": "code",
        "colab": {}
      },
      "source": [
        "model = Sequential()\n",
        "\n",
        "model.add(Conv2D(filters=28, kernel_size=(3, 3), input_shape=(28, 28, 1)))\n",
        "model.add(MaxPooling2D(pool_size=(2, 2)))\n",
        "model.add(Flatten())\n",
        "model.add(Dense(128, activation='relu'))\n",
        "model.add(Dropout(rate=0.2))  # 0.5 probability to drop a neuron\n",
        "model.add(Dense(10, activation='softmax'))  # 10 possible output classes"
      ],
      "execution_count": null,
      "outputs": []
    },
    {
      "cell_type": "code",
      "metadata": {
        "id": "YmToYboA8hAH",
        "colab_type": "code",
        "colab": {}
      },
      "source": [
        "model.summary()"
      ],
      "execution_count": null,
      "outputs": []
    },
    {
      "cell_type": "markdown",
      "metadata": {
        "id": "GlkmaSFLTntw",
        "colab_type": "text"
      },
      "source": [
        "## Compile and train the model"
      ]
    },
    {
      "cell_type": "code",
      "metadata": {
        "id": "0or2Wc8B8wHT",
        "colab_type": "code",
        "colab": {}
      },
      "source": [
        "model.compile(\n",
        "    optimizer='adam',\n",
        "    loss='sparse_categorical_crossentropy',\n",
        "    metrics=['accuracy']\n",
        ")"
      ],
      "execution_count": null,
      "outputs": []
    },
    {
      "cell_type": "code",
      "metadata": {
        "id": "gQ5nZ1cy9Qcx",
        "colab_type": "code",
        "colab": {}
      },
      "source": [
        "history = model.fit(\n",
        "    x=x_train,\n",
        "    y=y_train,\n",
        "    validation_data=(x_test, y_test),\n",
        "    batch_size=64,\n",
        "    epochs=10\n",
        ")"
      ],
      "execution_count": null,
      "outputs": []
    },
    {
      "cell_type": "code",
      "metadata": {
        "id": "ci7IHhLVDwCv",
        "colab_type": "code",
        "colab": {}
      },
      "source": [
        "def plot_history(his, metrics):\n",
        "  \"\"\"\n",
        "  Given a history object returned from `fit` and the name of metrics,\n",
        "  plot the curve of metrics aginst number of epochs.\n",
        "  \"\"\"\n",
        "  for metric in metrics:\n",
        "    plt.plot(his.history[metric], label=metric)\n",
        "  plt.legend()"
      ],
      "execution_count": null,
      "outputs": []
    },
    {
      "cell_type": "code",
      "metadata": {
        "id": "_6eizm2NS7Ma",
        "colab_type": "code",
        "colab": {}
      },
      "source": [
        "plot_history(history, ['loss', 'val_loss'])"
      ],
      "execution_count": null,
      "outputs": []
    },
    {
      "cell_type": "code",
      "metadata": {
        "id": "wThtBPvQTGh4",
        "colab_type": "code",
        "colab": {}
      },
      "source": [
        "plot_history(history, ['accuracy', 'val_accuracy'])"
      ],
      "execution_count": null,
      "outputs": []
    },
    {
      "cell_type": "markdown",
      "metadata": {
        "id": "NareZV9-UZOW",
        "colab_type": "text"
      },
      "source": [
        "## Predict"
      ]
    },
    {
      "cell_type": "code",
      "metadata": {
        "id": "G09jiOqKUQYI",
        "colab_type": "code",
        "colab": {}
      },
      "source": [
        "def predict_image(model, image):\n",
        "  # Apply the same pre-processing\n",
        "  show_image(image)\n",
        "  pred = model.predict(image.reshape(1, 28, 28, 1))  # reshape to (batch, img_rows, img_cols, channel)\n",
        "  print(\"Raw prediction output:\", pred)\n",
        "  print(\"Predicted number:\", pred.argmax())"
      ],
      "execution_count": null,
      "outputs": []
    },
    {
      "cell_type": "code",
      "metadata": {
        "id": "pzLdEViSVxuP",
        "colab_type": "code",
        "colab": {}
      },
      "source": [
        "(_, _), (test_images, _) = mnist.load_data()"
      ],
      "execution_count": null,
      "outputs": []
    },
    {
      "cell_type": "code",
      "metadata": {
        "id": "uISaOn0jV5gF",
        "colab_type": "code",
        "colab": {}
      },
      "source": [
        "from random import randint\n",
        "\n",
        "test_image = test_images[randint(1, test_images.shape[0])]\n",
        "predict_image(model, test_image)"
      ],
      "execution_count": null,
      "outputs": []
    },
    {
      "cell_type": "code",
      "metadata": {
        "id": "vM_RlIjRWL7t",
        "colab_type": "code",
        "colab": {}
      },
      "source": [
        ""
      ],
      "execution_count": null,
      "outputs": []
    }
  ]
}